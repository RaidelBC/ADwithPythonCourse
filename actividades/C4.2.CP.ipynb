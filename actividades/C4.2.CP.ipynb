{
 "cells": [
  {
   "cell_type": "markdown",
   "metadata": {},
   "source": [
    "# Ejercicios"
   ]
  },
  {
   "cell_type": "code",
   "execution_count": null,
   "metadata": {},
   "outputs": [],
   "source": [
    "# 0. Crear un arreglo de una dimension con los numeros de 0 a 9\n"
   ]
  },
  {
   "cell_type": "code",
   "execution_count": null,
   "metadata": {},
   "outputs": [],
   "source": [
    "# 1. Crear un arreglo booleano de 3x3 con todos los valores en True\n"
   ]
  },
  {
   "cell_type": "code",
   "execution_count": null,
   "metadata": {},
   "outputs": [],
   "source": [
    "# 2. Extraer todos los numeros impares de un arreglo de 1D\n",
    "arr = np.arange(0,10)\n"
   ]
  },
  {
   "cell_type": "code",
   "execution_count": null,
   "metadata": {},
   "outputs": [],
   "source": [
    "# 3. Reemplace todos los numeros negativos por 33\n",
    "arr = np.random.randint(-10, 10, size=(10))\n"
   ]
  },
  {
   "cell_type": "code",
   "execution_count": null,
   "metadata": {},
   "outputs": [],
   "source": [
    "# 4. Reemplace todos los numeros positivos por -5, pero sin cambiar el arreglo original\n",
    "arr = np.random.randint(-10, 10, size=(10))\n"
   ]
  },
  {
   "cell_type": "code",
   "execution_count": null,
   "metadata": {},
   "outputs": [],
   "source": [
    "# 5. Convierta un arreglo 1D con los numeros del 1 al 10 en otro 2D con dos filas\n"
   ]
  },
  {
   "cell_type": "code",
   "execution_count": null,
   "metadata": {},
   "outputs": [],
   "source": [
    "# 6. Apile dos de estos arreglos horizontal y dos verticalmente\n",
    "a = np.ones((3, 2))\n",
    "b = np.ones((4, 2)) * 2\n",
    "c = np.ones((3, 5)) * 3\n"
   ]
  },
  {
   "cell_type": "code",
   "execution_count": null,
   "metadata": {},
   "outputs": [],
   "source": [
    "# 7. A partir del arreglo \n",
    "a = np.array([1, 2, 3])\n",
    "# Genere el arreglo \n",
    "out = np.array([1, 1, 1, 2, 2, 2, 3, 3, 3, 1, 2, 3, 1, 2, 3, 1, 2, 3])\n",
    "# Utilizando solamente funciones de numpy y 'a'\n"
   ]
  },
  {
   "cell_type": "code",
   "execution_count": null,
   "metadata": {},
   "outputs": [],
   "source": [
    "# 9. Obtener la posicion donde estos arreglos coinciden\n",
    "a = np.array([1,2,3,2,3,4,3,4,5,6])\n",
    "b = np.array([7,2,10,2,7,4,9,4,9,8])\n"
   ]
  },
  {
   "cell_type": "code",
   "execution_count": null,
   "metadata": {},
   "outputs": [],
   "source": [
    "# 10. Obtenga del siguiente arreglo un subarreglo con los valores entre 5 y 10, ambos incluidos\n",
    "a = np.array([2, 6, 1, 9, 10, 3, 27])\n"
   ]
  },
  {
   "cell_type": "code",
   "execution_count": null,
   "metadata": {},
   "outputs": [],
   "source": [
    "# 11. Intercambie la primera y segunda fila del siguiente arreglo\n",
    "arr = np.arange(9).reshape(3,3)\n"
   ]
  },
  {
   "cell_type": "code",
   "execution_count": null,
   "metadata": {},
   "outputs": [],
   "source": [
    "# 12. Intercambie las dos últimas columnas del siguiente arreglo\n",
    "arr = np.arange(9).reshape(3,3)\n"
   ]
  },
  {
   "cell_type": "code",
   "execution_count": null,
   "metadata": {},
   "outputs": [],
   "source": [
    "# 13. Invierta las filas del siguiente arreglo\n",
    "arr = np.arange(16).reshape(4,4)\n"
   ]
  },
  {
   "cell_type": "code",
   "execution_count": null,
   "metadata": {},
   "outputs": [],
   "source": [
    "# 14. Invierta las columnas del siguiente arreglo\n",
    "arr = np.arange(16).reshape(4,4)\n"
   ]
  },
  {
   "cell_type": "code",
   "execution_count": null,
   "metadata": {},
   "outputs": [],
   "source": [
    "# 15. Crea un arreglo 2d de 10x10 con 1 en el borde y 0 adentro\n"
   ]
  },
  {
   "cell_type": "code",
   "execution_count": null,
   "metadata": {},
   "outputs": [],
   "source": [
    "# 16. Crea un borde de valores 0 alrededor del siguiente arreglo 2d\n",
    "a = np.arange(9).reshape(3,3)\n"
   ]
  },
  {
   "cell_type": "code",
   "execution_count": null,
   "metadata": {},
   "outputs": [],
   "source": [
    "# 17. Crear una matriz de 5x5 con valores 1, 2, 3, ... justo debajo de la diagonal\n"
   ]
  },
  {
   "cell_type": "code",
   "execution_count": null,
   "metadata": {},
   "outputs": [],
   "source": [
    "# 18. Cree un patron de tablero de ajedrez de 8x8\n"
   ]
  },
  {
   "cell_type": "code",
   "execution_count": null,
   "metadata": {},
   "outputs": [],
   "source": [
    "# 19. Crear un patrón de tablero de ajedrez usando tile\n"
   ]
  },
  {
   "cell_type": "code",
   "execution_count": null,
   "metadata": {},
   "outputs": [],
   "source": [
    "# 20. Normalizar un arreglo aleatorio de 5x5\n",
    "arr = np.random.random((5,5))\n"
   ]
  },
  {
   "cell_type": "code",
   "execution_count": null,
   "metadata": {},
   "outputs": [],
   "source": [
    "# 21. Realice el producto de una matriz de 5x3 con otra de 3x2\n"
   ]
  },
  {
   "cell_type": "code",
   "execution_count": null,
   "metadata": {},
   "outputs": [],
   "source": [
    "# 22. En un arreglo 1D, halle el opuesto de todos los elementos entre 3 y 8\n",
    "arr = np.arange(1, 14)\n"
   ]
  },
  {
   "cell_type": "code",
   "execution_count": null,
   "metadata": {},
   "outputs": [],
   "source": [
    "# 23. Cree una matriz de 5x5 con valores en las filas del 1 al 4\n"
   ]
  },
  {
   "cell_type": "code",
   "execution_count": null,
   "metadata": {},
   "outputs": [],
   "source": [
    "# 24. Cree un vector de tamaño 10 con valores x-distantes entre 0 y 1, ambos excluidos.\n"
   ]
  },
  {
   "cell_type": "code",
   "execution_count": null,
   "metadata": {},
   "outputs": [],
   "source": [
    "# Hay una función para eso ...\n",
    "np.linspace(0,1,11,endpoint=False)[1:]"
   ]
  },
  {
   "cell_type": "code",
   "execution_count": null,
   "metadata": {},
   "outputs": [],
   "source": [
    "# 25. Considere un arreglo aleatorio de 10x2 con coordenadas cartesianas. Conviertalo a coordenadas polares\n",
    "cart = np.random.random((10,2))\n"
   ]
  },
  {
   "cell_type": "code",
   "execution_count": null,
   "metadata": {},
   "outputs": [],
   "source": [
    "# 26. Cree un vector aleatorio de tamaño 10 y substituya el valor máximo por 0\n",
    "# hint: np.argmax\n"
   ]
  },
  {
   "cell_type": "code",
   "execution_count": null,
   "metadata": {},
   "outputs": [],
   "source": [
    "# 27. Encuentre el valor mas cercano a un valor dado en un vector\n"
   ]
  },
  {
   "cell_type": "code",
   "execution_count": null,
   "metadata": {},
   "outputs": [],
   "source": [
    "# 28. Construya un arreglo de posiciones x,y que cubran el area [0,1]x[0,1]\n"
   ]
  },
  {
   "cell_type": "code",
   "execution_count": null,
   "metadata": {},
   "outputs": [],
   "source": [
    "# 29. Dado un arreglo de 4 dimensiones, conviertalo en un arreglo de 3 dimensiones colapsando las dos ultimas en 1\n",
    "arr = np.arange(48).reshape((2, 3, 4, 2))\n"
   ]
  },
  {
   "cell_type": "code",
   "execution_count": null,
   "metadata": {},
   "outputs": [],
   "source": [
    "# 30. Considere el vector [1,2,3,4,5]. Como hacemos un nuevo vector insertando 3 ceros consecutivos \n",
    "# entre cada uno de estos valores\n",
    "x = np.array([1, 2, 3, 4, 5])\n"
   ]
  },
  {
   "cell_type": "markdown",
   "metadata": {},
   "source": [
    "## Soluciones"
   ]
  },
  {
   "cell_type": "code",
   "execution_count": 7,
   "metadata": {},
   "outputs": [
    {
     "name": "stdout",
     "output_type": "stream",
     "text": [
      "[0 1 2 3 4 5 6 7 8 9]\n",
      "[0 1 2 3 4 5 6 7 8 9]\n",
      "[0 1 2 3 4 5 6 7 8 9]\n"
     ]
    }
   ],
   "source": [
    "import numpy as np\n",
    "# Crear un arreglo de una dimension con los numeros de 0 a 9\n",
    "print(np.arange(0,10))\n",
    "print(np.array(range(0,10)))\n",
    "print(np.array([0, 1, 2, 3, 4, 5, 6, 7, 8, 9]))"
   ]
  },
  {
   "cell_type": "code",
   "execution_count": 8,
   "metadata": {},
   "outputs": [
    {
     "name": "stdout",
     "output_type": "stream",
     "text": [
      "[[ True  True  True]\n",
      " [ True  True  True]\n",
      " [ True  True  True]]\n",
      "[[ True  True  True]\n",
      " [ True  True  True]\n",
      " [ True  True  True]]\n",
      "[[ True  True  True]\n",
      " [ True  True  True]\n",
      " [ True  True  True]]\n"
     ]
    },
    {
     "name": "stderr",
     "output_type": "stream",
     "text": [
      "/home/milton/miniconda3/envs/mlbase/lib/python3.7/site-packages/ipykernel_launcher.py:2: DeprecationWarning: `np.bool` is a deprecated alias for the builtin `bool`. To silence this warning, use `bool` by itself. Doing this will not modify any behavior and is safe. If you specifically wanted the numpy scalar type, use `np.bool_` here.\n",
      "Deprecated in NumPy 1.20; for more details and guidance: https://numpy.org/devdocs/release/1.20.0-notes.html#deprecations\n",
      "  \n",
      "/home/milton/miniconda3/envs/mlbase/lib/python3.7/site-packages/ipykernel_launcher.py:4: DeprecationWarning: `np.bool` is a deprecated alias for the builtin `bool`. To silence this warning, use `bool` by itself. Doing this will not modify any behavior and is safe. If you specifically wanted the numpy scalar type, use `np.bool_` here.\n",
      "Deprecated in NumPy 1.20; for more details and guidance: https://numpy.org/devdocs/release/1.20.0-notes.html#deprecations\n",
      "  after removing the cwd from sys.path.\n"
     ]
    }
   ],
   "source": [
    "# 1. Crear un arreglo booleano de 3x3 con todos los valores en True\n",
    "print(np.full((3,3), True, dtype=np.bool))\n",
    "print(np.zeros((3,3)) == 0)\n",
    "print(np.ones((3,3), dtype=np.bool))"
   ]
  },
  {
   "cell_type": "code",
   "execution_count": 17,
   "metadata": {},
   "outputs": [
    {
     "data": {
      "text/plain": [
       "array([1, 3, 5, 7, 9])"
      ]
     },
     "execution_count": 17,
     "metadata": {},
     "output_type": "execute_result"
    }
   ],
   "source": [
    "# 2. Extraer todos los numeros impares de un arreglo de 1D\n",
    "arr = np.arange(0,10)\n",
    "arr[arr % 2 == 1]"
   ]
  },
  {
   "cell_type": "code",
   "execution_count": 20,
   "metadata": {},
   "outputs": [
    {
     "data": {
      "text/plain": [
       "array([0, 2, 3])"
      ]
     },
     "execution_count": 20,
     "metadata": {},
     "output_type": "execute_result"
    }
   ],
   "source": [
    "arr = np.arange(5)\n",
    "arr[[True, False, True, True, False]]"
   ]
  },
  {
   "cell_type": "code",
   "execution_count": 14,
   "metadata": {},
   "outputs": [
    {
     "data": {
      "text/plain": [
       "array([0, 1, 2, 3, 4, 5, 6, 7, 8, 9])"
      ]
     },
     "execution_count": 14,
     "metadata": {},
     "output_type": "execute_result"
    }
   ],
   "source": [
    "arr"
   ]
  },
  {
   "cell_type": "code",
   "execution_count": 16,
   "metadata": {},
   "outputs": [
    {
     "name": "stdout",
     "output_type": "stream",
     "text": [
      "[-10  -6   7  -1   7   6   2  -5  -5  -3]\n",
      "[33 33  7 33  7  6  2 33 33 33]\n"
     ]
    }
   ],
   "source": [
    "# 3. Reemplace todos los numeros negativos por 33\n",
    "arr = np.random.randint(-10, 10, size=(10))\n",
    "print(arr)\n",
    "arr[arr < 0] = 33\n",
    "print(arr)"
   ]
  },
  {
   "cell_type": "code",
   "execution_count": null,
   "metadata": {},
   "outputs": [],
   "source": [
    "# 4. Reemplace todos los numeros positivos por -5, pero sin cambiar el arreglo original\n",
    "arr = np.random.randint(-10, 10, size=(10))\n",
    "print(arr)\n",
    "np.where(arr > 0, -5, arr)"
   ]
  },
  {
   "cell_type": "code",
   "execution_count": 24,
   "metadata": {},
   "outputs": [
    {
     "data": {
      "text/plain": [
       "array([[ 1,  2,  3,  4,  5],\n",
       "       [ 6,  7,  8,  9, 10]])"
      ]
     },
     "execution_count": 24,
     "metadata": {},
     "output_type": "execute_result"
    }
   ],
   "source": [
    "# 5. Convierta un arreglo 1D con los numeros del 1 al 10 en otro 2D con dos filas\n",
    "a = np.arange(1, 11)\n",
    "a.reshape((-1, 5))"
   ]
  },
  {
   "cell_type": "code",
   "execution_count": 25,
   "metadata": {},
   "outputs": [
    {
     "name": "stdout",
     "output_type": "stream",
     "text": [
      "[[1. 1. 3. 3. 3. 3. 3.]\n",
      " [1. 1. 3. 3. 3. 3. 3.]\n",
      " [1. 1. 3. 3. 3. 3. 3.]]\n",
      "[[1. 1.]\n",
      " [1. 1.]\n",
      " [1. 1.]\n",
      " [2. 2.]\n",
      " [2. 2.]\n",
      " [2. 2.]\n",
      " [2. 2.]]\n"
     ]
    }
   ],
   "source": [
    "# 6. Apile dos de estos arreglos horizontal y dos verticalmente\n",
    "a = np.ones((3, 2))\n",
    "b = np.ones((4, 2)) * 2\n",
    "c = np.ones((3, 5)) * 3\n",
    "print(np.hstack([a, c]))\n",
    "print(np.vstack([a, b]))"
   ]
  },
  {
   "cell_type": "code",
   "execution_count": null,
   "metadata": {},
   "outputs": [],
   "source": [
    "# 7. A partir del arreglo \n",
    "a = np.array([1, 2, 3])\n",
    "# Genere el arreglo \n",
    "out = np.array([1, 1, 1, 2, 2, 2, 3, 3, 3, 1, 2, 3, 1, 2, 3, 1, 2, 3])\n",
    "# Utilizando solamente funciones de numpy y 'a'\n",
    "np.hstack([\n",
    "    np.vstack([a, a, a]).T.reshape((1, -1))[0],\n",
    "    a, a, a])"
   ]
  },
  {
   "cell_type": "code",
   "execution_count": null,
   "metadata": {},
   "outputs": [],
   "source": [
    "# 8. Todo lo que parece complicado, hay una forma mejor de hacerlo\n",
    "np.r_[np.repeat(a,3), np.tile(a, 3)]"
   ]
  },
  {
   "cell_type": "code",
   "execution_count": 26,
   "metadata": {},
   "outputs": [
    {
     "data": {
      "text/plain": [
       "(array([1, 3, 5, 7]),)"
      ]
     },
     "execution_count": 26,
     "metadata": {},
     "output_type": "execute_result"
    }
   ],
   "source": [
    "# 9. Obtener la posicion donde estos arreglos coinciden\n",
    "a = np.array([1,2,3,2,3,4,3,4,5,6])\n",
    "b = np.array([7,2,10,2,7,4,9,4,9,8])\n",
    "np.where(a == b)"
   ]
  },
  {
   "cell_type": "code",
   "execution_count": 27,
   "metadata": {},
   "outputs": [
    {
     "data": {
      "text/plain": [
       "array([ 6,  9, 10])"
      ]
     },
     "execution_count": 27,
     "metadata": {},
     "output_type": "execute_result"
    }
   ],
   "source": [
    "# 10. Obtenga del siguiente arreglo un subarreglo con los valores entre 5 y 10, ambos incluidos\n",
    "a = np.array([2, 6, 1, 9, 10, 3, 27])\n",
    "a[np.where((5 <= a) & (a <= 10))]"
   ]
  },
  {
   "cell_type": "code",
   "execution_count": 29,
   "metadata": {},
   "outputs": [
    {
     "name": "stdout",
     "output_type": "stream",
     "text": [
      "[[0 1 2]\n",
      " [3 4 5]\n",
      " [6 7 8]]\n"
     ]
    },
    {
     "data": {
      "text/plain": [
       "array([[0, 1, 2],\n",
       "       [0, 1, 2],\n",
       "       [3, 4, 5],\n",
       "       [0, 1, 2],\n",
       "       [6, 7, 8]])"
      ]
     },
     "execution_count": 29,
     "metadata": {},
     "output_type": "execute_result"
    }
   ],
   "source": [
    "# 11. Intercambie la primera y segunda fila del siguiente arreglo\n",
    "arr = np.arange(9).reshape(3,3)\n",
    "print(arr)\n",
    "arr[[0,0,1, 0, 2], :]"
   ]
  },
  {
   "cell_type": "code",
   "execution_count": 31,
   "metadata": {},
   "outputs": [
    {
     "name": "stdout",
     "output_type": "stream",
     "text": [
      "[[0 1 2]\n",
      " [3 4 5]\n",
      " [6 7 8]]\n"
     ]
    },
    {
     "data": {
      "text/plain": [
       "array([[0, 1],\n",
       "       [3, 4],\n",
       "       [6, 7]])"
      ]
     },
     "execution_count": 31,
     "metadata": {},
     "output_type": "execute_result"
    }
   ],
   "source": [
    "# 12. Intercambie las dos últimas columnas del siguiente arreglo\n",
    "arr = np.arange(9).reshape(3,3)\n",
    "print(arr)\n",
    "arr[:, [0, 1]]"
   ]
  },
  {
   "cell_type": "code",
   "execution_count": 5,
   "metadata": {},
   "outputs": [
    {
     "name": "stdout",
     "output_type": "stream",
     "text": [
      "[[ 0  1  2  3]\n",
      " [ 4  5  6  7]\n",
      " [ 8  9 10 11]\n",
      " [12 13 14 15]]\n"
     ]
    },
    {
     "data": {
      "text/plain": [
       "array([[12, 13, 14, 15],\n",
       "       [ 8,  9, 10, 11],\n",
       "       [ 4,  5,  6,  7],\n",
       "       [ 0,  1,  2,  3]])"
      ]
     },
     "execution_count": 5,
     "metadata": {},
     "output_type": "execute_result"
    }
   ],
   "source": [
    "# 13. Invierta las filas del siguiente arreglo\n",
    "arr = np.arange(16).reshape(4,4)\n",
    "print(arr)\n",
    "arr[np.arange(3, -1, -1), :]"
   ]
  },
  {
   "cell_type": "code",
   "execution_count": 34,
   "metadata": {},
   "outputs": [
    {
     "data": {
      "text/plain": [
       "array([[2, 1, 0],\n",
       "       [5, 4, 3],\n",
       "       [8, 7, 6]])"
      ]
     },
     "execution_count": 34,
     "metadata": {},
     "output_type": "execute_result"
    }
   ],
   "source": [
    "# Otra, mas simple\n",
    "arr[:, ::-1]"
   ]
  },
  {
   "cell_type": "code",
   "execution_count": 6,
   "metadata": {},
   "outputs": [
    {
     "name": "stdout",
     "output_type": "stream",
     "text": [
      "[[ 0  1  2  3]\n",
      " [ 4  5  6  7]\n",
      " [ 8  9 10 11]\n",
      " [12 13 14 15]]\n"
     ]
    },
    {
     "data": {
      "text/plain": [
       "array([[ 3,  2,  1,  0],\n",
       "       [ 7,  6,  5,  4],\n",
       "       [11, 10,  9,  8],\n",
       "       [15, 14, 13, 12]])"
      ]
     },
     "execution_count": 6,
     "metadata": {},
     "output_type": "execute_result"
    }
   ],
   "source": [
    "# 14. Invierta las columnas del siguiente arreglo\n",
    "arr = np.arange(16).reshape(4,4)\n",
    "print(arr)\n",
    "arr[:,::-1]"
   ]
  },
  {
   "cell_type": "code",
   "execution_count": 36,
   "metadata": {},
   "outputs": [
    {
     "data": {
      "text/plain": [
       "array([[1., 1., 1., 1., 1., 1., 1., 1.],\n",
       "       [1., 0., 0., 0., 0., 0., 0., 1.],\n",
       "       [1., 0., 0., 0., 0., 0., 0., 1.],\n",
       "       [1., 1., 1., 1., 1., 1., 1., 1.]])"
      ]
     },
     "execution_count": 36,
     "metadata": {},
     "output_type": "execute_result"
    }
   ],
   "source": [
    "# 15. Crea un arreglo 2d con 1 en el borde y 0 adentro\n",
    "def cuad(size):\n",
    "    a = np.ones(size)\n",
    "    a[1:-1,1:-1] = 0\n",
    "    return a\n",
    "\n",
    "cuad((4, 8))"
   ]
  },
  {
   "cell_type": "code",
   "execution_count": 38,
   "metadata": {},
   "outputs": [
    {
     "name": "stdout",
     "output_type": "stream",
     "text": [
      "[[0 1 2]\n",
      " [3 4 5]\n",
      " [6 7 8]]\n",
      "[[0. 0. 0. 0. 0.]\n",
      " [0. 0. 1. 2. 0.]\n",
      " [0. 3. 4. 5. 0.]\n",
      " [0. 6. 7. 8. 0.]\n",
      " [0. 0. 0. 0. 0.]]\n"
     ]
    }
   ],
   "source": [
    "# 16. Crea un borde de valores 0 alrededor de un arreglo 2d\n",
    "a = np.arange(9).reshape(3,3)\n",
    "print(a)\n",
    "r,c = a.shape\n",
    "b = np.zeros((r+2, c+2))\n",
    "b[1:-1, 1:-1] = a\n",
    "print(b)"
   ]
  },
  {
   "cell_type": "code",
   "execution_count": null,
   "metadata": {},
   "outputs": [],
   "source": [
    "# Como siempre, hay algo mas simple ...\n",
    "np.pad(a, pad_width=1, mode='constant', constant_values=0)"
   ]
  },
  {
   "cell_type": "code",
   "execution_count": null,
   "metadata": {},
   "outputs": [],
   "source": [
    "# 17. Crear una matriz de 5x5 con valores 1, 2, 3, ... justo debajo de la diagonal\n",
    "a = np.zeros((5, 5))\n",
    "for idx in range(4):\n",
    "    a[idx+1, idx] = idx + 1\n",
    "a"
   ]
  },
  {
   "cell_type": "code",
   "execution_count": null,
   "metadata": {},
   "outputs": [],
   "source": [
    "# Forma mas simple\n",
    "np.diag([1, 2, 3, 4], k=-1)"
   ]
  },
  {
   "cell_type": "code",
   "execution_count": 45,
   "metadata": {},
   "outputs": [
    {
     "data": {
      "text/plain": [
       "array([[0, 1, 0, 1, 0, 1, 0, 1],\n",
       "       [1, 0, 1, 0, 1, 0, 1, 0],\n",
       "       [0, 1, 0, 1, 0, 1, 0, 1],\n",
       "       [1, 0, 1, 0, 1, 0, 1, 0],\n",
       "       [0, 1, 0, 1, 0, 1, 0, 1],\n",
       "       [1, 0, 1, 0, 1, 0, 1, 0],\n",
       "       [0, 1, 0, 1, 0, 1, 0, 1],\n",
       "       [1, 0, 1, 0, 1, 0, 1, 0]])"
      ]
     },
     "execution_count": 45,
     "metadata": {},
     "output_type": "execute_result"
    }
   ],
   "source": [
    "(np.arange(0,81).reshape((9,-1)) % 2)[:8,:8]"
   ]
  },
  {
   "cell_type": "code",
   "execution_count": 47,
   "metadata": {},
   "outputs": [
    {
     "data": {
      "text/plain": [
       "array([[ 0,  1,  2,  3,  4,  5,  6,  7,  8],\n",
       "       [ 9, 10, 11, 12, 13, 14, 15, 16, 17],\n",
       "       [18, 19, 20, 21, 22, 23, 24, 25, 26],\n",
       "       [27, 28, 29, 30, 31, 32, 33, 34, 35],\n",
       "       [36, 37, 38, 39, 40, 41, 42, 43, 44],\n",
       "       [45, 46, 47, 48, 49, 50, 51, 52, 53],\n",
       "       [54, 55, 56, 57, 58, 59, 60, 61, 62],\n",
       "       [63, 64, 65, 66, 67, 68, 69, 70, 71],\n",
       "       [72, 73, 74, 75, 76, 77, 78, 79, 80]])"
      ]
     },
     "execution_count": 47,
     "metadata": {},
     "output_type": "execute_result"
    }
   ],
   "source": [
    "np.arange(0,81).reshape((9,-1))"
   ]
  },
  {
   "cell_type": "code",
   "execution_count": 48,
   "metadata": {},
   "outputs": [
    {
     "data": {
      "text/plain": [
       "array([[0., 1., 0., 1., 0., 1., 0., 1.],\n",
       "       [1., 0., 1., 0., 1., 0., 1., 0.],\n",
       "       [0., 1., 0., 1., 0., 1., 0., 1.],\n",
       "       [1., 0., 1., 0., 1., 0., 1., 0.],\n",
       "       [0., 1., 0., 1., 0., 1., 0., 1.],\n",
       "       [1., 0., 1., 0., 1., 0., 1., 0.],\n",
       "       [0., 1., 0., 1., 0., 1., 0., 1.],\n",
       "       [1., 0., 1., 0., 1., 0., 1., 0.]])"
      ]
     },
     "execution_count": 48,
     "metadata": {},
     "output_type": "execute_result"
    }
   ],
   "source": [
    "# 18. Cree un patron de tablero de ajedrez de 8x8\n",
    "a = np.ones((8,8))\n",
    "a[::2,::2] = 0\n",
    "a[1::2,1::2]=0\n",
    "a"
   ]
  },
  {
   "cell_type": "code",
   "execution_count": null,
   "metadata": {},
   "outputs": [],
   "source": [
    "# 19. Crear un patrón de tablero de ajedrez usando tile\n",
    "np.tile([1, 0], 36).reshape((-1, 9))[:, :-1]"
   ]
  },
  {
   "cell_type": "code",
   "execution_count": null,
   "metadata": {},
   "outputs": [],
   "source": [
    "# otra solucion"
   ]
  },
  {
   "cell_type": "code",
   "execution_count": null,
   "metadata": {},
   "outputs": [],
   "source": [
    "np.tile([[0, 1],[1,0]], (4,4))"
   ]
  },
  {
   "cell_type": "code",
   "execution_count": null,
   "metadata": {},
   "outputs": [],
   "source": [
    "# 20. Normalizar un arreglo aleatorio de 5x5\n",
    "arr = np.random.random((5,5))\n",
    "m = np.mean(arr)\n",
    "st = np.std(arr)\n",
    "norm = (arr - m)/st\n",
    "print(norm)\n",
    "print(sum(sum(norm)))"
   ]
  },
  {
   "cell_type": "code",
   "execution_count": null,
   "metadata": {},
   "outputs": [],
   "source": [
    "# 21. Realice el producto de una matriz de 5x3 con otra de 3x2\n",
    "np.ones((5,3)).dot(np.ones((3, 2)))"
   ]
  },
  {
   "cell_type": "code",
   "execution_count": null,
   "metadata": {},
   "outputs": [],
   "source": [
    "# 22. En un arreglo 1D, halle el opuesto de todos los elementos entre 3 y 8\n",
    "arr = np.arange(1, 14)\n",
    "arr[(arr >= 3)&(arr <=8)] *= -1\n",
    "arr"
   ]
  },
  {
   "cell_type": "code",
   "execution_count": null,
   "metadata": {},
   "outputs": [],
   "source": [
    "# 23. Cree una matriz de 5x5 con valores en las filas del 1 al 4\n",
    "arr = np.zeros((5, 5))\n",
    "arr + np.arange(5)"
   ]
  },
  {
   "cell_type": "code",
   "execution_count": null,
   "metadata": {},
   "outputs": [],
   "source": [
    "# sin broadcast\n",
    "np.tile(np.arange(5), (5,1))"
   ]
  },
  {
   "cell_type": "code",
   "execution_count": null,
   "metadata": {},
   "outputs": [],
   "source": [
    "# 24. Cree un vector de tamaño 10 con valores x-distantes entre 0 y 1, ambos excluidos.\n",
    "(np.arange(0,11)*(1/11))[1:-1]"
   ]
  },
  {
   "cell_type": "code",
   "execution_count": 49,
   "metadata": {},
   "outputs": [
    {
     "data": {
      "text/plain": [
       "array([0.09090909, 0.18181818, 0.27272727, 0.36363636, 0.45454545,\n",
       "       0.54545455, 0.63636364, 0.72727273, 0.81818182, 0.90909091])"
      ]
     },
     "execution_count": 49,
     "metadata": {},
     "output_type": "execute_result"
    }
   ],
   "source": [
    "# Hay una función para eso ...\n",
    "np.linspace(0,1,11,endpoint=False)[1:]"
   ]
  },
  {
   "cell_type": "code",
   "execution_count": null,
   "metadata": {},
   "outputs": [],
   "source": [
    "# 25. Considere un arreglo aleatorio de 10x2 con coordenadas cartesianas. Conviertalo a coordenadas polares\n",
    "cart = np.random.random((10,2))\n",
    "x, y = cart[:,0], cart[:,1]\n",
    "r = np.sqrt(x**2+y**2)\n",
    "t = np.arctan2(y, x)\n",
    "print(cart)\n",
    "np.hstack([r[:,np.newaxis], t[:, np.newaxis]])"
   ]
  },
  {
   "cell_type": "code",
   "execution_count": null,
   "metadata": {},
   "outputs": [],
   "source": [
    "# 26. Cree un vector aleatorio de tamaño 10 y substituya el valor máximo por 0\n",
    "# hint: np.argmax\n",
    "v = np.random.random(10)\n",
    "v[np.argmax(v)] = 0\n",
    "v"
   ]
  },
  {
   "cell_type": "code",
   "execution_count": null,
   "metadata": {},
   "outputs": [],
   "source": [
    "# 27. Encuentre el valor mas cercano a un valor dado en un vector\n",
    "arr = np.random.randint(0,100, size=(20))\n",
    "v = 15\n",
    "print(arr)\n",
    "arr[np.argmin(np.abs(arr - v))]"
   ]
  },
  {
   "cell_type": "code",
   "execution_count": null,
   "metadata": {},
   "outputs": [],
   "source": [
    "# 28. Construya un arreglo de posiciones x,y que cubran el area [0,1]x[0,1]\n",
    "delta = 5\n",
    "import itertools as it\n",
    "np.array(list(it.product(range(0,delta), range(0, delta)))) / (delta - 1)"
   ]
  },
  {
   "cell_type": "code",
   "execution_count": null,
   "metadata": {
    "scrolled": true
   },
   "outputs": [],
   "source": [
    "# Hay una función para esto ...\n",
    "delta = 5\n",
    "x, y = np.meshgrid(np.linspace(0,1,delta), np.linspace(0,1,delta))\n",
    "x,y\n",
    "# note que esta función devuelve cada coordenada en un arreglo independiente, y de forma comoda para graficar"
   ]
  },
  {
   "cell_type": "code",
   "execution_count": null,
   "metadata": {},
   "outputs": [],
   "source": [
    "np.sin(x**2 + y**2)"
   ]
  },
  {
   "cell_type": "code",
   "execution_count": null,
   "metadata": {},
   "outputs": [],
   "source": [
    "# 29. Dado un arreglo de 4 dimensiones, conviertalo en un arreglo de 3 dimensiones colapsando las dos ultimas en 1\n",
    "arr = np.arange(48).reshape((2, 3, 4, 2))\n",
    "print(arr)\n",
    "arr2 = arr.reshape(arr.shape[:-2]+(-1,))\n",
    "print(arr2)"
   ]
  },
  {
   "cell_type": "code",
   "execution_count": null,
   "metadata": {},
   "outputs": [],
   "source": [
    "# 30. Considere el vector [1,2,3,4,5]. Como hacemos un nuevo vector insertando 3 ceros consecutivos \n",
    "# entre cada uno de estos valores\n",
    "x = np.array([1, 2, 3, 4, 5])\n",
    "nz = 6\n",
    "np.hstack([x[:,np.newaxis], np.zeros((5, nz))]).reshape((1,-1))"
   ]
  },
  {
   "cell_type": "code",
   "execution_count": null,
   "metadata": {},
   "outputs": [],
   "source": [
    "# otra solución\n",
    "result = np.zeros(len(x)+(len(x)-1)*nz)\n",
    "result[::nz+1] = x\n",
    "result"
   ]
  },
  {
   "cell_type": "code",
   "execution_count": null,
   "metadata": {},
   "outputs": [],
   "source": []
  }
 ],
 "metadata": {
  "kernelspec": {
   "display_name": "Python [conda env:mlbase]",
   "language": "python",
   "name": "conda-env-mlbase-py"
  },
  "language_info": {
   "codemirror_mode": {
    "name": "ipython",
    "version": 3
   },
   "file_extension": ".py",
   "mimetype": "text/x-python",
   "name": "python",
   "nbconvert_exporter": "python",
   "pygments_lexer": "ipython3",
   "version": "3.7.13"
  }
 },
 "nbformat": 4,
 "nbformat_minor": 2
}
