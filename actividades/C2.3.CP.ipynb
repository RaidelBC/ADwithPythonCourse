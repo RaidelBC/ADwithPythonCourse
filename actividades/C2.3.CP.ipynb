{
 "cells": [
  {
   "cell_type": "markdown",
   "metadata": {},
   "source": [
    "# Ejercicios Conf 2"
   ]
  },
  {
   "cell_type": "markdown",
   "metadata": {},
   "source": [
    "## Tips"
   ]
  },
  {
   "cell_type": "code",
   "execution_count": null,
   "metadata": {},
   "outputs": [],
   "source": [
    "# Se puede iterar por los elementos de una lista usando un **for**\n",
    "lista = [3, 5, 2, 4]\n",
    "for v in lista:\n",
    "    print(v, end=\",\")"
   ]
  },
  {
   "cell_type": "code",
   "execution_count": null,
   "metadata": {},
   "outputs": [],
   "source": [
    "for v in ['a', 'c', 't']:\n",
    "    print(v, end=\"->\")"
   ]
  },
  {
   "cell_type": "markdown",
   "metadata": {},
   "source": [
    "## Preguntas"
   ]
  },
  {
   "cell_type": "code",
   "execution_count": null,
   "metadata": {},
   "outputs": [],
   "source": [
    "# 1. Cree un diccionario de precios por libras de fruta\n",
    "# Entre el nombre de la fruta y la cantidad, imprima precio total"
   ]
  },
  {
   "cell_type": "code",
   "execution_count": null,
   "metadata": {},
   "outputs": [],
   "source": [
    "# 2. Entre la cantidad de CUP de una persona y la moneda a convertir.\n",
    "# Imprima la cantidad convertida.\n",
    "# La tasa para cada moneda y su símbolo (para el resultado) debe \n",
    "# estar en un diccionario\n",
    "tasas = {\n",
    "    \"eur\": {\"tasa\": 140, \"simbolo\": \"€\"},\n",
    "    \"mlc\": {\"tasa\": 143, \"simbolo\": \"mlc\"},\n",
    "    \"usd\": {\"tasa\": 136, \"simbolo\": \"$\"}\n",
    "}"
   ]
  },
  {
   "cell_type": "code",
   "execution_count": null,
   "metadata": {},
   "outputs": [],
   "source": [
    "# 3. Escribir un programa que cree un diccionario vacío y lo vaya \n",
    "# llenado con información sobre una persona (por ejemplo nombre, \n",
    "# edad, sexo, teléfono, correo electrónico, etc.) que se le pida \n",
    "# al usuario. Las entradas son: <name>=<value> (Ej: edad=24)\n",
    "# Cada vez que se añada un nuevo dato debe imprimirse \n",
    "# el contenido del diccionario."
   ]
  },
  {
   "cell_type": "code",
   "execution_count": null,
   "metadata": {},
   "outputs": [],
   "source": [
    "# 4. Las siguientes lineas cargan en 'lines' todas las lineas de un \n",
    "# diccionario online\n",
    "with open(\"data/dict_EngEsp.txt\", \"r\", encoding='iso-8859-1',\n",
    "                 errors='ignore') as f:\n",
    "    lines = f.readlines()\n",
    "# Cargue en un diccionario la primera traducción de cada palabra\n",
    "# Tome en cuenta que:\n",
    "# - Las lineas de comentario comienzan por un # y deben ser ignoradas\n",
    "# - el término en inglés está separado de la traducción por un tab (\\t)\n",
    "# - una palabra puede tener varias traducciones separadas por coma: Seleccione la primera\n",
    "# - una palabra puede definirse en varias lineas; elija la primera"
   ]
  },
  {
   "cell_type": "code",
   "execution_count": null,
   "metadata": {},
   "outputs": [],
   "source": [
    "# 5. Usando el diccionario anterior, entre una frase y tradúzcala \n",
    "# palabra a palabra. Si una palabra no tiene traducción, \n",
    "# dejela tal cual rodeada de <>"
   ]
  },
  {
   "cell_type": "code",
   "execution_count": null,
   "metadata": {},
   "outputs": [],
   "source": [
    "# 6. Escriba una función para calcular el área de un círculo. "
   ]
  },
  {
   "cell_type": "code",
   "execution_count": null,
   "metadata": {},
   "outputs": [],
   "source": [
    "# 7. Escribir una función para calcular el volumen de un cilindro\n",
    "# - nota: usa la función anterior"
   ]
  },
  {
   "cell_type": "code",
   "execution_count": null,
   "metadata": {},
   "outputs": [],
   "source": [
    "# 8. Funcion para sumar todos los elementos de una lista"
   ]
  },
  {
   "cell_type": "code",
   "execution_count": null,
   "metadata": {},
   "outputs": [],
   "source": [
    "# 9. Funcion para sumar todos los elementos de una lista. \n",
    "# El valor inicial para la suma se pasa como parametro (por defecto es 0)"
   ]
  },
  {
   "cell_type": "code",
   "execution_count": null,
   "metadata": {},
   "outputs": [],
   "source": [
    "# 10. Funcion para sumar todos los elementos de una lista. \n",
    "# La lista puede tener otras sublistas, que hay que sumar tambien\n",
    "# Tip: type(l)==list  devuelve True si el elemento es una lista"
   ]
  },
  {
   "cell_type": "code",
   "execution_count": null,
   "metadata": {},
   "outputs": [],
   "source": [
    "# 11. funcion agregar, que recibe una lista y una funcion para agregar\n",
    "# ej: agregar([2, 3, 4], lambda x,y: x*y) devuelve 24"
   ]
  },
  {
   "cell_type": "code",
   "execution_count": null,
   "metadata": {},
   "outputs": [],
   "source": [
    "# 12. cree la funcion componer, que dada dos funciones las aplica. \n",
    "# - cada funcion recibe un valor real y devuelve un valor real\n",
    "# - recuerde que la composición se aplica en orden inverso\n"
   ]
  },
  {
   "cell_type": "code",
   "execution_count": null,
   "metadata": {},
   "outputs": [],
   "source": [
    "# 13. Una función puede recibir una función como parámetro y devolver \n",
    "# otra función. A esto lo llamamos \"transformación funcional\" (\n",
    "# esto tiene otros requerimientos que ignoraremos por ahora)\n",
    "\n",
    "# Cree una función que invierta (1/f(n)) otra función\n"
   ]
  },
  {
   "cell_type": "code",
   "execution_count": null,
   "metadata": {},
   "outputs": [],
   "source": [
    "# 14. Reescriba la funcion componer como tranformacion funcional\n"
   ]
  },
  {
   "cell_type": "code",
   "execution_count": null,
   "metadata": {},
   "outputs": [],
   "source": [
    "# 15. cree la funcion compose3, que compone 3 funciones\n"
   ]
  },
  {
   "cell_type": "code",
   "execution_count": null,
   "metadata": {},
   "outputs": [],
   "source": [
    "# 16. cree la funcion mymap, que reciba una función y la aplique en todos\n",
    "# los elementos de una lista\n"
   ]
  },
  {
   "cell_type": "code",
   "execution_count": null,
   "metadata": {},
   "outputs": [],
   "source": [
    "# 17. Cree la funcion myfilter, que recibe una funcion y una lista\n",
    "# y deja en la lista los elementos para los que la funcion devuelve True\n"
   ]
  },
  {
   "cell_type": "code",
   "execution_count": null,
   "metadata": {},
   "outputs": [],
   "source": [
    "# 18. Implemente la funcion myreduce, que transforma una lista en un \n",
    "# valor mediante la aplicacion iterativa de la funcion fn\n"
   ]
  },
  {
   "cell_type": "code",
   "execution_count": null,
   "metadata": {},
   "outputs": [],
   "source": [
    "# 19. Utilizando myreduce, implemente la funcion compose_many, \n",
    "# que compone una lista de funciones\n"
   ]
  },
  {
   "cell_type": "markdown",
   "metadata": {},
   "source": [
    "## Respuestas"
   ]
  },
  {
   "cell_type": "markdown",
   "metadata": {},
   "source": [
    "### Diccionarios"
   ]
  },
  {
   "cell_type": "code",
   "execution_count": null,
   "metadata": {},
   "outputs": [],
   "source": [
    "# 1. Cree un diccionario de precios por libras de fruta\n",
    "# Entre el nombre de la fruta y la cantidad, imprima precio total\n",
    "\n",
    "frutas = {\"mango\": 2.3, \"fresa\": 3.5, \"melon\": 2.4}\n",
    "nombre = input(\"Entre fruta:\")\n",
    "cantidad = float(input(\"Entre cantidad:\"))\n",
    "precio = frutas.get(nombre, None)\n",
    "if precio is not None:\n",
    "    print(\"Precio total:\", precio * cantidad)\n",
    "else:\n",
    "    print(\"Fruta no registrada:\", nombre)"
   ]
  },
  {
   "cell_type": "code",
   "execution_count": null,
   "metadata": {},
   "outputs": [],
   "source": [
    "# 2. Entre la cantidad de CUP de una persona y la moneda a convertir.\n",
    "# Imprima la cantidad convertida.\n",
    "# La tasa para cada moneda y su símbolo (para el resultado) debe \n",
    "# estar en un diccionario\n",
    "tasas = {\n",
    "    \"eur\": {\"tasa\": 140, \"simbolo\": \"€\"},\n",
    "    \"mlc\": {\"tasa\": 143, \"simbolo\": \"mlc\"},\n",
    "    \"usd\": {\"tasa\": 136, \"simbolo\": \"$\"}\n",
    "}\n",
    "\n",
    "cup = float(input(\"Entre cantidad de CUP\"))\n",
    "moneda = input(\"Entre moneda destino(eur,mlc,usd):\")\n",
    "tasa = tasas.get(moneda.lower(), None)\n",
    "if tasa is not None:\n",
    "    convertido = cup / tasa['tasa']\n",
    "    print(\"El resultado es\", convertido, tasa['simbolo'])\n",
    "else:\n",
    "    print(\"Moneda inválida:\", moneda)"
   ]
  },
  {
   "cell_type": "code",
   "execution_count": null,
   "metadata": {},
   "outputs": [],
   "source": [
    "# 3. Escribir un programa que cree un diccionario vacío y lo vaya \n",
    "# llenado con información sobre una persona (por ejemplo nombre, \n",
    "# edad, sexo, teléfono, correo electrónico, etc.) que se le pida \n",
    "# al usuario. Las entradas son: <name>=<value> (Ej: edad=24)\n",
    "# Cada vez que se añada un nuevo dato debe imprimirse \n",
    "# el contenido del diccionario.\n",
    "d = {}\n",
    "finalizar = False\n",
    "while not finalizar:\n",
    "    info = input(\"Entre propiedad (<name>=<value>)\")\n",
    "    if info == \"\":\n",
    "        finalizar = True\n",
    "        print(\"terminado\")\n",
    "    else:\n",
    "        comps = info.split(\"=\")\n",
    "        if len(comps) != 2:\n",
    "            print(\"Formato erroneo, debe ser <name>=<value>\")\n",
    "        else:\n",
    "            d[comps[0].strip()] = comps[1].strip()\n",
    "            print(d)"
   ]
  },
  {
   "cell_type": "code",
   "execution_count": null,
   "metadata": {},
   "outputs": [],
   "source": [
    "# 4. Las siguientes lineas cargan en 'lines' todas las lineas de un \n",
    "# diccionario online\n",
    "with open(\"data/dict_EngEsp.txt\", \"r\", encoding='iso-8859-1',\n",
    "                 errors='ignore') as f:\n",
    "    lines = f.readlines()\n",
    "# Cargue en un diccionario la primera traducción de cada palabra\n",
    "# Tome en cuenta que:\n",
    "# - Las lineas de comentario comienzan por un # y deben ser ignoradas\n",
    "# - el término en inglés está separado de la traducción por un tab (\\t)\n",
    "# - una palabra puede tener varias traducciones separadas por coma: Seleccione la primera\n",
    "# - una palabra puede definirse en varias lineas; elija la primera\n",
    "translate = {}\n",
    "for l in lines:\n",
    "    if l[0] != \"#\" and l != \"\":\n",
    "        l = l[:-1] # remove the \\n in the end\n",
    "        term_eng, all_spa = l.split('\\t')\n",
    "        terms_spa = all_spa.split(',')\n",
    "        term_spa = terms_spa[0]\n",
    "        if term_eng not in translate:\n",
    "            translate[term_eng.lower()] = term_spa.lower()           "
   ]
  },
  {
   "cell_type": "code",
   "execution_count": null,
   "metadata": {},
   "outputs": [],
   "source": [
    "# 5. Usando el diccionario anterior, entre una frase y tradúzcala \n",
    "# palabra a palabra. Si una palabra no tiene traducción, \n",
    "# dejela tal cual rodeada de <>\n",
    "frase = \"I do not like cats\"\n",
    "words = frase.split(' ')\n",
    "results = []\n",
    "for w in words:\n",
    "    trans = translate.get(w.lower(), None)\n",
    "    print(w, \"->\", trans)\n",
    "    if trans is None:\n",
    "        trans = \"<\"+w+\">\"\n",
    "    results.append(trans)\n",
    "result = \" \".join(results)\n",
    "print(result)"
   ]
  },
  {
   "cell_type": "markdown",
   "metadata": {},
   "source": [
    "### Funciones"
   ]
  },
  {
   "cell_type": "code",
   "execution_count": null,
   "metadata": {},
   "outputs": [],
   "source": [
    "# 6. Escriba una función para calcular el área de un círculo. \n",
    "def area_circulo(radio):\n",
    "    return 3.1415 * radio**2\n",
    "area_circulo(2)"
   ]
  },
  {
   "cell_type": "code",
   "execution_count": null,
   "metadata": {},
   "outputs": [],
   "source": [
    "# 7. Escribir una función para calcular el volumen de un cilindro\n",
    "# - nota: usa la función anterior\n",
    "def volumen_cilindro(radio, altura):\n",
    "    return area_circulo(radio) * altura\n",
    "volumen_cilindro(2, 10)"
   ]
  },
  {
   "cell_type": "code",
   "execution_count": null,
   "metadata": {},
   "outputs": [],
   "source": [
    "# 8. Funcion para sumar todos los elementos de una lista\n",
    "def suma(lista):\n",
    "    r = 0\n",
    "    for l in lista:\n",
    "        r += l\n",
    "    return r\n",
    "suma([2, 3, 4])"
   ]
  },
  {
   "cell_type": "code",
   "execution_count": null,
   "metadata": {},
   "outputs": [],
   "source": [
    "# 9. Funcion para sumar todos los elementos de una lista. \n",
    "# El valor inicial para la suma se pasa como parametro (por defecto es 0)\n",
    "def suma(lista, inicial=0):\n",
    "    r = inicial\n",
    "    for l in lista:\n",
    "        r += l\n",
    "    return r\n",
    "suma([2, 3, 4], 8)"
   ]
  },
  {
   "cell_type": "code",
   "execution_count": null,
   "metadata": {},
   "outputs": [],
   "source": [
    "# 10. Funcion para sumar todos los elementos de una lista. \n",
    "# La lista puede tener otras sublistas, que hay que sumar tambien\n",
    "# Tip: type(l)==list  devuelve True si el elemento es una lista\n",
    "def suma(lista):\n",
    "    r = 0\n",
    "    for l in lista:\n",
    "        if type(l) == list:\n",
    "            r += suma(l)\n",
    "        else:\n",
    "            r += l\n",
    "    return r\n",
    "suma([2, [2, [3, 5, 6]], 4, [5, 6]])"
   ]
  },
  {
   "cell_type": "code",
   "execution_count": null,
   "metadata": {},
   "outputs": [],
   "source": [
    "# 11. funcion agregar, que recibe una lista y una funcion para agregar\n",
    "# ej: agregar([2, 3, 4], lambda x,y: x*y) devuelve 24\n",
    "def agregar(lista, op):\n",
    "    result = lista[0]\n",
    "    for v in lista[1:]:\n",
    "        result = op(result, v)\n",
    "    return result\n",
    "\n",
    "agregar([2, 3, 4], lambda x,y: x*y)"
   ]
  },
  {
   "cell_type": "code",
   "execution_count": null,
   "metadata": {},
   "outputs": [],
   "source": [
    "# 12. cree la funcion componer, que dada dos funciones las aplica. \n",
    "# - cada funcion recibe un valor real y devuelve un valor real\n",
    "# - recuerde que la composición se aplica en orden inverso\n",
    "def componer(f1, f2, x):\n",
    "    return f1(f2(x))\n",
    "\n",
    "def increment(x):\n",
    "    return x+1\n",
    "\n",
    "def square(x):\n",
    "    return x*x\n",
    "\n",
    "print(componer(increment, square, 2))\n",
    "print(componer(square, increment, 2))"
   ]
  },
  {
   "cell_type": "code",
   "execution_count": null,
   "metadata": {},
   "outputs": [],
   "source": [
    "# 13. Una función puede recibir una función como parámetro y devolver \n",
    "# otra función. A esto lo llamamos \"transformación funcional\" (\n",
    "# esto tiene otros requerimientos que ignoraremos por ahora)\n",
    "\n",
    "# Cree una función que invierta (1/f(n)) otra función\n",
    "def invert(f):\n",
    "    return lambda x: 1/f(x)\n",
    "\n",
    "inverted_square = invert(square)\n",
    "inverted_square.__class__\n",
    "inverted_square(2)"
   ]
  },
  {
   "cell_type": "code",
   "execution_count": null,
   "metadata": {},
   "outputs": [],
   "source": [
    "# Igual se puede hacer usando def y lambda, equivalentes...\n",
    "def invert2(f):\n",
    "    \n",
    "    def inverted(x):\n",
    "        return 1/f(x)\n",
    "    \n",
    "    return inverted\n",
    "invert2(square)(2)"
   ]
  },
  {
   "cell_type": "code",
   "execution_count": null,
   "metadata": {},
   "outputs": [],
   "source": [
    "# 14. Reescriba la funcion componer como tranformacion funcional\n",
    "def compose(f1, f2):\n",
    "    return lambda x: f1(f2(x))\n",
    "\n",
    "composed = compose(square, increment)\n",
    "print(composed.__class__)\n",
    "print(composed(2))\n",
    "print(compose(increment, square)(2))\n",
    "\n",
    "def compose2(f1, f2):\n",
    "    def composed(x):\n",
    "        return f1(f2(x))\n",
    "    return composed\n",
    "\n",
    "print(compose2(increment, square)(2))"
   ]
  },
  {
   "cell_type": "code",
   "execution_count": null,
   "metadata": {},
   "outputs": [],
   "source": [
    "# 15. cree la funcion compose3, que compone 3 funciones\n",
    "def compose3(f1, f2, f3):\n",
    "    return compose(f1, compose(f2,f3))\n",
    "\n",
    "compose3(increment, square, increment)(3)"
   ]
  },
  {
   "cell_type": "code",
   "execution_count": null,
   "metadata": {},
   "outputs": [],
   "source": [
    "# 16. cree la funcion mymap, que reciba una función y la aplique en todos\n",
    "# los elementos de una lista\n",
    "def mymap(fn, lst):\n",
    "    result = []\n",
    "    for v in lst:\n",
    "        result.append(fn(v))\n",
    "    return result\n",
    "        \n",
    "mymap(compose(increment, square), [2, 3, 4, 5])"
   ]
  },
  {
   "cell_type": "code",
   "execution_count": null,
   "metadata": {},
   "outputs": [],
   "source": [
    "# 17. Cree la funcion myfilter, que recibe una funcion y una lista\n",
    "# y deja en la lista los elementos para los que la funcion devuelve True\n",
    "def myfilter(fn, lst):\n",
    "    result = []\n",
    "    for v in lst:\n",
    "        if fn(v):\n",
    "            result.append(v)\n",
    "    return result\n",
    "\n",
    "myfilter(lambda x: x > 5, [3, 10, 3, 5, 16, 7])"
   ]
  },
  {
   "cell_type": "code",
   "execution_count": null,
   "metadata": {},
   "outputs": [],
   "source": [
    "# 18. Implemente la funcion myreduce, que transforma una lista en un \n",
    "# valor mediante la aplicacion iterativa de la funcion fn\n",
    "def myreduce(fn, lst):\n",
    "    if len(lst) == 0:\n",
    "        return None\n",
    "    if len(lst) == 1:\n",
    "        return lst[0]\n",
    "    v1, v2, *rest = lst\n",
    "    result = fn(v1, v2)\n",
    "    for v in rest:\n",
    "        result = fn(result, v)\n",
    "    return result\n",
    "\n",
    "print(myreduce(lambda x, y: x+y, [2, 4, 6, 8]))\n",
    "print(myreduce(lambda x, y: x*y, [2, 4, 6, 8]))"
   ]
  },
  {
   "cell_type": "code",
   "execution_count": null,
   "metadata": {},
   "outputs": [],
   "source": [
    "# 19. Utilizando myreduce, implemente la funcion compose_many, \n",
    "# que compone una lista de funciones\n",
    "def compose_many(functions):\n",
    "    fn_inv = functions[::-1]\n",
    "    return myreduce(lambda f1, f2: lambda x: f2(f1(x)), \n",
    "                   fn_inv)\n",
    "compose_many([increment, square, increment])(2)"
   ]
  }
 ],
 "metadata": {
  "kernelspec": {
   "display_name": "Python 3",
   "language": "python",
   "name": "python3"
  },
  "language_info": {
   "codemirror_mode": {
    "name": "ipython",
    "version": 3
   },
   "file_extension": ".py",
   "mimetype": "text/x-python",
   "name": "python",
   "nbconvert_exporter": "python",
   "pygments_lexer": "ipython3",
   "version": "3.6.9"
  }
 },
 "nbformat": 4,
 "nbformat_minor": 2
}
