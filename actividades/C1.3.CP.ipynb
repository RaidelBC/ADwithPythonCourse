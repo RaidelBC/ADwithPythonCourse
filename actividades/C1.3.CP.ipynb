{
 "cells": [
  {
   "cell_type": "markdown",
   "metadata": {},
   "source": [
    "## Ejercicios"
   ]
  },
  {
   "cell_type": "markdown",
   "metadata": {},
   "source": [
    "## Tips"
   ]
  },
  {
   "cell_type": "code",
   "execution_count": null,
   "metadata": {},
   "outputs": [],
   "source": [
    "# En Python, para iterar por todos valores entre 0 y n-1 se utiliza range(n):\n",
    "for idx in range(5):\n",
    "    print(idx)"
   ]
  },
  {
   "cell_type": "code",
   "execution_count": null,
   "metadata": {},
   "outputs": [],
   "source": [
    "# por tanto, para iterar por todos los valores de una lista se puede utilizar\n",
    "l = ['a', 'b', 'c']\n",
    "for idx in range(len(l)):\n",
    "    print(l[idx])"
   ]
  },
  {
   "cell_type": "code",
   "execution_count": null,
   "metadata": {},
   "outputs": [],
   "source": [
    "# En Python, el ciclo **while** funciona igual que en C++\n",
    "i = 0\n",
    "while i < 10:\n",
    "    print(i, end=\",\")\n",
    "    i += 1"
   ]
  },
  {
   "cell_type": "code",
   "execution_count": null,
   "metadata": {},
   "outputs": [],
   "source": [
    "# Para saber si un elemento no está en una lista, se utiliza **not in**\n",
    "print('a' not in ['b', 'c', 'd'])"
   ]
  },
  {
   "cell_type": "code",
   "execution_count": null,
   "metadata": {},
   "outputs": [],
   "source": [
    "# Para entrar datos por teclado se utiliza input()\n",
    "v = float(input(\"entre valor\"))\n",
    "print(v)\n",
    "v2 = int(input(\"entre otro valor\"))\n",
    "print(v2)"
   ]
  },
  {
   "cell_type": "markdown",
   "metadata": {},
   "source": [
    "## Respuestas\n",
    "### Python básico"
   ]
  },
  {
   "cell_type": "code",
   "execution_count": null,
   "metadata": {},
   "outputs": [],
   "source": []
  },
  {
   "cell_type": "code",
   "execution_count": 1,
   "metadata": {},
   "outputs": [
    {
     "name": "stdout",
     "output_type": "stream",
     "text": [
      "Hola Mundo 1 !\n",
      "Hola Mundo 2 !\n",
      "Hola Mundo 3 !\n"
     ]
    }
   ],
   "source": [
    "# dada la cantidad de mundos existente\n",
    "cant_mundos = 3\n",
    "# implemente un Hola Mundo que salude a cada uno de ellos\n",
    "# Los mundos se llaman Mundo 1, Mundo 2, etc ...\n",
    "for i in range(cant_mundos):\n",
    "    print(\"Hola Mundo\", i +1, \"!\")"
   ]
  },
  {
   "cell_type": "code",
   "execution_count": 9,
   "metadata": {},
   "outputs": [
    {
     "name": "stdout",
     "output_type": "stream",
     "text": [
      "3\n"
     ]
    },
    {
     "data": {
      "text/plain": [
       "int"
      ]
     },
     "execution_count": 9,
     "metadata": {},
     "output_type": "execute_result"
    }
   ],
   "source": [
    "a=int(\"3\")\n",
    "print(a)\n",
    "a.__class__"
   ]
  },
  {
   "cell_type": "code",
   "execution_count": 12,
   "metadata": {},
   "outputs": [
    {
     "name": "stdout",
     "output_type": "stream",
     "text": [
      "Entre el nombre:lolo\n",
      "Hola lolo!\n"
     ]
    }
   ],
   "source": [
    "# Entre el nombre de una persona y salúdelo\n",
    "nombre = input(\"Entre el nombre:\")\n",
    "print(\"Hola \" + nombre+ \"!\")"
   ]
  },
  {
   "cell_type": "code",
   "execution_count": 13,
   "metadata": {},
   "outputs": [
    {
     "name": "stdout",
     "output_type": "stream",
     "text": [
      "Entre cantidad de CUP1000\n",
      "Entre moneda destino(eur,mlc,usd):usd\n",
      "El resultado es 7.352941176470588 usd\n"
     ]
    }
   ],
   "source": [
    "# Entre la cantidad de CUP de una persona y la moneda a convertir.\n",
    "# Imprima la cantidad convertida.\n",
    "tasa_euro = 140\n",
    "tasa_mlc = 143\n",
    "tasa_usd = 136\n",
    "\n",
    "cup = float(input(\"Entre cantidad de CUP\"))\n",
    "moneda = input(\"Entre moneda destino(eur,mlc,usd):\")\n",
    "tasa = 0\n",
    "if moneda.lower() == 'eur':\n",
    "    tasa = tasa_euro\n",
    "elif moneda.lower() == 'mlc':\n",
    "    tasa = tasa_mlc\n",
    "elif moneda.lower() == 'usd':\n",
    "    tasa = tasa_usd\n",
    "if tasa > 0:\n",
    "    convertido = cup / tasa\n",
    "    print(\"El resultado es\", convertido, moneda)\n",
    "else:\n",
    "    print(\"Moneda inválida:\", moneda)\n"
   ]
  },
  {
   "cell_type": "code",
   "execution_count": 14,
   "metadata": {},
   "outputs": [
    {
     "name": "stdout",
     "output_type": "stream",
     "text": [
      "Entre primer numero:34\n",
      "Entre segundo numero:9\n",
      "cociente= 3 , resto= 7\n"
     ]
    }
   ],
   "source": [
    "# Entre dos numeros enteros, imprima su cociente y el resto de la\n",
    "# división. Divida siempre el mayor por el menor.\n",
    "n = int(input(\"Entre primer numero:\"))\n",
    "m = int(input(\"Entre segundo numero:\"))\n",
    "if m > n:\n",
    "    m, n = n, m\n",
    "r = n % m\n",
    "c = n // m\n",
    "print(\"cociente=\", c, \", resto=\", r)"
   ]
  },
  {
   "cell_type": "code",
   "execution_count": 15,
   "metadata": {},
   "outputs": [
    {
     "ename": "KeyboardInterrupt",
     "evalue": "",
     "output_type": "error",
     "traceback": [
      "\u001b[0;31m---------------------------------------------------------------------------\u001b[0m",
      "\u001b[0;31mKeyboardInterrupt\u001b[0m                         Traceback (most recent call last)",
      "\u001b[0;32m/usr/lib/python3/dist-packages/ipykernel/kernelbase.py\u001b[0m in \u001b[0;36m_input_request\u001b[0;34m(self, prompt, ident, parent, password)\u001b[0m\n\u001b[1;32m    728\u001b[0m             \u001b[0;32mtry\u001b[0m\u001b[0;34m:\u001b[0m\u001b[0;34m\u001b[0m\u001b[0;34m\u001b[0m\u001b[0m\n\u001b[0;32m--> 729\u001b[0;31m                 \u001b[0mident\u001b[0m\u001b[0;34m,\u001b[0m \u001b[0mreply\u001b[0m \u001b[0;34m=\u001b[0m \u001b[0mself\u001b[0m\u001b[0;34m.\u001b[0m\u001b[0msession\u001b[0m\u001b[0;34m.\u001b[0m\u001b[0mrecv\u001b[0m\u001b[0;34m(\u001b[0m\u001b[0mself\u001b[0m\u001b[0;34m.\u001b[0m\u001b[0mstdin_socket\u001b[0m\u001b[0;34m,\u001b[0m \u001b[0;36m0\u001b[0m\u001b[0;34m)\u001b[0m\u001b[0;34m\u001b[0m\u001b[0;34m\u001b[0m\u001b[0m\n\u001b[0m\u001b[1;32m    730\u001b[0m             \u001b[0;32mexcept\u001b[0m \u001b[0mException\u001b[0m\u001b[0;34m:\u001b[0m\u001b[0;34m\u001b[0m\u001b[0;34m\u001b[0m\u001b[0m\n",
      "\u001b[0;32m/usr/lib/python3/dist-packages/jupyter_client/session.py\u001b[0m in \u001b[0;36mrecv\u001b[0;34m(self, socket, mode, content, copy)\u001b[0m\n\u001b[1;32m    802\u001b[0m         \u001b[0;32mtry\u001b[0m\u001b[0;34m:\u001b[0m\u001b[0;34m\u001b[0m\u001b[0;34m\u001b[0m\u001b[0m\n\u001b[0;32m--> 803\u001b[0;31m             \u001b[0mmsg_list\u001b[0m \u001b[0;34m=\u001b[0m \u001b[0msocket\u001b[0m\u001b[0;34m.\u001b[0m\u001b[0mrecv_multipart\u001b[0m\u001b[0;34m(\u001b[0m\u001b[0mmode\u001b[0m\u001b[0;34m,\u001b[0m \u001b[0mcopy\u001b[0m\u001b[0;34m=\u001b[0m\u001b[0mcopy\u001b[0m\u001b[0;34m)\u001b[0m\u001b[0;34m\u001b[0m\u001b[0;34m\u001b[0m\u001b[0m\n\u001b[0m\u001b[1;32m    804\u001b[0m         \u001b[0;32mexcept\u001b[0m \u001b[0mzmq\u001b[0m\u001b[0;34m.\u001b[0m\u001b[0mZMQError\u001b[0m \u001b[0;32mas\u001b[0m \u001b[0me\u001b[0m\u001b[0;34m:\u001b[0m\u001b[0;34m\u001b[0m\u001b[0;34m\u001b[0m\u001b[0m\n",
      "\u001b[0;32m/usr/lib/python3/dist-packages/zmq/sugar/socket.py\u001b[0m in \u001b[0;36mrecv_multipart\u001b[0;34m(self, flags, copy, track)\u001b[0m\n\u001b[1;32m    394\u001b[0m         \"\"\"\n\u001b[0;32m--> 395\u001b[0;31m         \u001b[0mparts\u001b[0m \u001b[0;34m=\u001b[0m \u001b[0;34m[\u001b[0m\u001b[0mself\u001b[0m\u001b[0;34m.\u001b[0m\u001b[0mrecv\u001b[0m\u001b[0;34m(\u001b[0m\u001b[0mflags\u001b[0m\u001b[0;34m,\u001b[0m \u001b[0mcopy\u001b[0m\u001b[0;34m=\u001b[0m\u001b[0mcopy\u001b[0m\u001b[0;34m,\u001b[0m \u001b[0mtrack\u001b[0m\u001b[0;34m=\u001b[0m\u001b[0mtrack\u001b[0m\u001b[0;34m)\u001b[0m\u001b[0;34m]\u001b[0m\u001b[0;34m\u001b[0m\u001b[0;34m\u001b[0m\u001b[0m\n\u001b[0m\u001b[1;32m    396\u001b[0m         \u001b[0;31m# have first part already, only loop while more to receive\u001b[0m\u001b[0;34m\u001b[0m\u001b[0;34m\u001b[0m\u001b[0;34m\u001b[0m\u001b[0m\n",
      "\u001b[0;32mzmq/backend/cython/socket.pyx\u001b[0m in \u001b[0;36mzmq.backend.cython.socket.Socket.recv (zmq/backend/cython/socket.c:7692)\u001b[0;34m()\u001b[0m\n",
      "\u001b[0;32mzmq/backend/cython/socket.pyx\u001b[0m in \u001b[0;36mzmq.backend.cython.socket.Socket.recv (zmq/backend/cython/socket.c:7469)\u001b[0;34m()\u001b[0m\n",
      "\u001b[0;32mzmq/backend/cython/socket.pyx\u001b[0m in \u001b[0;36mzmq.backend.cython.socket._recv_copy (zmq/backend/cython/socket.c:2353)\u001b[0;34m()\u001b[0m\n",
      "\u001b[0;32m/usr/lib/python3/dist-packages/zmq/backend/cython/checkrc.pxd\u001b[0m in \u001b[0;36mzmq.backend.cython.checkrc._check_rc (zmq/backend/cython/socket.c:8007)\u001b[0;34m()\u001b[0m\n",
      "\u001b[0;31mKeyboardInterrupt\u001b[0m: ",
      "\nDuring handling of the above exception, another exception occurred:\n",
      "\u001b[0;31mKeyboardInterrupt\u001b[0m                         Traceback (most recent call last)",
      "\u001b[0;32m<ipython-input-15-00868f9f42ca>\u001b[0m in \u001b[0;36m<module>\u001b[0;34m()\u001b[0m\n\u001b[1;32m      3\u001b[0m \u001b[0;31m# Si la demanda es mayor que el aporte total, imprima 'Apagon!'.\u001b[0m\u001b[0;34m\u001b[0m\u001b[0;34m\u001b[0m\u001b[0;34m\u001b[0m\u001b[0m\n\u001b[1;32m      4\u001b[0m \u001b[0;31m# En todos los casos imprima el faltante o excedente de generación\u001b[0m\u001b[0;34m\u001b[0m\u001b[0;34m\u001b[0m\u001b[0;34m\u001b[0m\u001b[0m\n\u001b[0;32m----> 5\u001b[0;31m \u001b[0mdemanda\u001b[0m \u001b[0;34m=\u001b[0m \u001b[0mfloat\u001b[0m\u001b[0;34m(\u001b[0m\u001b[0minput\u001b[0m\u001b[0;34m(\u001b[0m\u001b[0;34m\"Entre demanda maxima:\"\u001b[0m\u001b[0;34m)\u001b[0m\u001b[0;34m)\u001b[0m\u001b[0;34m\u001b[0m\u001b[0;34m\u001b[0m\u001b[0m\n\u001b[0m\u001b[1;32m      6\u001b[0m \u001b[0maporte\u001b[0m \u001b[0;34m=\u001b[0m \u001b[0;36m0\u001b[0m\u001b[0;34m\u001b[0m\u001b[0;34m\u001b[0m\u001b[0m\n\u001b[1;32m      7\u001b[0m \u001b[0maporte_total\u001b[0m \u001b[0;34m=\u001b[0m \u001b[0;36m0\u001b[0m\u001b[0;34m\u001b[0m\u001b[0;34m\u001b[0m\u001b[0m\n",
      "\u001b[0;32m/usr/lib/python3/dist-packages/ipykernel/kernelbase.py\u001b[0m in \u001b[0;36mraw_input\u001b[0;34m(self, prompt)\u001b[0m\n\u001b[1;32m    702\u001b[0m             \u001b[0mself\u001b[0m\u001b[0;34m.\u001b[0m\u001b[0m_parent_ident\u001b[0m\u001b[0;34m,\u001b[0m\u001b[0;34m\u001b[0m\u001b[0;34m\u001b[0m\u001b[0m\n\u001b[1;32m    703\u001b[0m             \u001b[0mself\u001b[0m\u001b[0;34m.\u001b[0m\u001b[0m_parent_header\u001b[0m\u001b[0;34m,\u001b[0m\u001b[0;34m\u001b[0m\u001b[0;34m\u001b[0m\u001b[0m\n\u001b[0;32m--> 704\u001b[0;31m             \u001b[0mpassword\u001b[0m\u001b[0;34m=\u001b[0m\u001b[0;32mFalse\u001b[0m\u001b[0;34m,\u001b[0m\u001b[0;34m\u001b[0m\u001b[0;34m\u001b[0m\u001b[0m\n\u001b[0m\u001b[1;32m    705\u001b[0m         )\n\u001b[1;32m    706\u001b[0m \u001b[0;34m\u001b[0m\u001b[0m\n",
      "\u001b[0;32m/usr/lib/python3/dist-packages/ipykernel/kernelbase.py\u001b[0m in \u001b[0;36m_input_request\u001b[0;34m(self, prompt, ident, parent, password)\u001b[0m\n\u001b[1;32m    732\u001b[0m             \u001b[0;32mexcept\u001b[0m \u001b[0mKeyboardInterrupt\u001b[0m\u001b[0;34m:\u001b[0m\u001b[0;34m\u001b[0m\u001b[0;34m\u001b[0m\u001b[0m\n\u001b[1;32m    733\u001b[0m                 \u001b[0;31m# re-raise KeyboardInterrupt, to truncate traceback\u001b[0m\u001b[0;34m\u001b[0m\u001b[0;34m\u001b[0m\u001b[0;34m\u001b[0m\u001b[0m\n\u001b[0;32m--> 734\u001b[0;31m                 \u001b[0;32mraise\u001b[0m \u001b[0mKeyboardInterrupt\u001b[0m\u001b[0;34m\u001b[0m\u001b[0;34m\u001b[0m\u001b[0m\n\u001b[0m\u001b[1;32m    735\u001b[0m             \u001b[0;32melse\u001b[0m\u001b[0;34m:\u001b[0m\u001b[0;34m\u001b[0m\u001b[0;34m\u001b[0m\u001b[0m\n\u001b[1;32m    736\u001b[0m                 \u001b[0;32mbreak\u001b[0m\u001b[0;34m\u001b[0m\u001b[0;34m\u001b[0m\u001b[0m\n",
      "\u001b[0;31mKeyboardInterrupt\u001b[0m: "
     ]
    }
   ],
   "source": [
    "# Entre la demanda maxima de corriente y el conjunto de los \n",
    "# aportes de las fuentes de energia (termina con valor negativo).\n",
    "# Si la demanda es mayor que el aporte total, imprima 'Apagon!'.\n",
    "# En todos los casos imprima el faltante o excedente de generación\n",
    "demanda = float(input(\"Entre demanda maxima:\"))\n",
    "aporte = 0\n",
    "aporte_total = 0\n",
    "while aporte >= 0:\n",
    "    aporte = float(input(\"Entre aporte:\"))\n",
    "    if aporte > 0:\n",
    "        aporte_total += aporte\n",
    "if aporte_total < demanda:\n",
    "    print(\"Apagon! Faltante:\", demanda - aporte_total)\n",
    "elif demanda < aporte_total:\n",
    "    print(\"Excedente:\", aporte_total - demanda)\n",
    "else:\n",
    "    print(\"Aporte igual a demanda. Recen!\")"
   ]
  },
  {
   "cell_type": "code",
   "execution_count": null,
   "metadata": {},
   "outputs": [],
   "source": [
    "# Muestre los valores de una función para los valores de\n",
    "# x={0,1,2,3,4,5}\n",
    "# La función se entre por el teclado, y puede contener +-*/()**\n",
    "# Tip: utilice la función eval()\n",
    "expresion = input(\"Entre expresion\")\n",
    "for x in range(0,6):\n",
    "    y = eval(expresion)\n",
    "    print(\"f(\", x, \")=\", y)"
   ]
  },
  {
   "cell_type": "code",
   "execution_count": null,
   "metadata": {},
   "outputs": [],
   "source": [
    "if x > 8 and \\   \n",
    "   x < 9:"
   ]
  },
  {
   "cell_type": "markdown",
   "metadata": {},
   "source": [
    "### Tipos secuencia"
   ]
  },
  {
   "cell_type": "code",
   "execution_count": 16,
   "metadata": {},
   "outputs": [
    {
     "name": "stdout",
     "output_type": "stream",
     "text": [
      "[('Pedro', 12, 'M'), ('Juana', 23, 'F'), ('Jose', 16, 'M')]\n"
     ]
    }
   ],
   "source": [
    "# Cree una lista de tuplas, donde cada tupla contiene los datos de una persona: nombre, edad, sexo. \n",
    "# Inicialice la lista con datos de 3 personas\n",
    "personas = [(\"Pedro\", 12, \"M\"), \n",
    "            (\"Juana\", 23, \"F\"), \n",
    "            (\"Jose\", 16, \"M\")]\n",
    "print(personas)"
   ]
  },
  {
   "cell_type": "code",
   "execution_count": 17,
   "metadata": {},
   "outputs": [
    {
     "name": "stdout",
     "output_type": "stream",
     "text": [
      "('Jose', 16, 'M')\n"
     ]
    }
   ],
   "source": [
    "# Imprima los datos de la ultima persona\n",
    "print(personas[-1])"
   ]
  },
  {
   "cell_type": "code",
   "execution_count": 18,
   "metadata": {},
   "outputs": [
    {
     "name": "stdout",
     "output_type": "stream",
     "text": [
      "Juana\n"
     ]
    }
   ],
   "source": [
    "# Imprima el nombre de la segunda persona\n",
    "print(personas[1][0])"
   ]
  },
  {
   "cell_type": "code",
   "execution_count": null,
   "metadata": {},
   "outputs": [],
   "source": [
    "# Imprima los datos de una persona dado su nombre (por teclado)\n",
    "nombre = input(\"Nombre:\")\n",
    "for idx in range(len(personas)):\n",
    "    if personas[idx][0] == nombre:\n",
    "        print(personas[idx])"
   ]
  },
  {
   "cell_type": "code",
   "execution_count": null,
   "metadata": {},
   "outputs": [],
   "source": [
    "# De la siguiente lista,\n",
    "l = [3, 5, 6, 2, 4, 6, 7, 9, 12, 2, 3, 5]\n",
    "#a) imprima los numeros pares\n",
    "for idx in range(len(l)):\n",
    "    if l[idx] % 2 == 0:\n",
    "        print(l[idx])"
   ]
  },
  {
   "cell_type": "code",
   "execution_count": null,
   "metadata": {},
   "outputs": [],
   "source": [
    "#b) cuente los numeros impares\n",
    "c = 0\n",
    "for idx in range(len(l)):\n",
    "    if l[idx]%2 == 1:\n",
    "        c += 1\n",
    "print(c)"
   ]
  },
  {
   "cell_type": "code",
   "execution_count": null,
   "metadata": {},
   "outputs": [],
   "source": [
    "#c) sume todos los numeros\n",
    "s = 0\n",
    "for idx in range(len(l)):\n",
    "    s += l[idx]\n",
    "print(s)"
   ]
  },
  {
   "cell_type": "code",
   "execution_count": null,
   "metadata": {},
   "outputs": [],
   "source": [
    "# De la siguiente lista\n",
    "m = [2, 3, -5, 3, 4, -2, -7, 4, 7]\n",
    "# a) Determine si la suma (de los valores absolutos) de los numeros \n",
    "# positivos es mayor que los negativos. \n",
    "# Utilice dos variables para almacenar las sumas\n",
    "c_pos, c_neg = 0, 0\n",
    "for idx in range(len(m)):\n",
    "    if m[idx] > 0:\n",
    "        c_pos += m[idx]\n",
    "    else:\n",
    "        c_neg += -m[idx]\n",
    "print(c_pos > c_neg)"
   ]
  },
  {
   "cell_type": "code",
   "execution_count": null,
   "metadata": {},
   "outputs": [],
   "source": [
    "# b) Cree una nueva lista con los valores positivos\n",
    "l_pos = []\n",
    "for idx in range(len(m)):\n",
    "    if m[idx] > 0:\n",
    "        l_pos.append(m[idx])\n",
    "print(l_pos)"
   ]
  },
  {
   "cell_type": "code",
   "execution_count": null,
   "metadata": {},
   "outputs": [],
   "source": [
    "# c) Proponga una variante de a) usando las listas de positivos y negativos\n",
    "# Utilice la función sum(), que suma todos los elementos de una colección\n",
    "l_pos, l_neg = [], []\n",
    "for idx in range(len(m)):\n",
    "    if m[idx] > 0:\n",
    "        l_pos.append(m[idx])\n",
    "    else:\n",
    "        l_neg.append(m[idx])\n",
    "sum(l_pos) > -sum(l_neg)"
   ]
  },
  {
   "cell_type": "code",
   "execution_count": null,
   "metadata": {},
   "outputs": [],
   "source": [
    "# d) Proponga una variante de a) sin usar ciclos y usando sum()\n",
    "sum(m) > 0"
   ]
  },
  {
   "cell_type": "code",
   "execution_count": null,
   "metadata": {},
   "outputs": [],
   "source": [
    "# Dada la siguiente lista:\n",
    "n = [3, 5, -9, 7, 5, 7, 8, -10, -1, 9, -6, -5, 0, 1, -6, -7, -8, -6, 9, -4]\n",
    "# a) Extraiga una lista con los primeros 5 valores\n",
    "print(n[:5])\n",
    "# b) Extraiga una lista con los ultimos 5 valores\n",
    "print(n[-5:])\n",
    "# c) Extraiga una lista con 5 valores intermedios\n",
    "print(n[len(n)//2-2:len(n)//2+3])\n",
    "# d) Extraiga una lista con los valores en posiciones pares\n",
    "print(n[::2])\n",
    "# e) Halle la diferencia entre la primera mitad de los valores con la segunda mitad\n",
    "print(sum(n[:len(n)//2])-sum(n[len(n)//2:]))"
   ]
  },
  {
   "cell_type": "code",
   "execution_count": null,
   "metadata": {},
   "outputs": [],
   "source": [
    "# Dada la siguiente lista con valores enteros:\n",
    "l = [19, 5, 6, 16, 1, 2, 6, 7, 2, 4]\n",
    "# a) Cree una lista con los valores duplicados\n",
    "l2 = []\n",
    "for idx in range(len(l)):\n",
    "    v = l[idx]\n",
    "    if v in l2:\n",
    "        print(v)\n",
    "    else:\n",
    "        l2.append(v)\n",
    "    "
   ]
  },
  {
   "cell_type": "code",
   "execution_count": null,
   "metadata": {},
   "outputs": [],
   "source": [
    "# b) Cree una nueva lista con los valores entre 0 y 20 que no aparecen\n",
    "l2 = []\n",
    "for idx in range(21):\n",
    "    if idx not in l:\n",
    "        l2.append(idx)\n",
    "print(l2)"
   ]
  },
  {
   "cell_type": "code",
   "execution_count": null,
   "metadata": {},
   "outputs": [],
   "source": [
    "# Dada la siguiente cadena\n",
    "cad = \"La vaca Lola tiene cabeza y tiene cola\"\n",
    "# a) Extraiga la primera palabra\n",
    "cad[:cad.index(' ')]\n",
    "# b) Extraiga la ultima palabra (dificil)\n",
    "last_pos = len(cad) - cad[::-1].index(' ')\n",
    "cad[last_pos:]"
   ]
  },
  {
   "cell_type": "code",
   "execution_count": null,
   "metadata": {},
   "outputs": [],
   "source": [
    "# c) Extraiga una lista con las palabras\n",
    "result = []\n",
    "c = \"  La vaca Lola tiene cabeza   y tiene cola  \"\n",
    "while len(c) > 0:\n",
    "    if ' ' in c:\n",
    "        idx = c.index(' ')\n",
    "        if idx == 0:\n",
    "            c = c[1:]\n",
    "        else:\n",
    "            word = c[:idx]\n",
    "            result.append(word)\n",
    "            c = c[idx:]\n",
    "    else:\n",
    "        if c != '':\n",
    "            result.append(c)\n",
    "            c = \"\"\n",
    "print(result)"
   ]
  },
  {
   "cell_type": "code",
   "execution_count": null,
   "metadata": {},
   "outputs": [],
   "source": [
    "# Escribir un programa que pregunte una fecha en formato dd/mm/aaaa \n",
    "# y muestre por pantalla la misma fecha en formato \n",
    "# dd de <mes> de aaaa donde <mes> es el nombre del mes.\n",
    "# NOTA1: No utilice ninguna funcionalidad de Python para el trabajo con fechas\n",
    "# NOTA2: utilice el metodo split() en string para dividir la fecha\n",
    "nombre_mes = ['Enero','Febrero','Marzo','Abril','Mayo','Junio','Julio','Agosto','Septiembre',\n",
    "               'Octubre', 'Noviembre', 'Diciembre']\n",
    "fecha = input(\"Entre fecha:\")\n",
    "comps = fecha.split(\"/\")\n",
    "dia = int(comps[0])\n",
    "mes = int(comps[1])\n",
    "year = int(comps[2])\n",
    "print(dia, \"de\", nombre_mes[mes-1], \"de\", year)"
   ]
  }
 ],
 "metadata": {
  "kernelspec": {
   "display_name": "Python 3",
   "language": "python",
   "name": "python3"
  },
  "language_info": {
   "codemirror_mode": {
    "name": "ipython",
    "version": 3
   },
   "file_extension": ".py",
   "mimetype": "text/x-python",
   "name": "python",
   "nbconvert_exporter": "python",
   "pygments_lexer": "ipython3",
   "version": "3.6.9"
  }
 },
 "nbformat": 4,
 "nbformat_minor": 2
}
