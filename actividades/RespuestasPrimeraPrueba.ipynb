{
 "cells": [
  {
   "cell_type": "markdown",
   "id": "4c09f6ea",
   "metadata": {},
   "source": [
    "Pregunta 1. Dada una lista de tuplas que contienen números, devuelva una lista con el máximo de cada tupla"
   ]
  },
  {
   "cell_type": "code",
   "execution_count": 1,
   "id": "1a15302b",
   "metadata": {},
   "outputs": [],
   "source": [
    "A = [(3, 4, 9), (2, -1, -9, 4), (6, 3, 1)]"
   ]
  },
  {
   "cell_type": "code",
   "execution_count": 3,
   "id": "a678924d",
   "metadata": {},
   "outputs": [
    {
     "data": {
      "text/plain": [
       "[9, 4, 6]"
      ]
     },
     "execution_count": 3,
     "metadata": {},
     "output_type": "execute_result"
    }
   ],
   "source": [
    "[max(x) for x in A]"
   ]
  },
  {
   "cell_type": "code",
   "execution_count": 5,
   "id": "8bd733b2",
   "metadata": {},
   "outputs": [
    {
     "data": {
      "text/plain": [
       "[9, 4, 6]"
      ]
     },
     "execution_count": 5,
     "metadata": {},
     "output_type": "execute_result"
    }
   ],
   "source": [
    "[max(*x) for x in A]"
   ]
  },
  {
   "cell_type": "code",
   "execution_count": 1,
   "id": "68f4acf0",
   "metadata": {},
   "outputs": [
    {
     "data": {
      "text/plain": [
       "6"
      ]
     },
     "execution_count": 1,
     "metadata": {},
     "output_type": "execute_result"
    }
   ],
   "source": [
    "max(2, 3, 4, 5, 6)"
   ]
  },
  {
   "cell_type": "code",
   "execution_count": 5,
   "id": "6e878bd3",
   "metadata": {},
   "outputs": [],
   "source": [
    "def lolo(*x):\n",
    "    print(x)\n",
    "    \n",
    "def cuco(a, b, c):\n",
    "    print(a, b, c)"
   ]
  },
  {
   "cell_type": "code",
   "execution_count": 7,
   "id": "1c269c50",
   "metadata": {},
   "outputs": [
    {
     "name": "stdout",
     "output_type": "stream",
     "text": [
      "2 3 4\n"
     ]
    }
   ],
   "source": [
    "cuco(*[2, 3, 4])"
   ]
  },
  {
   "cell_type": "code",
   "execution_count": 6,
   "id": "43abc915",
   "metadata": {},
   "outputs": [
    {
     "data": {
      "text/plain": [
       "[9, 4, 6]"
      ]
     },
     "execution_count": 6,
     "metadata": {},
     "output_type": "execute_result"
    }
   ],
   "source": [
    "list(map(max, A))"
   ]
  },
  {
   "cell_type": "code",
   "execution_count": 8,
   "id": "75fd03ff",
   "metadata": {},
   "outputs": [
    {
     "data": {
      "text/plain": [
       "[9, 4, 6]"
      ]
     },
     "execution_count": 8,
     "metadata": {},
     "output_type": "execute_result"
    }
   ],
   "source": [
    "def my_max(V):\n",
    "    result = V[0]\n",
    "    for v in V[1:]:\n",
    "        if v > result:\n",
    "            result = v\n",
    "    return result\n",
    "\n",
    "[my_max(x) for x in A]"
   ]
  },
  {
   "cell_type": "code",
   "execution_count": 15,
   "id": "98118343",
   "metadata": {},
   "outputs": [
    {
     "data": {
      "text/plain": [
       "[9, 4, 6]"
      ]
     },
     "execution_count": 15,
     "metadata": {},
     "output_type": "execute_result"
    }
   ],
   "source": [
    "[sorted(x)[-1] for x in A]"
   ]
  },
  {
   "cell_type": "markdown",
   "id": "83b21e6a",
   "metadata": {},
   "source": [
    "Pregunta 2. Dada una lista de diccionarios, cada uno conteniendo los datos de una persona (nombres, edad, sexo), devuelva la suma de las edades de las mujeres que tienen un solo nombre."
   ]
  },
  {
   "cell_type": "code",
   "execution_count": 10,
   "id": "ae6b7fc1",
   "metadata": {},
   "outputs": [],
   "source": [
    "P = [\n",
    "    {\"nombres\":\"Juana\", \"edad\":23, \"sexo\":\"F\"},\n",
    "    {\"nombres\":\"Juan\", \"edad\":35, \"sexo\":\"M\"},\n",
    "    {\"nombres\":\"Juana Camila\", \"edad\":12, \"sexo\":\"F\"},\n",
    "    {\"nombres\":\"Juane\", \"edad\":78, \"sexo\":\"F\"},\n",
    "]"
   ]
  },
  {
   "cell_type": "code",
   "execution_count": 12,
   "id": "f97bbf2f",
   "metadata": {},
   "outputs": [
    {
     "data": {
      "text/plain": [
       "101"
      ]
     },
     "execution_count": 12,
     "metadata": {},
     "output_type": "execute_result"
    }
   ],
   "source": [
    "sum((v['edad'] for v in P if v['sexo']==\"F\" and ' ' not in v['nombres']))"
   ]
  },
  {
   "cell_type": "code",
   "execution_count": 17,
   "id": "4d4ac6db",
   "metadata": {},
   "outputs": [
    {
     "data": {
      "text/plain": [
       "101"
      ]
     },
     "execution_count": 17,
     "metadata": {},
     "output_type": "execute_result"
    }
   ],
   "source": [
    "sum((v['edad'] for v in P if v['sexo']!=\"M\" and len(v['nombres'].split()) == 1))"
   ]
  },
  {
   "cell_type": "code",
   "execution_count": 19,
   "id": "9b91c08d",
   "metadata": {},
   "outputs": [
    {
     "data": {
      "text/plain": [
       "101"
      ]
     },
     "execution_count": 19,
     "metadata": {},
     "output_type": "execute_result"
    }
   ],
   "source": [
    "mujeres = (p for p in P if p['sexo'] == \"F\")\n",
    "mujeres_un_nombre = (p for p in mujeres if ' ' not in p['nombres'])\n",
    "sum((m['edad'] for m in mujeres_un_nombre))"
   ]
  },
  {
   "cell_type": "markdown",
   "id": "a0ae7cf3",
   "metadata": {},
   "source": [
    "Pregunta 3. Dada una lista de números, devolver un diccionario con la cantidad de veces que aparece cada valor."
   ]
  },
  {
   "cell_type": "code",
   "execution_count": 9,
   "id": "3c9242d6",
   "metadata": {},
   "outputs": [],
   "source": [
    "N = [2, 3, 4, 5, 3, 2, 4, 3, 2, 2]"
   ]
  },
  {
   "cell_type": "code",
   "execution_count": 21,
   "id": "2b50aab8",
   "metadata": {},
   "outputs": [
    {
     "data": {
      "text/plain": [
       "{2: 4, 3: 3, 4: 2, 5: 1}"
      ]
     },
     "execution_count": 21,
     "metadata": {},
     "output_type": "execute_result"
    }
   ],
   "source": [
    "cnt = {}\n",
    "for n in N:\n",
    "    if n in cnt:\n",
    "        cnt[n] += 1\n",
    "    else:\n",
    "        cnt[n] = 1\n",
    "cnt"
   ]
  },
  {
   "cell_type": "code",
   "execution_count": 23,
   "id": "c7a410e7",
   "metadata": {},
   "outputs": [
    {
     "data": {
      "text/plain": [
       "{2: 4, 3: 3, 4: 2, 5: 1}"
      ]
     },
     "execution_count": 23,
     "metadata": {},
     "output_type": "execute_result"
    }
   ],
   "source": [
    "cnt = {}\n",
    "for n in N:\n",
    "    cnt[n] = cnt.get(n, 0) + 1\n",
    "cnt"
   ]
  },
  {
   "cell_type": "code",
   "execution_count": 25,
   "id": "12145c75",
   "metadata": {},
   "outputs": [
    {
     "data": {
      "text/plain": [
       "{2: 4, 3: 3, 4: 2, 5: 1}"
      ]
     },
     "execution_count": 25,
     "metadata": {},
     "output_type": "execute_result"
    }
   ],
   "source": [
    "cnt = {}\n",
    "for n in N:\n",
    "    if n not in cnt:\n",
    "        cnt[n] = N.count(n)\n",
    "cnt"
   ]
  },
  {
   "cell_type": "code",
   "execution_count": 28,
   "id": "41f0121d",
   "metadata": {},
   "outputs": [
    {
     "data": {
      "text/plain": [
       "{2: 4, 3: 3, 4: 2, 5: 1}"
      ]
     },
     "execution_count": 28,
     "metadata": {},
     "output_type": "execute_result"
    }
   ],
   "source": [
    "import itertools as it\n",
    "cnt = {key: len(list(group)) for key, group in it.groupby(sorted(N))}\n",
    "cnt"
   ]
  },
  {
   "cell_type": "code",
   "execution_count": 29,
   "id": "d40cecb1",
   "metadata": {},
   "outputs": [
    {
     "data": {
      "text/plain": [
       "{2: 4, 3: 3, 4: 2, 5: 1}"
      ]
     },
     "execution_count": 29,
     "metadata": {},
     "output_type": "execute_result"
    }
   ],
   "source": [
    "import itertools as it\n",
    "cnt = {key: sum((1 for _ in group)) for key, group in it.groupby(sorted(N))}\n",
    "cnt"
   ]
  },
  {
   "cell_type": "code",
   "execution_count": 10,
   "id": "af05eb3c",
   "metadata": {},
   "outputs": [
    {
     "data": {
      "text/plain": [
       "{0: 0, 1: 0, 2: 4, 3: 3, 4: 2, 5: 1}"
      ]
     },
     "execution_count": 10,
     "metadata": {},
     "output_type": "execute_result"
    }
   ],
   "source": [
    "{x: N.count(x) for x in range(max(N)+1) if N.count(x)>0}"
   ]
  },
  {
   "cell_type": "code",
   "execution_count": 36,
   "id": "8ea7a08f",
   "metadata": {},
   "outputs": [],
   "source": []
  },
  {
   "cell_type": "code",
   "execution_count": null,
   "id": "84dc8c8c",
   "metadata": {},
   "outputs": [],
   "source": []
  }
 ],
 "metadata": {
  "kernelspec": {
   "display_name": "Python [conda env:mlbase]",
   "language": "python",
   "name": "conda-env-mlbase-py"
  },
  "language_info": {
   "codemirror_mode": {
    "name": "ipython",
    "version": 3
   },
   "file_extension": ".py",
   "mimetype": "text/x-python",
   "name": "python",
   "nbconvert_exporter": "python",
   "pygments_lexer": "ipython3",
   "version": "3.7.13"
  }
 },
 "nbformat": 4,
 "nbformat_minor": 5
}
