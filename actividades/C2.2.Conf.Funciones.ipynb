{
 "cells": [
  {
   "cell_type": "markdown",
   "metadata": {},
   "source": [
    "## Funciones en Python"
   ]
  },
  {
   "cell_type": "code",
   "execution_count": 16,
   "metadata": {},
   "outputs": [],
   "source": [
    "# Ejemplo de función\n",
    "\n",
    "def factorial(n):\n",
    "    '''\n",
    "    Docstring\n",
    "    '''\n",
    "    if n < 2:\n",
    "        return 1\n",
    "    else:\n",
    "        return n*factorial(n-1)\n"
   ]
  },
  {
   "cell_type": "markdown",
   "metadata": {},
   "source": [
    "- La declaración comienza con **def**, luego el nombre, y los parámetros (separados por coma) entre paréntesis\n",
    "- El docstring es opcional, pero muy útil para la documentación y el uso futuro\n",
    "- Si algún camino de la función no retorna con **return** la función retorna **None**.\n",
    "- Como era de esperar, no se declara el tipo de los parámetros ni de retorno de la función"
   ]
  },
  {
   "cell_type": "markdown",
   "metadata": {},
   "source": [
    "### Tipos en Python\n",
    "En programación, el tipo de una variable referencia a la descripción de las operaciones que se pueden realizar con la variable. Por ejemplo, en C++ la siguiente declaración: \n",
    "\n",
    "**int** this_variable\n",
    "\n",
    "el compilador sabe que a *this_variable* se le pueden asignar valores enteros, se puede sumar con otros enteros, etc.\n",
    "\n",
    "Existen dos variantes de tipos:\n",
    "- tipos estáticos (como en C++), que se declaran junto con la referencia, y el compilador los chequea en tiempo de compilación\n",
    "- tipos dinámicos (como en Python), donde el ejecutor determina el tipo de una referencia dinámicamente, en el momento en que se va a utilizar.\n",
    "\n",
    "Aunque Python utiliza tipos dinámicos, utiliza tipos fuertes, lo que significa que no se puede utilizar una referencia si no posee el tipo correcto.\n",
    "\n",
    "No debe confundirse los conceptos de *tipo* y *clase*. El tipo describe *que* se puede hacer con un objeto, mientras que la clase describe el *como* se realiza una operación.\n",
    "\n",
    "Veamos algunos ejemplos."
   ]
  },
  {
   "cell_type": "code",
   "execution_count": 13,
   "metadata": {},
   "outputs": [
    {
     "name": "stdout",
     "output_type": "stream",
     "text": [
      "<class 'int'>\n"
     ]
    }
   ],
   "source": [
    "# se crea el objeto constante 4 de clase entero. Se crea referencia 'a' que 'apunta' al objeto creado\n",
    "a = 4\n",
    "print(a.__class__)"
   ]
  },
  {
   "cell_type": "markdown",
   "metadata": {},
   "source": [
    "El objeto a es de clase 'int', como esperabamos"
   ]
  },
  {
   "cell_type": "code",
   "execution_count": 14,
   "metadata": {},
   "outputs": [
    {
     "name": "stdout",
     "output_type": "stream",
     "text": [
      "6\n"
     ]
    }
   ],
   "source": [
    "print(a+2)"
   ]
  },
  {
   "cell_type": "markdown",
   "metadata": {},
   "source": [
    "a la referencia a se le buscó dinámicamente si tenía la operación + en su tipo. La clase entero tiene una operación suma que recibe otro entero como parámetro, la que fue entonces llamada."
   ]
  },
  {
   "cell_type": "code",
   "execution_count": 11,
   "metadata": {},
   "outputs": [
    {
     "ename": "AttributeError",
     "evalue": "'int' object has no attribute 'append'",
     "output_type": "error",
     "traceback": [
      "\u001b[0;31m---------------------------------------------------------------------------\u001b[0m",
      "\u001b[0;31mAttributeError\u001b[0m                            Traceback (most recent call last)",
      "\u001b[0;32m<ipython-input-11-4f4c8b26b01d>\u001b[0m in \u001b[0;36m<module>\u001b[0;34m()\u001b[0m\n\u001b[0;32m----> 1\u001b[0;31m \u001b[0ma\u001b[0m\u001b[0;34m.\u001b[0m\u001b[0mappend\u001b[0m\u001b[0;34m(\u001b[0m\u001b[0;34m'lolo'\u001b[0m\u001b[0;34m)\u001b[0m\u001b[0;34m\u001b[0m\u001b[0;34m\u001b[0m\u001b[0m\n\u001b[0m",
      "\u001b[0;31mAttributeError\u001b[0m: 'int' object has no attribute 'append'"
     ]
    }
   ],
   "source": [
    "a.append('lolo')"
   ]
  },
  {
   "cell_type": "markdown",
   "metadata": {},
   "source": [
    "La referencia 'a' no tiene el método *append* en su tipo, así que se lanza un error."
   ]
  },
  {
   "cell_type": "code",
   "execution_count": 15,
   "metadata": {
    "scrolled": false
   },
   "outputs": [
    {
     "name": "stdout",
     "output_type": "stream",
     "text": [
      "[2, 3, 4, 'lolo']\n"
     ]
    }
   ],
   "source": [
    "a = [2, 3, 4]\n",
    "a.append('lolo')\n",
    "print(a)"
   ]
  },
  {
   "cell_type": "markdown",
   "metadata": {},
   "source": [
    "La misma referencia 'a' es cambiada a la clase list(), que si tiene un método *append*, y ya no hay error.\n",
    "\n",
    "De vuelta a las funciones"
   ]
  },
  {
   "cell_type": "code",
   "execution_count": 17,
   "metadata": {},
   "outputs": [
    {
     "name": "stdout",
     "output_type": "stream",
     "text": [
      "120\n"
     ]
    }
   ],
   "source": [
    "print(factorial(5))"
   ]
  },
  {
   "cell_type": "markdown",
   "metadata": {},
   "source": [
    "- La llamada a una función se realiza mediante su nombre, y se pasan los parámetros entre paréntesis\n",
    "- Todos los parámetros son pasados \"por asignación\". Esto significa que los inmutables son copiados (al no poder ser cambiados) y los mutables son pasados por referencia."
   ]
  },
  {
   "cell_type": "code",
   "execution_count": 21,
   "metadata": {},
   "outputs": [
    {
     "name": "stdout",
     "output_type": "stream",
     "text": [
      "4\n"
     ]
    }
   ],
   "source": [
    "# Pasamos un entero, que es inmutable, así que se pasa por valor\n",
    "def modify_x(x):\n",
    "    x = x + 1\n",
    "    \n",
    "x = 4\n",
    "modify_x(x)\n",
    "print(x)"
   ]
  },
  {
   "cell_type": "code",
   "execution_count": 26,
   "metadata": {},
   "outputs": [
    {
     "name": "stdout",
     "output_type": "stream",
     "text": [
      "[3, 4, 5, '5', '6']\n"
     ]
    }
   ],
   "source": [
    "# Pasamos una lista, que es mutable, así que se pasa por referencia\n",
    "def modify_x(x):\n",
    "    x.extend(['5', '6'])\n",
    "\n",
    "x = [3, 4, 5]\n",
    "modify_x(x)\n",
    "print(x)"
   ]
  },
  {
   "cell_type": "markdown",
   "metadata": {},
   "source": [
    "En Python **no existe** sobrecarga de funciones, porque estas son especificadas solamente por su nombre, sin tomar en cuenta la cantidad, nombres o tipo de sus parámetros. Dos funciones no pueden llamarse igual aunque tengan diferentes argumentos."
   ]
  },
  {
   "cell_type": "code",
   "execution_count": 30,
   "metadata": {},
   "outputs": [
    {
     "name": "stdout",
     "output_type": "stream",
     "text": [
      "Hola Sr. Pedro\n",
      "Hola Sra. Maria\n"
     ]
    }
   ],
   "source": [
    "# Los parámetros pueden tener valores por defecto. \n",
    "def saluda(nombre, tratamiento='Sr.'):\n",
    "    print(\"Hola\", tratamiento, nombre)\n",
    "    \n",
    "saluda(\"Pedro\")\n",
    "saluda(\"Maria\", \"Sra.\")"
   ]
  },
  {
   "cell_type": "code",
   "execution_count": 31,
   "metadata": {},
   "outputs": [
    {
     "ename": "SyntaxError",
     "evalue": "non-default argument follows default argument (<ipython-input-31-e48d6ab506ec>, line 2)",
     "output_type": "error",
     "traceback": [
      "\u001b[0;36m  File \u001b[0;32m\"<ipython-input-31-e48d6ab506ec>\"\u001b[0;36m, line \u001b[0;32m2\u001b[0m\n\u001b[0;31m    def haz_algo(x, y=2, z):\u001b[0m\n\u001b[0m                ^\u001b[0m\n\u001b[0;31mSyntaxError\u001b[0m\u001b[0;31m:\u001b[0m non-default argument follows default argument\n"
     ]
    }
   ],
   "source": [
    "# Los parámetros con valores por defecto tienen que ser los últimos\n",
    "def haz_algo(x, y=2, z):\n",
    "    return x + y - z"
   ]
  },
  {
   "cell_type": "code",
   "execution_count": 33,
   "metadata": {},
   "outputs": [
    {
     "name": "stdout",
     "output_type": "stream",
     "text": [
      "Hola Sra. Lucia\n"
     ]
    }
   ],
   "source": [
    "# El orden de llamada de los parámetros puede ser cambiado si se utilizan los nombres\n",
    "saluda(tratamiento=\"Sra.\", nombre=\"Lucia\")"
   ]
  },
  {
   "cell_type": "code",
   "execution_count": 36,
   "metadata": {},
   "outputs": [
    {
     "name": "stdout",
     "output_type": "stream",
     "text": [
      "Hola Srita. Juana\n"
     ]
    }
   ],
   "source": [
    "# Los parámetros pueden estar definidos en un diccionario, y utilizar el operador de expansión **\n",
    "params = {\"tratamiento\": \"Srita.\", \"nombre\":\"Juana\"}\n",
    "saluda(**params)\n"
   ]
  },
  {
   "cell_type": "markdown",
   "metadata": {},
   "source": [
    "Las funciones en Python son ciudadanos de primera clase, por lo que pueden usarse en cualquier contexto donde un tipo es utilizable:\n",
    "- argumento a fuciones\n",
    "- valor de retorno de una función\n",
    "- asignada a variables\n",
    "- almacenadas en tuplas, listas, etc"
   ]
  },
  {
   "cell_type": "code",
   "execution_count": 41,
   "metadata": {},
   "outputs": [
    {
     "name": "stdout",
     "output_type": "stream",
     "text": [
      "Hola Sr. Juan\n",
      "Hola Sra. Juana\n"
     ]
    }
   ],
   "source": [
    "# argumento de una función\n",
    "def get_tratamiento(nombre):\n",
    "    if nombre[-1] == 'a':\n",
    "        return \"Sra.\"\n",
    "    return \"Sr.\"\n",
    "\n",
    "def saluda(nombre, tratamientador):\n",
    "    print(\"Hola\", tratamientador(nombre), nombre)\n",
    "    \n",
    "saluda(\"Juan\", get_tratamiento)\n",
    "saluda(\"Juana\", get_tratamiento)    "
   ]
  },
  {
   "cell_type": "code",
   "execution_count": 42,
   "metadata": {},
   "outputs": [
    {
     "name": "stdout",
     "output_type": "stream",
     "text": [
      "Hola Sra. Maria\n",
      "Hola Sr. Mario\n"
     ]
    }
   ],
   "source": [
    "# incluso puede usarse como valor por defecto\n",
    "def saluda(nombre, tratamientador=get_tratamiento):\n",
    "    print(\"Hola\", tratamientador(nombre), nombre)\n",
    "    \n",
    "saluda(\"Maria\")\n",
    "saluda(\"Mario\")"
   ]
  },
  {
   "cell_type": "code",
   "execution_count": 45,
   "metadata": {},
   "outputs": [
    {
     "name": "stdout",
     "output_type": "stream",
     "text": [
      "Hola Sre. Maria\n",
      "Hola Sre. Mario\n"
     ]
    }
   ],
   "source": [
    "# esto permite que el código se adapte rápidamente al lenguaje inclusivo. Notar el uso de _\n",
    "def get_tratamiento_inclusivo(_):\n",
    "    return \"Sre.\"\n",
    "\n",
    "saluda(\"Maria\", get_tratamiento_inclusivo)\n",
    "saluda(\"Mario\", get_tratamiento_inclusivo)"
   ]
  },
  {
   "cell_type": "code",
   "execution_count": 46,
   "metadata": {},
   "outputs": [
    {
     "name": "stdout",
     "output_type": "stream",
     "text": [
      "Hola Sra. Maria\n",
      "Hola Sre. Maria\n"
     ]
    }
   ],
   "source": [
    "# Valor de retorno de una función. \n",
    "# Para seguir con el ejemplo, supongamos que queremos usar un tratamientador segun el año en que se saluda\n",
    "\n",
    "def select_tratamientador(year):\n",
    "    if year < 2010:\n",
    "        return get_tratamiento\n",
    "    return get_tratamiento_inclusivo\n",
    "\n",
    "saluda(\"Maria\", select_tratamientador(1987))\n",
    "saluda(\"Maria\", select_tratamientador(2020))"
   ]
  },
  {
   "cell_type": "code",
   "execution_count": 47,
   "metadata": {},
   "outputs": [
    {
     "name": "stdout",
     "output_type": "stream",
     "text": [
      "Hola Sr. Mario\n"
     ]
    }
   ],
   "source": [
    "# Asignada a una variable\n",
    "tratamientador_1987 = select_tratamientador(1987)\n",
    "saluda(\"Mario\", tratamientador_1987)"
   ]
  },
  {
   "cell_type": "code",
   "execution_count": 49,
   "metadata": {},
   "outputs": [
    {
     "name": "stdout",
     "output_type": "stream",
     "text": [
      "Hola Sr. Mario\n",
      "Hola Sre. Mario\n"
     ]
    }
   ],
   "source": [
    "# Almacenadas en tuplas, listas, dictionarios, etc\n",
    "\n",
    "trat_por_pais = {\n",
    "    \"Cuba\": get_tratamiento,\n",
    "    \"Francia\": get_tratamiento_inclusivo,\n",
    "}\n",
    "\n",
    "saluda(\"Mario\", trat_por_pais['Cuba'])\n",
    "saluda(\"Mario\", trat_por_pais['Francia'])"
   ]
  },
  {
   "cell_type": "markdown",
   "metadata": {},
   "source": [
    "### Notación Lambda\n",
    "Python utiliza notación lambda para crear funciones anónimas. Estas son funciones que no se necesita nombrar, pues son utilizadas en contextos limitados, usualmente, como parámetros a otra función.\n",
    "\n",
    "Por ejemplo, la funcion *sort* de una lista permite pasarle una función para seleccionar qué parte de los elementos de la lista se utilizará para ordenar."
   ]
  },
  {
   "cell_type": "code",
   "execution_count": 56,
   "metadata": {},
   "outputs": [
    {
     "name": "stdout",
     "output_type": "stream",
     "text": [
      "[('luis', 5), ('maria', 12), ('mario', 15), ('juan', 23)]\n"
     ]
    }
   ],
   "source": [
    "# lista con nombre y edad\n",
    "l = [\n",
    "    (\"maria\", 12),\n",
    "    (\"juan\", 23),\n",
    "    (\"mario\", 15), \n",
    "    (\"luis\", 5)\n",
    "]\n",
    "\n",
    "# podemos hacer una función para extraer el valor que se utilizará para ordenar\n",
    "def to_sort(pair):\n",
    "    return pair[1]\n",
    "\n",
    "print(sorted(l, key=to_sort))"
   ]
  },
  {
   "cell_type": "code",
   "execution_count": 58,
   "metadata": {},
   "outputs": [
    {
     "name": "stdout",
     "output_type": "stream",
     "text": [
      "[('luis', 5), ('maria', 12), ('mario', 15), ('juan', 23)]\n"
     ]
    }
   ],
   "source": [
    "# noten que esta función no tiene otro uso que como parámetro al método *sorted*\n",
    "# De esta forma, es candidata perfecta para una función anónima, y la notación lambda\n",
    "print(sorted(l, key=lambda x: x[1]))"
   ]
  },
  {
   "cell_type": "code",
   "execution_count": 61,
   "metadata": {},
   "outputs": [
    {
     "name": "stdout",
     "output_type": "stream",
     "text": [
      "[('juan', 23), ('luis', 5), ('maria', 12), ('mario', 15)]\n"
     ]
    }
   ],
   "source": [
    "# Para ordenar por nombre\n",
    "print(sorted(l, key=lambda x: x[0]))"
   ]
  },
  {
   "cell_type": "code",
   "execution_count": null,
   "metadata": {},
   "outputs": [],
   "source": [
    "# otro ejemplo, más interesante\n",
    "\n",
    "def square(x):\n",
    "    '''eleva al cuadrado'''\n",
    "    return x * x\n",
    "\n",
    "def twice(f):\n",
    "    '''aplica dos veces una funcion'''\n",
    "    return lambda x:f(f(x))\n",
    "\n",
    "quad = twice(square)\n",
    "\n",
    "print(quad(4))\n",
    "print(quad)"
   ]
  },
  {
   "cell_type": "markdown",
   "metadata": {},
   "source": [
    "## Argumentos flexibles (desestructurando)\n",
    "Los parámetros de una función pueden declararse de forma que puedan capturar muchas formas diferentes de llamar la función. Esto mitiga la limitación de no existir sobreescritura de funciones."
   ]
  },
  {
   "cell_type": "code",
   "execution_count": 4,
   "metadata": {},
   "outputs": [
    {
     "name": "stdout",
     "output_type": "stream",
     "text": [
      "(3, 4, 5)\n",
      "****\n",
      "('aaa', 3.14, (2, 4, 5))\n"
     ]
    }
   ],
   "source": [
    "# Capturar todos los parámetros en una tupla\n",
    "def ejemplo(*args):\n",
    "    print(args)\n",
    "    \n",
    "ejemplo(3, 4, 5)\n",
    "print('****')\n",
    "ejemplo('aaa', 3.14, (2,4,5))"
   ]
  },
  {
   "cell_type": "code",
   "execution_count": 8,
   "metadata": {},
   "outputs": [
    {
     "name": "stdout",
     "output_type": "stream",
     "text": [
      "14\n",
      "alolob\n"
     ]
    }
   ],
   "source": [
    "# Por ejemplo, hacer una función que sume varios valores\n",
    "def suma_x(*numeros):\n",
    "    x = numeros[0]\n",
    "    for v in numeros[1:]:\n",
    "        x += v\n",
    "    return x\n",
    "\n",
    "print(suma_x(2, 3, 4, 5))\n",
    "print(suma_x('a', 'lolo', 'b'))"
   ]
  },
  {
   "cell_type": "code",
   "execution_count": 10,
   "metadata": {},
   "outputs": [
    {
     "name": "stdout",
     "output_type": "stream",
     "text": [
      "2\n",
      "4\n",
      "(7, 8)\n"
     ]
    }
   ],
   "source": [
    "# Al igual que con la desestructuracion, puede hacerse mas complejo\n",
    "def test2(x, y, *other):\n",
    "    print(x)\n",
    "    print(y)\n",
    "    print(other)\n",
    "    \n",
    "test2(2, 4, 7, 8)"
   ]
  },
  {
   "cell_type": "markdown",
   "metadata": {},
   "source": [
    "De forma similar se puede convertir los elementos de una sequencia en  parámetros de una función"
   ]
  },
  {
   "cell_type": "code",
   "execution_count": 11,
   "metadata": {},
   "outputs": [
    {
     "data": {
      "text/plain": [
       "17"
      ]
     },
     "execution_count": 11,
     "metadata": {},
     "output_type": "execute_result"
    }
   ],
   "source": [
    "def suma3(x, y, z):\n",
    "    return x + y + z\n",
    "\n",
    "suma3(*[4, 6, 7])"
   ]
  },
  {
   "cell_type": "markdown",
   "metadata": {},
   "source": [
    "Al igual que los parámetros que se pasan por orden, pueden también capturarse los parámetros que se pasan con nombre."
   ]
  },
  {
   "cell_type": "code",
   "execution_count": 12,
   "metadata": {},
   "outputs": [
    {
     "name": "stdout",
     "output_type": "stream",
     "text": [
      "{'edad': 12, 'sexo': 'M', 'peso': 3.14}\n"
     ]
    }
   ],
   "source": [
    "def somefn(**kwargs):\n",
    "    print(kwargs)\n",
    "    \n",
    "somefn(edad=12, sexo='M', peso=3.14)"
   ]
  },
  {
   "cell_type": "code",
   "execution_count": 15,
   "metadata": {},
   "outputs": [
    {
     "data": {
      "text/plain": [
       "14"
      ]
     },
     "execution_count": 15,
     "metadata": {},
     "output_type": "execute_result"
    }
   ],
   "source": [
    "# El dual para llamarla es\n",
    "suma3(**{'x': 2, 'y': 4, 'z': 8})"
   ]
  },
  {
   "cell_type": "code",
   "execution_count": 17,
   "metadata": {},
   "outputs": [
    {
     "name": "stdout",
     "output_type": "stream",
     "text": [
      "(3, 'pepe')\n",
      "{'edad': 5, 'sexo': 'f'}\n"
     ]
    }
   ],
   "source": [
    "# Se pueden combinar los dos tipos de parametros\n",
    "def do_it(*args, **kwargs):\n",
    "    print(args)\n",
    "    print(kwargs)\n",
    "    \n",
    "do_it(3, 'pepe', edad=5, sexo=\"f\")"
   ]
  }
 ],
 "metadata": {
  "kernelspec": {
   "display_name": "Python 3",
   "language": "python",
   "name": "python3"
  },
  "language_info": {
   "codemirror_mode": {
    "name": "ipython",
    "version": 3
   },
   "file_extension": ".py",
   "mimetype": "text/x-python",
   "name": "python",
   "nbconvert_exporter": "python",
   "pygments_lexer": "ipython3",
   "version": "3.6.9"
  }
 },
 "nbformat": 4,
 "nbformat_minor": 2
}
