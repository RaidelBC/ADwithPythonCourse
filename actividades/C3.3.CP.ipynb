{
 "cells": [
  {
   "cell_type": "markdown",
   "metadata": {},
   "source": [
    "## Ejercicios"
   ]
  },
  {
   "cell_type": "code",
   "execution_count": null,
   "metadata": {},
   "outputs": [],
   "source": [
    "# 1. Dada la siguiente lista y diccionario, utilice comprehensions para:\n",
    "a_list = list(range(10))\n",
    "digit_name = {\n",
    "    0: 'zero',\n",
    "    1: 'one',\n",
    "    2: 'two',\n",
    "    3: 'three',\n",
    "    4: 'four',\n",
    "    5: 'five',\n",
    "    6: 'six',\n",
    "    7: 'seven',\n",
    "    8: 'eight',\n",
    "    9: 'nine',\n",
    "}\n"
   ]
  },
  {
   "cell_type": "code",
   "execution_count": null,
   "metadata": {},
   "outputs": [],
   "source": [
    "# a) Valores en a_list multiplicados por 10\n"
   ]
  },
  {
   "cell_type": "code",
   "execution_count": null,
   "metadata": {},
   "outputs": [],
   "source": [
    "# b) Triplos de los valores impares en a_list\n"
   ]
  },
  {
   "cell_type": "code",
   "execution_count": null,
   "metadata": {},
   "outputs": [],
   "source": [
    "# c) Lista con los nombres de los digitos en a_list\n"
   ]
  },
  {
   "cell_type": "code",
   "execution_count": null,
   "metadata": {},
   "outputs": [],
   "source": [
    "# d) Similar a c), pero los impares se substituyen por 'odd'\n"
   ]
  },
  {
   "cell_type": "code",
   "execution_count": null,
   "metadata": {},
   "outputs": [],
   "source": [
    "# 1a. Entre un entero por teclado y haga una lista con los nombres de \n",
    "# sus digitos\n"
   ]
  },
  {
   "cell_type": "code",
   "execution_count": null,
   "metadata": {},
   "outputs": [],
   "source": [
    "# 1b. Similar al anterior, pero imprimir los digitos separados por '-'"
   ]
  },
  {
   "cell_type": "code",
   "execution_count": null,
   "metadata": {},
   "outputs": [],
   "source": [
    "# 2. Encuentre los numeros del 1 al 200 divisibles por 8\n"
   ]
  },
  {
   "cell_type": "code",
   "execution_count": null,
   "metadata": {},
   "outputs": [],
   "source": [
    "# 3. Encuentre los numeros del 1 al 100 que tienen al menos un digito 6\n"
   ]
  },
  {
   "cell_type": "code",
   "execution_count": null,
   "metadata": {},
   "outputs": [],
   "source": [
    "# 4. Encuentre los numeros del 1 al 1000 que tienen exactamente \n",
    "# dos digitos 4\n"
   ]
  },
  {
   "cell_type": "code",
   "execution_count": null,
   "metadata": {},
   "outputs": [],
   "source": [
    "# 5. Remover las vocales de una cadena\n"
   ]
  },
  {
   "cell_type": "code",
   "execution_count": null,
   "metadata": {},
   "outputs": [],
   "source": [
    "# 6. Utilice una comprehension anidada para encontrar todos los numeros\n",
    "# de 1 a 200 que son divisibles por cualquier digito del 2 al 9\n"
   ]
  },
  {
   "cell_type": "code",
   "execution_count": null,
   "metadata": {},
   "outputs": [],
   "source": [
    "# 7. Utilice una comprehension anidada para encontrar todos los numeros\n",
    "# de 1 a 200 que no son divisibles por ningun digito del 2 al 9\n"
   ]
  },
  {
   "cell_type": "code",
   "execution_count": null,
   "metadata": {},
   "outputs": [],
   "source": [
    "# 8. Utilice una comprehension anidada para encontrar todos los numeros\n",
    "# de 1 a 200 que tienen exactamente dos divisores no triviales \n"
   ]
  },
  {
   "cell_type": "code",
   "execution_count": null,
   "metadata": {},
   "outputs": [],
   "source": [
    "# 9. Cree un diccionario donde se asocie a cada numero del 1 al 1000\n",
    "# el mayor digito por el que es divisible\n"
   ]
  },
  {
   "cell_type": "code",
   "execution_count": null,
   "metadata": {},
   "outputs": [],
   "source": [
    "# 10. Basandose en el resultado anterior, genera un diccionario para la\n",
    "# cantidad de veces que cada digito fue el seleccionado\n"
   ]
  },
  {
   "cell_type": "code",
   "execution_count": null,
   "metadata": {},
   "outputs": [],
   "source": [
    "# 11. El siguiente codigo carga una lista de nombres de Marvel, bajada\n",
    "# de Internet\n"
   ]
  },
  {
   "cell_type": "code",
   "execution_count": null,
   "metadata": {},
   "outputs": [],
   "source": [
    "# a) Crea una lista con los nombres de los caracteres solamente\n"
   ]
  },
  {
   "cell_type": "code",
   "execution_count": null,
   "metadata": {},
   "outputs": [],
   "source": [
    "# b) Algunos caracteres tienen varios nombres, separados por /. \n",
    "# Modifique la lista para que cada elemento sea una lista de estos\n",
    "# valores. Elimine los valores vacios\n"
   ]
  },
  {
   "cell_type": "code",
   "execution_count": null,
   "metadata": {},
   "outputs": [],
   "source": [
    "# c) Encuentre el o los heroes que tienen mayor cantidad de nombres\n"
   ]
  },
  {
   "cell_type": "code",
   "execution_count": null,
   "metadata": {},
   "outputs": [],
   "source": [
    "# d) Elimine aquellos que el primer nombre tenga menos de 3 caracteres\n"
   ]
  },
  {
   "cell_type": "code",
   "execution_count": null,
   "metadata": {},
   "outputs": [],
   "source": [
    "# e) Adicione a cada nombre de la lista anterior un '%' al inicio \n",
    "# y al final\n"
   ]
  },
  {
   "cell_type": "code",
   "execution_count": null,
   "metadata": {},
   "outputs": [],
   "source": [
    "# 12. Ordene las letras iniciales mas utilizada en los nombres de los Avengers\n"
   ]
  },
  {
   "cell_type": "markdown",
   "metadata": {},
   "source": [
    "### Iteradores"
   ]
  },
  {
   "cell_type": "code",
   "execution_count": null,
   "metadata": {},
   "outputs": [],
   "source": [
    "# 13. Dada una lista de numeros, extraiga aquellos que tienen un \n",
    "# valor menor que su posición en la lista\n"
   ]
  },
  {
   "cell_type": "code",
   "execution_count": null,
   "metadata": {},
   "outputs": [],
   "source": [
    "# 14. Extraiga de una lista los valores posteriores al primer numero par\n",
    "# tip1: la funcion min() devuelve el minimo de una lista\n",
    "# tip2: enumerate???\n"
   ]
  },
  {
   "cell_type": "code",
   "execution_count": null,
   "metadata": {},
   "outputs": [],
   "source": [
    "# 15. Utilizando map y filter, obtenga la lista con el triplo de \n",
    "# los numeros entre 0 y 100 que son impares\n"
   ]
  },
  {
   "cell_type": "code",
   "execution_count": null,
   "metadata": {},
   "outputs": [],
   "source": [
    "# 16. Dada las siguientes listas, encuentre la diferencia entre los \n",
    "# elementos que estan en las mismas posiciones\n"
   ]
  },
  {
   "cell_type": "code",
   "execution_count": null,
   "metadata": {},
   "outputs": [],
   "source": [
    "# 17. Dada la siguiente lista de numeros\n"
   ]
  },
  {
   "cell_type": "code",
   "execution_count": null,
   "metadata": {},
   "outputs": [],
   "source": [
    "# a) Encuentre la maxima suma entre dos elementos consecutivos\n"
   ]
  },
  {
   "cell_type": "code",
   "execution_count": null,
   "metadata": {},
   "outputs": [],
   "source": [
    "# b) Encuentre la maxima suma entre tres elementos consecutivos\n"
   ]
  },
  {
   "cell_type": "code",
   "execution_count": null,
   "metadata": {},
   "outputs": [],
   "source": [
    "# c) Encuentre los elementos consecutivos con suma maxima\n"
   ]
  },
  {
   "cell_type": "code",
   "execution_count": null,
   "metadata": {},
   "outputs": [],
   "source": [
    "# d) Cree una nueva lista donde se le alternen los signos a\n",
    "# los elementos\n"
   ]
  },
  {
   "cell_type": "code",
   "execution_count": null,
   "metadata": {},
   "outputs": [],
   "source": [
    "# 18. Se lanza 10 veces una moneda. Cual es la probabilidad que \n",
    "# 3 lanzamientos consecutivos sean 'cara'?\n"
   ]
  },
  {
   "cell_type": "code",
   "execution_count": null,
   "metadata": {},
   "outputs": [],
   "source": [
    "# 19. En una caja hay 10 medias negras, 20 rojas y 30 amarillas. Cual\n",
    "# es la probabilidad que al sacar un par de medias sean del mismo \n",
    "# color\n"
   ]
  },
  {
   "cell_type": "code",
   "execution_count": null,
   "metadata": {},
   "outputs": [],
   "source": [
    "# 20. En una caja hay k bolas con numeros del 1 a k. Cual es la \n",
    "# probabilidad que al sacar la mitad de las bolas estas sumen \n",
    "# igual o mas del doble que las otras\n"
   ]
  },
  {
   "cell_type": "code",
   "execution_count": null,
   "metadata": {},
   "outputs": [],
   "source": [
    "# 21. Con las cifras 1, 2 y 3 cuántos números de 5 cifraspueden formarse?\n",
    "# Cuántos son divisibles por 7?\n"
   ]
  },
  {
   "cell_type": "code",
   "execution_count": null,
   "metadata": {},
   "outputs": [],
   "source": [
    "# 22. Una mesa presidencial está formada por ocho personas, \n",
    "# ¿de cuántas formas distintas se pueden sentar, si el presidente \n",
    "# y el secretario siempre van juntos?\n"
   ]
  },
  {
   "cell_type": "markdown",
   "metadata": {},
   "source": [
    "## Respuestas\n",
    "### Comprehensions"
   ]
  },
  {
   "cell_type": "code",
   "execution_count": null,
   "metadata": {},
   "outputs": [],
   "source": [
    "# 1. Dada la siguiente lista y diccionario, utilice comprehensions para:\n",
    "a_list = list(range(10))\n",
    "digit_name = {\n",
    "    0: 'zero',\n",
    "    1: 'one',\n",
    "    2: 'two',\n",
    "    3: 'three',\n",
    "    4: 'four',\n",
    "    5: 'five',\n",
    "    6: 'six',\n",
    "    7: 'seven',\n",
    "    8: 'eight',\n",
    "    9: 'nine',\n",
    "}\n"
   ]
  },
  {
   "cell_type": "code",
   "execution_count": null,
   "metadata": {},
   "outputs": [],
   "source": [
    "# a) Valores en a_list multiplicados por 10\n",
    "[a*10 for a in a_list]"
   ]
  },
  {
   "cell_type": "code",
   "execution_count": null,
   "metadata": {},
   "outputs": [],
   "source": [
    "# b) Triplos de los valores impares en a_list\n",
    "[a*3 for a in a_list if a % 2 == 1]"
   ]
  },
  {
   "cell_type": "code",
   "execution_count": null,
   "metadata": {},
   "outputs": [],
   "source": [
    "# c) Lista con los nombres de los digitos en a_list\n",
    "[digit_name[a] for a in a_list]"
   ]
  },
  {
   "cell_type": "code",
   "execution_count": null,
   "metadata": {},
   "outputs": [],
   "source": [
    "# d) Similar a c), pero los impares se substituyen por 'odd'\n",
    "[digit_name[a] if a%2==0 else 'odd' for a in a_list]"
   ]
  },
  {
   "cell_type": "code",
   "execution_count": null,
   "metadata": {},
   "outputs": [],
   "source": [
    "# también puede hacerse con una función\n",
    "def get_name(d):\n",
    "    if d % 2 == 1:\n",
    "        return \"odd\"\n",
    "    return digit_name[d]\n",
    "[get_name(a) for a in a_list]"
   ]
  },
  {
   "cell_type": "code",
   "execution_count": null,
   "metadata": {},
   "outputs": [],
   "source": [
    "# 1a. Entre un entero por teclado y haga una lista con los nombres de \n",
    "# sus digitos\n",
    "number = input(\"Entre numero:\")\n",
    "[digit_name[int(n)] for n in number]"
   ]
  },
  {
   "cell_type": "code",
   "execution_count": null,
   "metadata": {},
   "outputs": [],
   "source": [
    "# 1b. Similar al anterior, pero imprimir los digitos separados por '-'\n",
    "number = input(\"Entre numero:\")\n",
    "\"-\".join([digit_name[int(n)] for n in number])"
   ]
  },
  {
   "cell_type": "code",
   "execution_count": null,
   "metadata": {},
   "outputs": [],
   "source": [
    "# 2. Encuentre los numeros del 1 al 200 divisibles por 8\n",
    "[x for x in range(1,101) if x % 8 == 0]"
   ]
  },
  {
   "cell_type": "code",
   "execution_count": null,
   "metadata": {},
   "outputs": [],
   "source": [
    "# 3. Encuentre los numeros del 1 al 100 que tienen al menos un digito 6\n",
    "[x for x in range(1,101) if '6' in str(x)]"
   ]
  },
  {
   "cell_type": "code",
   "execution_count": null,
   "metadata": {},
   "outputs": [],
   "source": [
    "# - otra variante mas matematica\n",
    "def has_digit(n, digit):\n",
    "    while n > 0:\n",
    "        r = n % 10\n",
    "        if r == digit:\n",
    "            return True\n",
    "        n = n // 10\n",
    "    return False\n",
    "\n",
    "[x for x in range(1,101) if has_digit(x, 6)]"
   ]
  },
  {
   "cell_type": "code",
   "execution_count": null,
   "metadata": {},
   "outputs": [],
   "source": [
    "# 4. Encuentre los numeros del 1 al 1000 que tienen exactamente \n",
    "# dos digitos 4\n",
    "def count_digit(n, digit):\n",
    "    result = 0\n",
    "    while n > 0:\n",
    "        r = n % 10\n",
    "        if r == digit:\n",
    "            result += 1\n",
    "        n = n // 10\n",
    "    return result\n",
    "\n",
    "print([x for x in range(1001) if count_digit(x, 4) == 2])"
   ]
  },
  {
   "cell_type": "code",
   "execution_count": null,
   "metadata": {},
   "outputs": [],
   "source": [
    "# 5. Remover las vocales de una cadena\n",
    "cadena = \"la vaca lola tiene cabeza y tiene cola\"\n",
    "\"\".join((v for v in cadena if v not in 'aeiouAEIOU'))"
   ]
  },
  {
   "cell_type": "code",
   "execution_count": null,
   "metadata": {},
   "outputs": [],
   "source": [
    "# 6. Utilice una comprehension anidada para encontrar todos los numeros\n",
    "# de 1 a 200 que son divisibles por cualquier digito del 2 al 9\n",
    "l = [n for n in range(1, 201) if any(n%d == 0 for d in range(2,10))]\n",
    "print(l)"
   ]
  },
  {
   "cell_type": "code",
   "execution_count": null,
   "metadata": {},
   "outputs": [],
   "source": [
    "# 7. Utilice una comprehension anidada para encontrar todos los numeros\n",
    "# de 1 a 200 que no son divisibles por ningun digito del 2 al 9\n",
    "l = [n for n in range(1, 201) if all(n%d != 0 for d in range(2,10))]\n",
    "print(l)"
   ]
  },
  {
   "cell_type": "code",
   "execution_count": null,
   "metadata": {},
   "outputs": [],
   "source": [
    "# 8. Utilice una comprehension anidada para encontrar todos los numeros\n",
    "# de 1 a 200 que tienen exactamente dos divisores no triviales \n",
    "l = [n for n in range(1, 201) \n",
    "     if sum([1 for d in range(1,200) if n%d == 0]) == 4]\n",
    "print(l)"
   ]
  },
  {
   "cell_type": "code",
   "execution_count": null,
   "metadata": {},
   "outputs": [],
   "source": [
    "# 9. Cree un diccionario donde se asocie a cada numero del 1 al 1000\n",
    "# el mayor digito por el que es divisible\n",
    "max_divisor = {num:max([divisor for divisor in range(1,10) if num % divisor == 0]) \n",
    "     for num in range(1,1001)}\n",
    "max_divisor"
   ]
  },
  {
   "cell_type": "code",
   "execution_count": null,
   "metadata": {},
   "outputs": [],
   "source": [
    "# 10. Basandose en el resultado anterior, genera un diccionario para la\n",
    "# cantidad de veces que cada digito fue el seleccionado\n",
    "\n",
    "{n:sum((1 for v in max_divisor.values() if v == n)) for n in range(1,10)}"
   ]
  },
  {
   "cell_type": "code",
   "execution_count": null,
   "metadata": {},
   "outputs": [],
   "source": [
    "# 11. El siguiente codigo carga una lista de nombres de Marvel, bajada\n",
    "# de Internet\n",
    "with open('data/Marvel-names.txt', 'r', encoding='iso-8859-1',\n",
    "                 errors='ignore') as f:\n",
    "    lines = f.readlines()\n",
    "lines[:10]"
   ]
  },
  {
   "cell_type": "code",
   "execution_count": null,
   "metadata": {},
   "outputs": [],
   "source": [
    "# a) Crea una lista con los nombres de los caracteres solamente\n",
    "def process_line(l):\n",
    "    idx1 = l.find('\"')\n",
    "    l = l[idx1+1:]\n",
    "    idx2 = l.find('\"')\n",
    "    return l[:idx2].strip()\n",
    "names = [process_line(l) for l in lines]\n",
    "names[1:10]"
   ]
  },
  {
   "cell_type": "code",
   "execution_count": null,
   "metadata": {},
   "outputs": [],
   "source": [
    "# b) Algunos caracteres tienen varios nombres, separados por /. \n",
    "# Modifique la lista para que cada elemento sea una lista de estos\n",
    "# valores. Elimine los valores vacios\n",
    "all_names = [[v for v in n.split(\"/\") if len(v)>0] for n in names]\n",
    "all_names[:10]"
   ]
  },
  {
   "cell_type": "code",
   "execution_count": null,
   "metadata": {},
   "outputs": [],
   "source": [
    "# c) Encuentre el o los heroes que tienen mayor cantidad de nombres\n",
    "max_cant = max((len(n) for n in all_names))\n",
    "more_names = [v for v in all_names if len(v) == max_cant]\n",
    "more_names[:30]"
   ]
  },
  {
   "cell_type": "code",
   "execution_count": null,
   "metadata": {},
   "outputs": [],
   "source": [
    "# d) Elimine aquellos que el primer nombre tenga menos de 3 caracteres\n",
    "selected = [m for m in more_names if len(m[0]) > 2]\n",
    "selected"
   ]
  },
  {
   "cell_type": "code",
   "execution_count": null,
   "metadata": {},
   "outputs": [],
   "source": [
    "# e) Adicione a cada nombre de la lista anterior un '%' al inicio \n",
    "# y al final\n",
    "[['%'+n+'%' for n in m] for m in selected]"
   ]
  },
  {
   "cell_type": "code",
   "execution_count": null,
   "metadata": {},
   "outputs": [],
   "source": [
    "# 12. Ordene las letras iniciales mas utilizada en los nombres de los Avengers\n",
    "import itertools as it\n",
    "\n",
    "letras_iniciales = [\"\".join(l[0] for l in n) for n in all_names]\n",
    "# antes de agrupar, hay que ordenar\n",
    "ordenadas = sorted(\"\".join(letras_iniciales))\n",
    "grupos = [(k, len(list(v))) for k, v in it.groupby(ordenadas)]\n",
    "sorted([g for g in grupos if g[0].isalpha()], key=lambda x: -x[1])"
   ]
  },
  {
   "cell_type": "markdown",
   "metadata": {},
   "source": [
    "### Iteradores"
   ]
  },
  {
   "cell_type": "code",
   "execution_count": null,
   "metadata": {},
   "outputs": [],
   "source": [
    "# 13. Dada una lista de numeros, extraiga aquellos que tienen un \n",
    "# valor menor que su posición en la lista\n",
    "lst = [2, 4, 3, 1, 7, 6, 5]\n",
    "[l for idx, l in enumerate(lst) if l<idx]"
   ]
  },
  {
   "cell_type": "code",
   "execution_count": null,
   "metadata": {},
   "outputs": [],
   "source": [
    "# 14. Extraiga de una lista los valores posteriores al primer numero par\n",
    "# tip1: la funcion min() devuelve el minimo de una lista\n",
    "# tip2: enumerate???\n",
    "lst = [3, 5, 7, 2, 9, 23, 34, 14]\n",
    "first_par_idx = min([idx for idx, l in enumerate(lst) if l%2 == 0])\n",
    "lst[first_par_idx+1:]"
   ]
  },
  {
   "cell_type": "code",
   "execution_count": null,
   "metadata": {},
   "outputs": [],
   "source": [
    "# 15. Utilizando map y filter, obtenga la lista con el triplo de \n",
    "# los numeros entre 0 y 100 que son impares\n",
    "result = list(map(lambda x: 3*x, filter(lambda x: x % 2 == 1, range(101))))\n",
    "print(result)"
   ]
  },
  {
   "cell_type": "code",
   "execution_count": null,
   "metadata": {},
   "outputs": [],
   "source": [
    "# 16. Dada las siguientes listas, encuentre la diferencia entre los \n",
    "# elementos que estan en las mismas posiciones\n",
    "l1 = [16, 21, 29, 98, 14, 88, 47, 34, 93] \n",
    "l2 = [97, 5, 68, 31, 18, 98, 29, 77, 70]\n",
    "[x - y for x, y in zip(l1, l2)]"
   ]
  },
  {
   "cell_type": "code",
   "execution_count": null,
   "metadata": {},
   "outputs": [],
   "source": [
    "# 17. Dada la siguiente lista de numeros\n",
    "vals = [16, 21, 29, 98, 14, 88, 47, 34, 93, 19, 17, 37, 84, 61, \n",
    "     97, 5, 68, 31, 18, 98, 29, 77, 70, 21, 15, 16, 62, 3, 54, 73]"
   ]
  },
  {
   "cell_type": "code",
   "execution_count": null,
   "metadata": {},
   "outputs": [],
   "source": [
    "# a) Encuentre la maxima suma entre dos elementos consecutivos\n",
    "max(v1 + v2 for v1, v2 in zip(vals, vals[1:]))"
   ]
  },
  {
   "cell_type": "code",
   "execution_count": null,
   "metadata": {},
   "outputs": [],
   "source": [
    "# b) Encuentre la maxima suma entre tres elementos consecutivos\n",
    "max(v1 + v2 + v3 for v1, v2, v3 in zip(vals, vals[1:], vals[2:]))"
   ]
  },
  {
   "cell_type": "code",
   "execution_count": null,
   "metadata": {},
   "outputs": [],
   "source": [
    "# c) Encuentre los elementos consecutivos con suma maxima\n",
    "ordered = sorted(((v1, v2, v1 + v2) for v1, v2 in zip(vals, vals[1:])), \n",
    "      key=lambda x: -x[2])\n",
    "ordered[0]"
   ]
  },
  {
   "cell_type": "code",
   "execution_count": null,
   "metadata": {},
   "outputs": [],
   "source": [
    "# d) Cree una nueva lista donde se le alternen los signos a\n",
    "# los elementos\n",
    "print([x*sgn for x,sgn in zip(vals, it.cycle([1, -1]))])"
   ]
  },
  {
   "cell_type": "code",
   "execution_count": null,
   "metadata": {},
   "outputs": [],
   "source": [
    "# 18. Se lanza 10 veces una moneda. Cual es la probabilidad que \n",
    "# 3 lanzamientos consecutivos sean 'cara'?\n",
    "opts = (\"\".join(opt) for opt in it.product(*('ce' for _ in range(10))))\n",
    "positive = ['ccc' in o for o in opts]\n",
    "sum(positive) / len(positive)"
   ]
  },
  {
   "cell_type": "code",
   "execution_count": null,
   "metadata": {},
   "outputs": [],
   "source": [
    "# 19. En una caja hay 10 medias negras, 20 rojas y 30 amarillas. Cual\n",
    "# es la probabilidad que al sacar un par de medias sean del mismo \n",
    "# color\n",
    "all_set = 'n' * 10 + 'r' * 20 + 'a' * 30\n",
    "positive = [c1 == c2 for c1, c2 in it.combinations(all_set, 2)]\n",
    "sum(positive) / len(positive)"
   ]
  },
  {
   "cell_type": "code",
   "execution_count": null,
   "metadata": {},
   "outputs": [],
   "source": [
    "# 20. En una caja hay k bolas con numeros del 1 a k. Cual es la \n",
    "# probabilidad que al sacar la mitad de las bolas estas sumen \n",
    "# igual o mas del doble que las otras\n",
    "num_balls = 10\n",
    "options = it.permutations(range(1, num_balls+1))\n",
    "\n",
    "#print(*options)\n",
    "positive = [sum(o[:num_balls//2]) / sum(o[num_balls//2:]) >= 2 \n",
    "            for o in options]\n",
    "sum(positive) / len(positive)"
   ]
  },
  {
   "cell_type": "code",
   "execution_count": null,
   "metadata": {},
   "outputs": [],
   "source": [
    "# 21. Con las cifras 1, 2 y 3 cuántos números de 5 cifraspueden formarse?\n",
    "# Cuántos son divisibles por 7?\n",
    "candidates = list(it.product(*([1, 2, 3] for _ in range(5))))\n",
    "print(len(candidates))\n",
    "div7 = [x for x in (int(\"\".join((str(v) for v in c))) for c in candidates)\n",
    "     if x % 7 == 0]\n",
    "print(len(div7))"
   ]
  },
  {
   "cell_type": "code",
   "execution_count": null,
   "metadata": {},
   "outputs": [],
   "source": [
    "# 22. Una mesa presidencial está formada por ocho personas, \n",
    "# ¿de cuántas formas distintas se pueden sentar, si el presidente \n",
    "# y el secretario siempre van juntos?\n",
    "personas = \"abcdefsp\"\n",
    "sentados = [\"\".join(x) for x in it.permutations(personas)]\n",
    "positivos = [s for s in sentados if \"ps\" in s or \"sp\" in s]\n",
    "#print(positivos)\n",
    "print(len(positivos))"
   ]
  }
 ],
 "metadata": {
  "kernelspec": {
   "display_name": "Python 3",
   "language": "python",
   "name": "python3"
  },
  "language_info": {
   "codemirror_mode": {
    "name": "ipython",
    "version": 3
   },
   "file_extension": ".py",
   "mimetype": "text/x-python",
   "name": "python",
   "nbconvert_exporter": "python",
   "pygments_lexer": "ipython3",
   "version": "3.6.9"
  }
 },
 "nbformat": 4,
 "nbformat_minor": 2
}
