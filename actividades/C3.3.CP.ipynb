{
 "cells": [
  {
   "cell_type": "markdown",
   "metadata": {},
   "source": [
    "## Ejercicios"
   ]
  },
  {
   "cell_type": "code",
   "execution_count": null,
   "metadata": {},
   "outputs": [],
   "source": [
    "# 1. Dada la siguiente lista y diccionario, utilice comprehensions para:\n",
    "a_list = list(range(10))\n",
    "digit_name = {\n",
    "    0: 'zero',\n",
    "    1: 'one',\n",
    "    2: 'two',\n",
    "    3: 'three',\n",
    "    4: 'four',\n",
    "    5: 'five',\n",
    "    6: 'six',\n",
    "    7: 'seven',\n",
    "    8: 'eight',\n",
    "    9: 'nine',\n",
    "}\n"
   ]
  },
  {
   "cell_type": "code",
   "execution_count": null,
   "metadata": {},
   "outputs": [],
   "source": [
    "# a) Valores en a_list multiplicados por 10\n"
   ]
  },
  {
   "cell_type": "code",
   "execution_count": null,
   "metadata": {},
   "outputs": [],
   "source": [
    "# b) Triplos de los valores impares en a_list\n"
   ]
  },
  {
   "cell_type": "code",
   "execution_count": null,
   "metadata": {},
   "outputs": [],
   "source": [
    "# c) Lista con los nombres de los digitos en a_list\n"
   ]
  },
  {
   "cell_type": "code",
   "execution_count": null,
   "metadata": {},
   "outputs": [],
   "source": [
    "# d) Similar a c), pero los impares se substituyen por 'odd'\n"
   ]
  },
  {
   "cell_type": "code",
   "execution_count": null,
   "metadata": {},
   "outputs": [],
   "source": [
    "# 1a. Entre un entero por teclado y haga una lista con los nombres de \n",
    "# sus digitos\n"
   ]
  },
  {
   "cell_type": "code",
   "execution_count": null,
   "metadata": {},
   "outputs": [],
   "source": [
    "# 1b. Similar al anterior, pero imprimir los digitos separados por '-'"
   ]
  },
  {
   "cell_type": "code",
   "execution_count": null,
   "metadata": {},
   "outputs": [],
   "source": [
    "# 2. Encuentre los numeros del 1 al 200 divisibles por 8\n"
   ]
  },
  {
   "cell_type": "code",
   "execution_count": null,
   "metadata": {},
   "outputs": [],
   "source": [
    "# 3. Encuentre los numeros del 1 al 100 que tienen al menos un digito 6\n"
   ]
  },
  {
   "cell_type": "code",
   "execution_count": null,
   "metadata": {},
   "outputs": [],
   "source": [
    "# 4. Encuentre los numeros del 1 al 1000 que tienen exactamente \n",
    "# dos digitos 4\n"
   ]
  },
  {
   "cell_type": "code",
   "execution_count": null,
   "metadata": {},
   "outputs": [],
   "source": [
    "# 5. Remover las vocales de una cadena\n"
   ]
  },
  {
   "cell_type": "code",
   "execution_count": null,
   "metadata": {},
   "outputs": [],
   "source": [
    "# 6. Utilice una comprehension anidada para encontrar todos los numeros\n",
    "# de 1 a 200 que son divisibles por cualquier digito del 2 al 9\n"
   ]
  },
  {
   "cell_type": "code",
   "execution_count": null,
   "metadata": {},
   "outputs": [],
   "source": [
    "# 7. Utilice una comprehension anidada para encontrar todos los numeros\n",
    "# de 1 a 200 que no son divisibles por ningun digito del 2 al 9\n"
   ]
  },
  {
   "cell_type": "code",
   "execution_count": null,
   "metadata": {},
   "outputs": [],
   "source": [
    "# 8. Utilice una comprehension anidada para encontrar todos los numeros\n",
    "# de 1 a 200 que tienen exactamente dos divisores no triviales \n"
   ]
  },
  {
   "cell_type": "code",
   "execution_count": null,
   "metadata": {},
   "outputs": [],
   "source": [
    "# 9. Cree un diccionario donde se asocie a cada numero del 1 al 1000\n",
    "# el mayor digito por el que es divisible\n"
   ]
  },
  {
   "cell_type": "code",
   "execution_count": null,
   "metadata": {},
   "outputs": [],
   "source": [
    "# 10. Basandose en el resultado anterior, genera un diccionario para la\n",
    "# cantidad de veces que cada digito fue el seleccionado\n"
   ]
  },
  {
   "cell_type": "code",
   "execution_count": null,
   "metadata": {},
   "outputs": [],
   "source": [
    "# 11. El siguiente codigo carga una lista de nombres de Marvel, bajada\n",
    "# de Internet\n"
   ]
  },
  {
   "cell_type": "code",
   "execution_count": null,
   "metadata": {},
   "outputs": [],
   "source": [
    "# a) Crea una lista con los nombres de los caracteres solamente\n"
   ]
  },
  {
   "cell_type": "code",
   "execution_count": null,
   "metadata": {},
   "outputs": [],
   "source": [
    "# b) Algunos caracteres tienen varios nombres, separados por /. \n",
    "# Modifique la lista para que cada elemento sea una lista de estos\n",
    "# valores. Elimine los valores vacios\n"
   ]
  },
  {
   "cell_type": "code",
   "execution_count": null,
   "metadata": {},
   "outputs": [],
   "source": [
    "# c) Encuentre el o los heroes que tienen mayor cantidad de nombres\n"
   ]
  },
  {
   "cell_type": "code",
   "execution_count": null,
   "metadata": {},
   "outputs": [],
   "source": [
    "# d) Elimine aquellos que el primer nombre tenga menos de 3 caracteres\n"
   ]
  },
  {
   "cell_type": "code",
   "execution_count": null,
   "metadata": {},
   "outputs": [],
   "source": [
    "# e) Adicione a cada nombre de la lista anterior un '%' al inicio \n",
    "# y al final\n"
   ]
  },
  {
   "cell_type": "code",
   "execution_count": null,
   "metadata": {},
   "outputs": [],
   "source": [
    "# 12. Ordene las letras iniciales mas utilizada en los nombres de los Avengers\n"
   ]
  },
  {
   "cell_type": "markdown",
   "metadata": {},
   "source": [
    "### Iteradores"
   ]
  },
  {
   "cell_type": "code",
   "execution_count": null,
   "metadata": {},
   "outputs": [],
   "source": [
    "# 13. Dada una lista de numeros, extraiga aquellos que tienen un \n",
    "# valor menor que su posición en la lista\n"
   ]
  },
  {
   "cell_type": "code",
   "execution_count": null,
   "metadata": {},
   "outputs": [],
   "source": [
    "# 14. Extraiga de una lista los valores posteriores al primer numero par\n",
    "# tip1: la funcion min() devuelve el minimo de una lista\n",
    "# tip2: enumerate???\n"
   ]
  },
  {
   "cell_type": "code",
   "execution_count": null,
   "metadata": {},
   "outputs": [],
   "source": [
    "# 15. Utilizando map y filter, obtenga la lista con el triplo de \n",
    "# los numeros entre 0 y 100 que son impares\n"
   ]
  },
  {
   "cell_type": "code",
   "execution_count": null,
   "metadata": {},
   "outputs": [],
   "source": [
    "# 16. Dada las siguientes listas, encuentre la diferencia entre los \n",
    "# elementos que estan en las mismas posiciones\n"
   ]
  },
  {
   "cell_type": "code",
   "execution_count": null,
   "metadata": {},
   "outputs": [],
   "source": [
    "# 17. Dada la siguiente lista de numeros\n"
   ]
  },
  {
   "cell_type": "code",
   "execution_count": null,
   "metadata": {},
   "outputs": [],
   "source": [
    "# a) Encuentre la maxima suma entre dos elementos consecutivos\n"
   ]
  },
  {
   "cell_type": "code",
   "execution_count": null,
   "metadata": {},
   "outputs": [],
   "source": [
    "# b) Encuentre la maxima suma entre tres elementos consecutivos\n"
   ]
  },
  {
   "cell_type": "code",
   "execution_count": null,
   "metadata": {},
   "outputs": [],
   "source": [
    "# c) Encuentre los elementos consecutivos con suma maxima\n"
   ]
  },
  {
   "cell_type": "code",
   "execution_count": null,
   "metadata": {},
   "outputs": [],
   "source": [
    "# d) Cree una nueva lista donde se le alternen los signos a\n",
    "# los elementos\n"
   ]
  },
  {
   "cell_type": "code",
   "execution_count": null,
   "metadata": {},
   "outputs": [],
   "source": [
    "# 18. Se lanza 10 veces una moneda. Cual es la probabilidad que \n",
    "# 3 lanzamientos consecutivos sean 'cara'?\n"
   ]
  },
  {
   "cell_type": "code",
   "execution_count": null,
   "metadata": {},
   "outputs": [],
   "source": [
    "# 19. En una caja hay 10 medias negras, 20 rojas y 30 amarillas. Cual\n",
    "# es la probabilidad que al sacar un par de medias sean del mismo \n",
    "# color\n"
   ]
  },
  {
   "cell_type": "code",
   "execution_count": null,
   "metadata": {},
   "outputs": [],
   "source": [
    "# 20. En una caja hay k bolas con numeros del 1 a k. Cual es la \n",
    "# probabilidad que al sacar la mitad de las bolas estas sumen \n",
    "# igual o mas del doble que las otras\n"
   ]
  },
  {
   "cell_type": "code",
   "execution_count": null,
   "metadata": {},
   "outputs": [],
   "source": [
    "# 21. Con las cifras 1, 2 y 3 cuántos números de 5 cifraspueden formarse?\n",
    "# Cuántos son divisibles por 7?\n"
   ]
  },
  {
   "cell_type": "code",
   "execution_count": null,
   "metadata": {},
   "outputs": [],
   "source": [
    "# 22. Una mesa presidencial está formada por ocho personas, \n",
    "# ¿de cuántas formas distintas se pueden sentar, si el presidente \n",
    "# y el secretario siempre van juntos?\n"
   ]
  },
  {
   "cell_type": "markdown",
   "metadata": {},
   "source": [
    "## Respuestas\n",
    "### Comprehensions"
   ]
  },
  {
   "cell_type": "code",
   "execution_count": 1,
   "metadata": {},
   "outputs": [],
   "source": [
    "# 1. Dada la siguiente lista y diccionario, utilice comprehensions para:\n",
    "a_list = list(range(10))\n",
    "digit_name = {\n",
    "    0: 'zero',\n",
    "    1: 'one',\n",
    "    2: 'two',\n",
    "    3: 'three',\n",
    "    4: 'four',\n",
    "    5: 'five',\n",
    "    6: 'six',\n",
    "    7: 'seven',\n",
    "    8: 'eight',\n",
    "    9: 'nine',\n",
    "}\n"
   ]
  },
  {
   "cell_type": "code",
   "execution_count": 4,
   "metadata": {},
   "outputs": [
    {
     "name": "stdout",
     "output_type": "stream",
     "text": [
      "0\n",
      "1\n",
      "2\n",
      "3\n",
      "4\n",
      "5\n",
      "6\n",
      "7\n",
      "8\n",
      "9\n"
     ]
    }
   ],
   "source": [
    "for a in a_list:\n",
    "    print(a)"
   ]
  },
  {
   "cell_type": "code",
   "execution_count": 8,
   "metadata": {},
   "outputs": [
    {
     "data": {
      "text/plain": [
       "[0, 10, 20, 30, 40, 50, 60, 70, 80, 90]"
      ]
     },
     "execution_count": 8,
     "metadata": {},
     "output_type": "execute_result"
    }
   ],
   "source": [
    "def xxx(n):\n",
    "    return n*10\n",
    "\n",
    "# a) Valores en a_list multiplicados por 10\n",
    "[xxx(a) for a in a_list]"
   ]
  },
  {
   "cell_type": "code",
   "execution_count": 12,
   "metadata": {},
   "outputs": [
    {
     "data": {
      "text/plain": [
       "[3, 9, 15, 21, 27]"
      ]
     },
     "execution_count": 12,
     "metadata": {},
     "output_type": "execute_result"
    }
   ],
   "source": [
    "list(map(lambda x: 3*x, filter(lambda x: x % 2 == 1, a_list)))"
   ]
  },
  {
   "cell_type": "code",
   "execution_count": 9,
   "metadata": {},
   "outputs": [
    {
     "data": {
      "text/plain": [
       "[3, 9, 15, 21, 27]"
      ]
     },
     "execution_count": 9,
     "metadata": {},
     "output_type": "execute_result"
    }
   ],
   "source": [
    "# b) Triplos de los valores impares en a_list\n",
    "[a*3 for a in a_list if a % 2 == 1]"
   ]
  },
  {
   "cell_type": "code",
   "execution_count": 13,
   "metadata": {},
   "outputs": [
    {
     "data": {
      "text/plain": [
       "[0, 1, 2, 3, 4, 5, 6, 7, 8, 9]"
      ]
     },
     "execution_count": 13,
     "metadata": {},
     "output_type": "execute_result"
    }
   ],
   "source": [
    "[a for a in a_list]"
   ]
  },
  {
   "cell_type": "code",
   "execution_count": 19,
   "metadata": {},
   "outputs": [
    {
     "data": {
      "text/plain": [
       "['three', 'three', 'eight']"
      ]
     },
     "execution_count": 19,
     "metadata": {},
     "output_type": "execute_result"
    }
   ],
   "source": [
    "l2 = [3, 3, 12, 8]\n",
    "# c) Lista con los nombres de los digitos en a_list\n",
    "[digit_name[a] for a in l2 if a in digit_name]"
   ]
  },
  {
   "cell_type": "code",
   "execution_count": 20,
   "metadata": {},
   "outputs": [
    {
     "data": {
      "text/plain": [
       "['zero', 'odd', 'two', 'odd', 'four', 'odd', 'six', 'odd', 'eight', 'odd']"
      ]
     },
     "execution_count": 20,
     "metadata": {},
     "output_type": "execute_result"
    }
   ],
   "source": [
    "def mi_map(d):\n",
    "    return digit_name[d] if d%2==0 else 'odd'\n",
    "\n",
    "# d) Similar a c), pero los impares se substituyen por 'odd'\n",
    "[mi_map(a) for a in a_list]"
   ]
  },
  {
   "cell_type": "code",
   "execution_count": 21,
   "metadata": {},
   "outputs": [
    {
     "data": {
      "text/plain": [
       "['zero', 'odd', 'two', 'odd', 'four', 'odd', 'six', 'odd', 'eight', 'odd']"
      ]
     },
     "execution_count": 21,
     "metadata": {},
     "output_type": "execute_result"
    }
   ],
   "source": [
    "# también puede hacerse con una función\n",
    "def get_name(d):\n",
    "    if d % 2 == 1:\n",
    "        return \"odd\"\n",
    "    return digit_name[d]\n",
    "[get_name(a) for a in a_list]"
   ]
  },
  {
   "cell_type": "code",
   "execution_count": 22,
   "metadata": {},
   "outputs": [
    {
     "name": "stdout",
     "output_type": "stream",
     "text": [
      "Entre numero:2345\n"
     ]
    },
    {
     "data": {
      "text/plain": [
       "['two', 'three', 'four', 'five']"
      ]
     },
     "execution_count": 22,
     "metadata": {},
     "output_type": "execute_result"
    }
   ],
   "source": [
    "# 1a. Entre un entero por teclado y haga una lista con los nombres de \n",
    "# sus digitos\n",
    "number = input(\"Entre numero:\").strip()\n",
    "[digit_name[int(n)] for n in number]"
   ]
  },
  {
   "cell_type": "code",
   "execution_count": 23,
   "metadata": {},
   "outputs": [
    {
     "name": "stdout",
     "output_type": "stream",
     "text": [
      "Entre numero:234\n"
     ]
    },
    {
     "data": {
      "text/plain": [
       "'two-three-four'"
      ]
     },
     "execution_count": 23,
     "metadata": {},
     "output_type": "execute_result"
    }
   ],
   "source": [
    "# 1b. Similar al anterior, pero imprimir los digitos separados por '-'\n",
    "number = input(\"Entre numero:\")\n",
    "\"-\".join([digit_name[int(n)] for n in number])"
   ]
  },
  {
   "cell_type": "code",
   "execution_count": 24,
   "metadata": {},
   "outputs": [
    {
     "data": {
      "text/plain": [
       "'aaaaloloeeeeloloiiii'"
      ]
     },
     "execution_count": 24,
     "metadata": {},
     "output_type": "execute_result"
    }
   ],
   "source": [
    "\"lolo\".join(['aaaa', 'eeee', 'iiii'])"
   ]
  },
  {
   "cell_type": "code",
   "execution_count": 27,
   "metadata": {},
   "outputs": [
    {
     "data": {
      "text/plain": [
       "[8,\n",
       " 16,\n",
       " 24,\n",
       " 32,\n",
       " 40,\n",
       " 48,\n",
       " 56,\n",
       " 64,\n",
       " 72,\n",
       " 80,\n",
       " 88,\n",
       " 96,\n",
       " 104,\n",
       " 112,\n",
       " 120,\n",
       " 128,\n",
       " 136,\n",
       " 144,\n",
       " 152,\n",
       " 160,\n",
       " 168,\n",
       " 176,\n",
       " 184,\n",
       " 192,\n",
       " 200]"
      ]
     },
     "execution_count": 27,
     "metadata": {},
     "output_type": "execute_result"
    }
   ],
   "source": [
    "list(range(8, 201, 8))"
   ]
  },
  {
   "cell_type": "code",
   "execution_count": 25,
   "metadata": {},
   "outputs": [
    {
     "data": {
      "text/plain": [
       "[8,\n",
       " 16,\n",
       " 24,\n",
       " 32,\n",
       " 40,\n",
       " 48,\n",
       " 56,\n",
       " 64,\n",
       " 72,\n",
       " 80,\n",
       " 88,\n",
       " 96,\n",
       " 104,\n",
       " 112,\n",
       " 120,\n",
       " 128,\n",
       " 136,\n",
       " 144,\n",
       " 152,\n",
       " 160,\n",
       " 168,\n",
       " 176,\n",
       " 184,\n",
       " 192,\n",
       " 200]"
      ]
     },
     "execution_count": 25,
     "metadata": {},
     "output_type": "execute_result"
    }
   ],
   "source": [
    "# 2. Encuentre los numeros del 1 al 200 divisibles por 8\n",
    "[x for x in range(1,201) if x % 8 == 0]"
   ]
  },
  {
   "cell_type": "code",
   "execution_count": 28,
   "metadata": {},
   "outputs": [
    {
     "data": {
      "text/plain": [
       "[6, 16, 26, 36, 46, 56, 60, 61, 62, 63, 64, 65, 66, 67, 68, 69, 76, 86, 96]"
      ]
     },
     "execution_count": 28,
     "metadata": {},
     "output_type": "execute_result"
    }
   ],
   "source": [
    "# 3. Encuentre los numeros del 1 al 100 que tienen al menos un digito 6\n",
    "[x for x in range(1,101) if '6' in str(x)]"
   ]
  },
  {
   "cell_type": "code",
   "execution_count": 29,
   "metadata": {},
   "outputs": [
    {
     "data": {
      "text/plain": [
       "[6, 16, 26, 36, 46, 56, 60, 61, 62, 63, 64, 65, 66, 67, 68, 69, 76, 86, 96]"
      ]
     },
     "execution_count": 29,
     "metadata": {},
     "output_type": "execute_result"
    }
   ],
   "source": [
    "# - otra variante mas matematica\n",
    "def has_digit(n, digit):\n",
    "    while n > 0:\n",
    "        r = n % 10\n",
    "        if r == digit:\n",
    "            return True\n",
    "        n = n // 10\n",
    "    return False\n",
    "\n",
    "[x for x in range(1,101) if has_digit(x, 6)]"
   ]
  },
  {
   "cell_type": "code",
   "execution_count": 30,
   "metadata": {},
   "outputs": [
    {
     "name": "stdout",
     "output_type": "stream",
     "text": [
      "[44, 144, 244, 344, 404, 414, 424, 434, 440, 441, 442, 443, 445, 446, 447, 448, 449, 454, 464, 474, 484, 494, 544, 644, 744, 844, 944]\n"
     ]
    }
   ],
   "source": [
    "# 4. Encuentre los numeros del 1 al 1000 que tienen exactamente \n",
    "# dos digitos 4\n",
    "def count_digit(n, digit):\n",
    "    result = 0\n",
    "    while n > 0:\n",
    "        r = n % 10\n",
    "        if r == digit:\n",
    "            result += 1\n",
    "        n = n // 10\n",
    "    return result\n",
    "\n",
    "print([x for x in range(1001) if count_digit(x, 4) == 2])"
   ]
  },
  {
   "cell_type": "code",
   "execution_count": 31,
   "metadata": {},
   "outputs": [
    {
     "data": {
      "text/plain": [
       "'l vc ll tn cbz y tn cl'"
      ]
     },
     "execution_count": 31,
     "metadata": {},
     "output_type": "execute_result"
    }
   ],
   "source": [
    "# 5. Remover las vocales de una cadena\n",
    "cadena = \"la vaca lola tiene cabeza y tiene cola\"\n",
    "\"\".join((v for v in cadena if v not in 'aeiouAEIOU'))"
   ]
  },
  {
   "cell_type": "code",
   "execution_count": 33,
   "metadata": {},
   "outputs": [
    {
     "name": "stdout",
     "output_type": "stream",
     "text": [
      "[2, 3, 4, 5, 6, 7, 8, 9, 10, 12, 14, 15, 16, 18, 20, 21, 22, 24, 25, 26, 27, 28, 30, 32, 33, 34, 35, 36, 38, 39, 40, 42, 44, 45, 46, 48, 49, 50, 51, 52, 54, 55, 56, 57, 58, 60, 62, 63, 64, 65, 66, 68, 69, 70, 72, 74, 75, 76, 77, 78, 80, 81, 82, 84, 85, 86, 87, 88, 90, 91, 92, 93, 94, 95, 96, 98, 99, 100, 102, 104, 105, 106, 108, 110, 111, 112, 114, 115, 116, 117, 118, 119, 120, 122, 123, 124, 125, 126, 128, 129, 130, 132, 133, 134, 135, 136, 138, 140, 141, 142, 144, 145, 146, 147, 148, 150, 152, 153, 154, 155, 156, 158, 159, 160, 161, 162, 164, 165, 166, 168, 170, 171, 172, 174, 175, 176, 177, 178, 180, 182, 183, 184, 185, 186, 188, 189, 190, 192, 194, 195, 196, 198, 200]\n"
     ]
    }
   ],
   "source": [
    "# 6. Utilice una comprehension anidada para encontrar todos los numeros\n",
    "# de 1 a 200 que son divisibles por algun digito del 2 al 9\n",
    "l = [n for n in range(1, 201) if any([n%d == 0 for d in range(2,10)])]\n",
    "print(l)"
   ]
  },
  {
   "cell_type": "code",
   "execution_count": 36,
   "metadata": {},
   "outputs": [
    {
     "name": "stdout",
     "output_type": "stream",
     "text": [
      "[]\n"
     ]
    }
   ],
   "source": [
    "# 7. Utilice una comprehension anidada para encontrar todos los numeros\n",
    "# de 1 a 200 que no son divisibles por ningun digito del 2 al 9\n",
    "l = [n for n in range(1, 1201) if all(n%d == 0 for d in range(2,10))]\n",
    "print(l)"
   ]
  },
  {
   "cell_type": "code",
   "execution_count": 37,
   "metadata": {},
   "outputs": [
    {
     "name": "stdout",
     "output_type": "stream",
     "text": [
      "[6, 8, 10, 14, 15, 21, 22, 26, 27, 33, 34, 35, 38, 39, 46, 51, 55, 57, 58, 62, 65, 69, 74, 77, 82, 85, 86, 87, 91, 93, 94, 95, 106, 111, 115, 118, 119, 122, 123, 125, 129, 133, 134, 141, 142, 143, 145, 146, 155, 158, 159, 161, 166, 177, 178, 183, 185, 187, 194]\n"
     ]
    }
   ],
   "source": [
    "# 8. Utilice una comprehension anidada para encontrar todos los numeros\n",
    "# de 1 a 200 que tienen exactamente dos divisores no triviales \n",
    "l = [n for n in range(1, 201) \n",
    "     if sum([1 for d in range(1,200) if n%d == 0]) == 4]\n",
    "print(l)"
   ]
  },
  {
   "cell_type": "code",
   "execution_count": 40,
   "metadata": {},
   "outputs": [
    {
     "data": {
      "text/plain": [
       "{1: 2,\n",
       " 2: 4,\n",
       " 3: 6,\n",
       " 4: 8,\n",
       " 5: 10,\n",
       " 6: 12,\n",
       " 7: 14,\n",
       " 8: 16,\n",
       " 9: 18,\n",
       " 10: 20,\n",
       " 11: 22,\n",
       " 12: 24,\n",
       " 13: 26,\n",
       " 14: 28,\n",
       " 15: 30,\n",
       " 16: 32,\n",
       " 17: 34,\n",
       " 18: 36,\n",
       " 19: 38,\n",
       " 20: 40}"
      ]
     },
     "execution_count": 40,
     "metadata": {},
     "output_type": "execute_result"
    }
   ],
   "source": [
    "{x:2*x for x in range(1, 21)}"
   ]
  },
  {
   "cell_type": "code",
   "execution_count": null,
   "metadata": {},
   "outputs": [],
   "source": [
    "# 9. Cree un diccionario donde se asocie a cada numero del 1 al 1000\n",
    "# el mayor digito por el que es divisible\n",
    "max_divisor = {num:max([divisor for divisor in range(1,10) \n",
    "                        if num % divisor == 0]) \n",
    "     for num in range(1,1001)}\n",
    "max_divisor"
   ]
  },
  {
   "cell_type": "code",
   "execution_count": null,
   "metadata": {},
   "outputs": [],
   "source": [
    "# 10. Basandose en el resultado anterior, genera un diccionario para la\n",
    "# cantidad de veces que cada digito fue el seleccionado\n",
    "\n",
    "{n:sum((1 for v in max_divisor.values() if v == n)) for n in range(1,10)}"
   ]
  },
  {
   "cell_type": "code",
   "execution_count": 41,
   "metadata": {},
   "outputs": [
    {
     "data": {
      "text/plain": [
       "['1 \"24-HOUR MAN/EMMANUEL\"\\n',\n",
       " '2 \"3-D MAN/CHARLES CHAN\"\\n',\n",
       " '3 \"4-D MAN/MERCURIO\"\\n',\n",
       " '4 \"8-BALL/\"\\n',\n",
       " '5 \"A\"\\n',\n",
       " '6 \"A\\'YIN\"\\n',\n",
       " '7 \"ABBOTT, JACK\"\\n',\n",
       " '8 \"ABCISSA\"\\n',\n",
       " '9 \"ABEL\"\\n',\n",
       " '10 \"ABOMINATION/EMIL BLO\"\\n']"
      ]
     },
     "execution_count": 41,
     "metadata": {},
     "output_type": "execute_result"
    }
   ],
   "source": [
    "# 11. El siguiente codigo carga una lista de nombres de Marvel, bajada\n",
    "# de Internet\n",
    "with open('data/Marvel-names.txt', 'r', encoding='iso-8859-1',\n",
    "                 errors='ignore') as f:\n",
    "    lines = f.readlines()\n",
    "lines[:10]"
   ]
  },
  {
   "cell_type": "code",
   "execution_count": 42,
   "metadata": {},
   "outputs": [
    {
     "data": {
      "text/plain": [
       "['3-D MAN/CHARLES CHAN',\n",
       " '4-D MAN/MERCURIO',\n",
       " '8-BALL/',\n",
       " 'A',\n",
       " \"A'YIN\",\n",
       " 'ABBOTT, JACK',\n",
       " 'ABCISSA',\n",
       " 'ABEL',\n",
       " 'ABOMINATION/EMIL BLO']"
      ]
     },
     "execution_count": 42,
     "metadata": {},
     "output_type": "execute_result"
    }
   ],
   "source": [
    "# a) Crea una lista con los nombres de los caracteres solamente\n",
    "def process_line(l):\n",
    "    idx1 = l.find('\"')\n",
    "    l = l[idx1+1:]\n",
    "    idx2 = l.find('\"')\n",
    "    return l[:idx2].strip()\n",
    "names = [process_line(l) for l in lines]\n",
    "names[1:10]"
   ]
  },
  {
   "cell_type": "code",
   "execution_count": 43,
   "metadata": {},
   "outputs": [
    {
     "data": {
      "text/plain": [
       "[['24-HOUR MAN', 'EMMANUEL'],\n",
       " ['3-D MAN', 'CHARLES CHAN'],\n",
       " ['4-D MAN', 'MERCURIO'],\n",
       " ['8-BALL'],\n",
       " ['A'],\n",
       " [\"A'YIN\"],\n",
       " ['ABBOTT, JACK'],\n",
       " ['ABCISSA'],\n",
       " ['ABEL'],\n",
       " ['ABOMINATION', 'EMIL BLO']]"
      ]
     },
     "execution_count": 43,
     "metadata": {},
     "output_type": "execute_result"
    }
   ],
   "source": [
    "# b) Algunos caracteres tienen varios nombres, separados por /. \n",
    "# Modifique la lista para que cada elemento sea una lista de estos\n",
    "# valores. Elimine los valores vacios\n",
    "all_names = [[v for v in n.split(\"/\") if len(v)>0] for n in names]\n",
    "all_names[:10]"
   ]
  },
  {
   "cell_type": "code",
   "execution_count": 44,
   "metadata": {},
   "outputs": [
    {
     "name": "stdout",
     "output_type": "stream",
     "text": [
      "3\n"
     ]
    },
    {
     "data": {
      "text/plain": [
       "[['DEADPOOL', 'JACK', 'WADE W'],\n",
       " ['EFFIGY', 'LT. VELMAX', 'JA'],\n",
       " ['ENCHANTRESS', 'AMORA', 'HE'],\n",
       " ['FIREWALL', 'THEARY', 'MIN'],\n",
       " ['FLASH', 'BARRY ALLEN', 'BU'],\n",
       " ['KUKULCAN', 'VIRAKO', 'QUET'],\n",
       " ['MAGNETO', 'MAGNUS', 'ERIC'],\n",
       " ['MAKKARI', 'MIKE KHARY', 'I'],\n",
       " ['MONSTROID', 'BALIOX', '7NH'],\n",
       " ['PSYCHE II', 'PSYKOS', 'RON'],\n",
       " ['SHRIEK', 'SANDRA DEEL', 'F'],\n",
       " ['SKYMAX', \"SK'YM'X\", 'JAMES'],\n",
       " ['SNOWBIRD', 'NARYA', 'ANNE'],\n",
       " ['VENUS', 'APHRODITE', 'VICT'],\n",
       " ['M', 'CP 160', '4'],\n",
       " ['M', 'VS 1', '4'],\n",
       " ['M', 'SH3 11', '2'],\n",
       " ['M', 'FAN 14', '2'],\n",
       " ['M', 'CP 69', '2'],\n",
       " ['M', 'CP 70', '2'],\n",
       " ['M', 'CO 71', '2'],\n",
       " ['M', 'SH3 10', '2'],\n",
       " ['M', 'CP 27', '4'],\n",
       " ['M', 'FEA 1', '3'],\n",
       " ['M', 'CP 97', '4'],\n",
       " ['M', 'CP 85', '3'],\n",
       " ['M', 'TALES 30', '2'],\n",
       " ['M', 'CP 89', '4'],\n",
       " ['M', 'SH3 7', '2'],\n",
       " ['M', 'S&L ', '3']]"
      ]
     },
     "execution_count": 44,
     "metadata": {},
     "output_type": "execute_result"
    }
   ],
   "source": [
    "# c) Encuentre el o los heroes que tienen mayor cantidad de nombres\n",
    "max_cant = max((len(n) for n in all_names))\n",
    "print(max_cant)\n",
    "more_names = [v for v in all_names if len(v) == max_cant]\n",
    "more_names[:30]"
   ]
  },
  {
   "cell_type": "code",
   "execution_count": null,
   "metadata": {},
   "outputs": [],
   "source": [
    "# d) Elimine aquellos que el primer nombre tenga menos de 3 caracteres\n",
    "selected = [m for m in more_names if len(m[0]) > 2]\n",
    "selected"
   ]
  },
  {
   "cell_type": "code",
   "execution_count": null,
   "metadata": {},
   "outputs": [],
   "source": [
    "# e) Adicione a cada nombre de la lista anterior un '%' al inicio \n",
    "# y al final\n",
    "[['%'+n+'%' for n in m] for m in selected]"
   ]
  },
  {
   "cell_type": "code",
   "execution_count": null,
   "metadata": {},
   "outputs": [],
   "source": [
    "# 12. Ordene las letras iniciales mas utilizada en los nombres de los Avengers\n",
    "import itertools as it\n",
    "\n",
    "letras_iniciales = [\"\".join(l[0] for l in n) for n in all_names]\n",
    "# antes de agrupar, hay que ordenar\n",
    "ordenadas = sorted(\"\".join(letras_iniciales))\n",
    "grupos = [(k, len(list(v))) for k, v in it.groupby(ordenadas)]\n",
    "sorted([g for g in grupos if g[0].isalpha()], key=lambda x: -x[1])"
   ]
  },
  {
   "cell_type": "markdown",
   "metadata": {},
   "source": [
    "### Iteradores"
   ]
  },
  {
   "cell_type": "code",
   "execution_count": 45,
   "metadata": {},
   "outputs": [
    {
     "data": {
      "text/plain": [
       "[1, 5]"
      ]
     },
     "execution_count": 45,
     "metadata": {},
     "output_type": "execute_result"
    }
   ],
   "source": [
    "# 13. Dada una lista de numeros, extraiga aquellos que tienen un \n",
    "# valor menor que su posición en la lista\n",
    "lst = [2, 4, 3, 1, 7, 6, 5]\n",
    "[l for idx, l in enumerate(lst) if l<idx]"
   ]
  },
  {
   "cell_type": "code",
   "execution_count": null,
   "metadata": {},
   "outputs": [],
   "source": [
    "# 14. Extraiga de una lista los valores posteriores al primer numero par\n",
    "# tip1: la funcion min() devuelve el minimo de una lista\n",
    "# tip2: enumerate???\n",
    "lst = [3, 5, 7, 2, 9, 23, 34, 14]\n",
    "first_par_idx = min([idx for idx, l in enumerate(lst) if l%2 == 0])\n",
    "lst[first_par_idx+1:]"
   ]
  },
  {
   "cell_type": "code",
   "execution_count": null,
   "metadata": {},
   "outputs": [],
   "source": [
    "# 15. Utilizando map y filter, obtenga la lista con el triplo de \n",
    "# los numeros entre 0 y 100 que son impares\n",
    "result = list(map(lambda x: 3*x, filter(lambda x: x % 2 == 1, range(101))))\n",
    "print(result)"
   ]
  },
  {
   "cell_type": "code",
   "execution_count": null,
   "metadata": {},
   "outputs": [],
   "source": [
    "# 16. Dada las siguientes listas, encuentre la diferencia entre los \n",
    "# elementos que estan en las mismas posiciones\n",
    "l1 = [16, 21, 29, 98, 14, 88, 47, 34, 93] \n",
    "l2 = [97, 5, 68, 31, 18, 98, 29, 77, 70]\n",
    "[x - y for x, y in zip(l1, l2)]"
   ]
  },
  {
   "cell_type": "code",
   "execution_count": 49,
   "metadata": {},
   "outputs": [
    {
     "data": {
      "text/plain": [
       "[-5, -8, -69, 84, -74, 41, 13, -59]"
      ]
     },
     "execution_count": 49,
     "metadata": {},
     "output_type": "execute_result"
    }
   ],
   "source": [
    "l1 = [16, 21, 29, 98, 14, 88, 47, 34, 93] \n",
    "list(x-y for x, y in zip(l1, l1[1:]))"
   ]
  },
  {
   "cell_type": "code",
   "execution_count": 51,
   "metadata": {},
   "outputs": [],
   "source": [
    "# 17. Dada la siguiente lista de numeros\n",
    "vals = [16, 21, 29, 98, 14, 88, 47, 34, 93, 19, 17, 37, 84, 61, \n",
    "     97, 5, 68, 31, 18, 98, 29, 77, 70, 21, 15, 16, 62, 3, 54, 73]"
   ]
  },
  {
   "cell_type": "code",
   "execution_count": 52,
   "metadata": {},
   "outputs": [
    {
     "data": {
      "text/plain": [
       "158"
      ]
     },
     "execution_count": 52,
     "metadata": {},
     "output_type": "execute_result"
    }
   ],
   "source": [
    "# a) Encuentre la maxima suma entre dos elementos consecutivos\n",
    "max(v1 + v2 for v1, v2 in zip(vals, vals[1:]))"
   ]
  },
  {
   "cell_type": "code",
   "execution_count": 53,
   "metadata": {},
   "outputs": [
    {
     "data": {
      "text/plain": [
       "242"
      ]
     },
     "execution_count": 53,
     "metadata": {},
     "output_type": "execute_result"
    }
   ],
   "source": [
    "# b) Encuentre la maxima suma entre tres elementos consecutivos\n",
    "max(v1 + v2 + v3 for v1, v2, v3 in zip(vals, vals[1:], vals[2:]))"
   ]
  },
  {
   "cell_type": "code",
   "execution_count": 54,
   "metadata": {},
   "outputs": [
    {
     "data": {
      "text/plain": [
       "(61, 97, 158)"
      ]
     },
     "execution_count": 54,
     "metadata": {},
     "output_type": "execute_result"
    }
   ],
   "source": [
    "# c) Encuentre los elementos consecutivos con suma maxima\n",
    "ordered = sorted(((v1, v2, v1 + v2) for v1, v2 in zip(vals, vals[1:])), \n",
    "      key=lambda x: -x[2])\n",
    "ordered[0]"
   ]
  },
  {
   "cell_type": "code",
   "execution_count": null,
   "metadata": {},
   "outputs": [],
   "source": [
    "# d) Cree una nueva lista donde se le alternen los signos a\n",
    "# los elementos\n",
    "print([x*sgn for x,sgn in zip(vals, it.cycle([1, -1]))])"
   ]
  },
  {
   "cell_type": "code",
   "execution_count": 65,
   "metadata": {},
   "outputs": [
    {
     "data": {
      "text/plain": [
       "['cccc', 'ccce', 'ccec', 'ccee', 'cecc', 'eccc', 'ecce', 'eecc']"
      ]
     },
     "execution_count": 65,
     "metadata": {},
     "output_type": "execute_result"
    }
   ],
   "source": [
    "import itertools as it\n",
    "tiradas = [\"\".join(v) for v in it.product('ce', 'ce', 'ce', 'ce')]\n",
    "[v for v in tiradas if 'cc' in v]"
   ]
  },
  {
   "cell_type": "code",
   "execution_count": 66,
   "metadata": {},
   "outputs": [
    {
     "data": {
      "text/plain": [
       "0.5078125"
      ]
     },
     "execution_count": 66,
     "metadata": {},
     "output_type": "execute_result"
    }
   ],
   "source": [
    "# 18. Se lanza 10 veces una moneda. Cual es la probabilidad que \n",
    "# 3 lanzamientos consecutivos sean 'cara'?\n",
    "opts = (\"\".join(opt) for opt in it.product(*('ce' for _ in range(10))))\n",
    "positive = ['ccc' in o for o in opts]\n",
    "sum(positive) / len(positive)"
   ]
  },
  {
   "cell_type": "code",
   "execution_count": 67,
   "metadata": {},
   "outputs": [
    {
     "name": "stdout",
     "output_type": "stream",
     "text": [
      "nnnnnnnnnnrrrrrrrrrrrrrrrrrrrraaaaaaaaaaaaaaaaaaaaaaaaaaaaaa\n"
     ]
    },
    {
     "data": {
      "text/plain": [
       "0.3785310734463277"
      ]
     },
     "execution_count": 67,
     "metadata": {},
     "output_type": "execute_result"
    }
   ],
   "source": [
    "# 19. En una caja hay 10 medias negras, 20 rojas y 30 amarillas. Cual\n",
    "# es la probabilidad que al sacar un par de medias sean del mismo \n",
    "# color\n",
    "all_set = 'n' * 10 + 'r' * 20 + 'a' * 30\n",
    "print(all_set)\n",
    "positive = [c1 == c2 for c1, c2 in it.combinations(all_set, 2)]\n",
    "sum(positive) / len(positive)"
   ]
  },
  {
   "cell_type": "code",
   "execution_count": null,
   "metadata": {},
   "outputs": [],
   "source": [
    "# 20. En una caja hay k bolas con numeros del 1 a k. Cual es la \n",
    "# probabilidad que al sacar la mitad de las bolas estas sumen \n",
    "# igual o mas del doble que las otras\n",
    "num_balls = 10\n",
    "options = it.permutations(range(1, num_balls+1))\n",
    "\n",
    "#print(*options)\n",
    "positive = [sum(o[:num_balls//2]) / sum(o[num_balls//2:]) >= 2 \n",
    "            for o in options]\n",
    "sum(positive) / len(positive)"
   ]
  },
  {
   "cell_type": "code",
   "execution_count": null,
   "metadata": {},
   "outputs": [],
   "source": [
    "# 21. Con las cifras 1, 2 y 3 cuántos números de 5 cifraspueden formarse?\n",
    "# Cuántos son divisibles por 7?\n",
    "candidates = list(it.product(*([1, 2, 3] for _ in range(5))))\n",
    "print(len(candidates))\n",
    "div7 = [x for x in (int(\"\".join((str(v) for v in c))) for c in candidates)\n",
    "     if x % 7 == 0]\n",
    "print(len(div7))"
   ]
  },
  {
   "cell_type": "code",
   "execution_count": null,
   "metadata": {},
   "outputs": [],
   "source": [
    "# 22. Una mesa presidencial está formada por ocho personas, \n",
    "# ¿de cuántas formas distintas se pueden sentar, si el presidente \n",
    "# y el secretario siempre van juntos?\n",
    "personas = \"abcdefsp\"\n",
    "sentados = [\"\".join(x) for x in it.permutations(personas)]\n",
    "positivos = [s for s in sentados if \"ps\" in s or \"sp\" in s]\n",
    "#print(positivos)\n",
    "print(len(positivos))"
   ]
  }
 ],
 "metadata": {
  "kernelspec": {
   "display_name": "Python 3",
   "language": "python",
   "name": "python3"
  },
  "language_info": {
   "codemirror_mode": {
    "name": "ipython",
    "version": 3
   },
   "file_extension": ".py",
   "mimetype": "text/x-python",
   "name": "python",
   "nbconvert_exporter": "python",
   "pygments_lexer": "ipython3",
   "version": "3.7.13"
  }
 },
 "nbformat": 4,
 "nbformat_minor": 2
}
