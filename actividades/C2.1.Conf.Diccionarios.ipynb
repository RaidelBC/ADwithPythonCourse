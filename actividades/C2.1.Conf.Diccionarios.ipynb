{
 "cells": [
  {
   "cell_type": "markdown",
   "metadata": {},
   "source": [
    "Los diccionarios guardan un mapeo entre un conjunto de llaves y un conjunto de valores:\n",
    "- Las llaves tienen que ser de tipos inmutables\n",
    "- Los valores pueden ser de cualquier tipo\n",
    "- Un mismo diccionario puede guardar llaves y valores de diferentes tipos simultáneamente\n",
    "- Se puede definir, modificar, ver, buscar o eliminar pares llave-valor en un diccionario\n",
    "- Los diccionarios de Python se implementan como tablas hash o arreglos asociativos."
   ]
  },
  {
   "cell_type": "code",
   "execution_count": 1,
   "metadata": {},
   "outputs": [
    {
     "name": "stdout",
     "output_type": "stream",
     "text": [
      "Pedro\n"
     ]
    }
   ],
   "source": [
    "# Un ejemplo\n",
    "d = {\"user\": \"Pedro\", \"edad\": 23, \"esMasculino\": True}\n",
    "print(d['user'])"
   ]
  },
  {
   "cell_type": "code",
   "execution_count": 4,
   "metadata": {},
   "outputs": [
    {
     "name": "stdout",
     "output_type": "stream",
     "text": [
      "{'user': 23}\n"
     ]
    }
   ],
   "source": [
    "# Cada llave tiene que estar asociada a un solo valor. Una repetición actualiza el valor\n",
    "w = {\"user\": \"Pedro\", \"user\": 23}\n",
    "print(w)"
   ]
  },
  {
   "cell_type": "code",
   "execution_count": 5,
   "metadata": {},
   "outputs": [
    {
     "name": "stdout",
     "output_type": "stream",
     "text": [
      "{'user': 'Pedro', 'edad': 34, 'esMasculino': True}\n"
     ]
    }
   ],
   "source": [
    "d['edad'] = 34\n",
    "print(d)"
   ]
  },
  {
   "cell_type": "code",
   "execution_count": 6,
   "metadata": {},
   "outputs": [
    {
     "ename": "KeyError",
     "evalue": "'sexo'",
     "output_type": "error",
     "traceback": [
      "\u001b[0;31m---------------------------------------------------------------------------\u001b[0m",
      "\u001b[0;31mKeyError\u001b[0m                                  Traceback (most recent call last)",
      "\u001b[0;32m<ipython-input-6-2a8d70e7abd1>\u001b[0m in \u001b[0;36m<module>\u001b[0;34m()\u001b[0m\n\u001b[1;32m      1\u001b[0m \u001b[0;31m# Si la llave no aparece, da error\u001b[0m\u001b[0;34m\u001b[0m\u001b[0;34m\u001b[0m\u001b[0;34m\u001b[0m\u001b[0m\n\u001b[0;32m----> 2\u001b[0;31m \u001b[0md\u001b[0m\u001b[0;34m[\u001b[0m\u001b[0;34m'sexo'\u001b[0m\u001b[0;34m]\u001b[0m\u001b[0;34m\u001b[0m\u001b[0;34m\u001b[0m\u001b[0m\n\u001b[0m",
      "\u001b[0;31mKeyError\u001b[0m: 'sexo'"
     ]
    }
   ],
   "source": [
    "# Si la llave no aparece, da error\n",
    "d['sexo']"
   ]
  },
  {
   "cell_type": "markdown",
   "metadata": {},
   "source": [
    "Los diccionarios no son sequencias, ya que no existe un orden de los elementos"
   ]
  },
  {
   "cell_type": "code",
   "execution_count": 7,
   "metadata": {},
   "outputs": [
    {
     "name": "stdout",
     "output_type": "stream",
     "text": [
      "{'user': 'Pedro', 'edad': 34, 'esMasculino': True}\n",
      "{'user': 'Pedro', 'esMasculino': True}\n"
     ]
    }
   ],
   "source": [
    "# Los elementos se pueden eliminar del diccionario\n",
    "print(d)\n",
    "del d['edad']\n",
    "print(d)"
   ]
  },
  {
   "cell_type": "code",
   "execution_count": 8,
   "metadata": {},
   "outputs": [
    {
     "name": "stdout",
     "output_type": "stream",
     "text": [
      "{}\n"
     ]
    }
   ],
   "source": [
    "# El método clear() elimina todo el contenido del diccionario\n",
    "d.clear()\n",
    "print(d)"
   ]
  },
  {
   "cell_type": "code",
   "execution_count": 9,
   "metadata": {},
   "outputs": [
    {
     "name": "stdout",
     "output_type": "stream",
     "text": [
      "dict_keys(['user', 'edad', 'esMasculino'])\n",
      "dict_values(['Pedro', 23, True])\n",
      "dict_items([('user', 'Pedro'), ('edad', 23), ('esMasculino', True)])\n"
     ]
    }
   ],
   "source": [
    "# Accediendo de forma cómoda a los elementos de un diccionario\n",
    "d = {\"user\": \"Pedro\", \"edad\": 23, \"esMasculino\": True}\n",
    "print(d.keys())\n",
    "print(d.values())\n",
    "print(d.items())"
   ]
  },
  {
   "cell_type": "markdown",
   "metadata": {},
   "source": [
    "Ahora resolveremos un problema utilizando diccionarios. El problema es contar la cantidad de veces que aparece cada palabra en un texto, seguido por algún preprocesamiento"
   ]
  },
  {
   "cell_type": "code",
   "execution_count": 30,
   "metadata": {},
   "outputs": [],
   "source": [
    "text='''\n",
    "Sol solecito\n",
    "Calientame un poquito,\n",
    "Por hoy por mañana\n",
    "Por hoy por mañana\n",
    "Por toda la semana\n",
    "Luna lunera cascabelera\n",
    "Cinco pollitos y una ternera\n",
    "Cinco pollitos y una ternera\n",
    "Cinco pollitos y una ternera\n",
    "Cinco pollitos y una ternera\n",
    "Caracol, caracol\n",
    "A la una sale el sol\n",
    "'''"
   ]
  },
  {
   "cell_type": "code",
   "execution_count": 31,
   "metadata": {},
   "outputs": [],
   "source": [
    "# algo de preprocesamiento\n",
    "text_words = [t.lower() for t in text.split()]"
   ]
  },
  {
   "cell_type": "code",
   "execution_count": 32,
   "metadata": {},
   "outputs": [
    {
     "name": "stdout",
     "output_type": "stream",
     "text": [
      "{'sol': 2, 'solecito': 1, 'calientame': 1, 'un': 1, 'poquito,': 1, 'por': 5, 'hoy': 2, 'mañana': 2, 'toda': 1, 'la': 2, 'semana': 1, 'luna': 1, 'lunera': 1, 'cascabelera': 1, 'cinco': 4, 'pollitos': 4, 'y': 4, 'una': 5, 'ternera': 4, 'caracol,': 1, 'caracol': 1, 'a': 1, 'sale': 1, 'el': 1}\n"
     ]
    }
   ],
   "source": [
    "# Código básico\n",
    "freq = {}\n",
    "for t in text_words:\n",
    "    if t in freq:\n",
    "        freq[t] += 1\n",
    "    else:\n",
    "        freq[t] = 1\n",
    "print(freq)"
   ]
  },
  {
   "cell_type": "code",
   "execution_count": 33,
   "metadata": {},
   "outputs": [
    {
     "name": "stdout",
     "output_type": "stream",
     "text": [
      "{'sol': 2, 'solecito': 1, 'calientame': 1, 'un': 1, 'poquito,': 1, 'por': 5, 'hoy': 2, 'mañana': 2, 'toda': 1, 'la': 2, 'semana': 1, 'luna': 1, 'lunera': 1, 'cascabelera': 1, 'cinco': 4, 'pollitos': 4, 'y': 4, 'una': 5, 'ternera': 4, 'caracol,': 1, 'caracol': 1, 'a': 1, 'sale': 1, 'el': 1}\n"
     ]
    }
   ],
   "source": [
    "# Usando get()\n",
    "freq = {}\n",
    "for t in text_words:\n",
    "    freq[t] = 1 + freq.get(t, 0)\n",
    "print(freq)"
   ]
  },
  {
   "cell_type": "code",
   "execution_count": 34,
   "metadata": {},
   "outputs": [
    {
     "name": "stdout",
     "output_type": "stream",
     "text": [
      "cinco 4\n",
      "hoy 2\n",
      "la 2\n",
      "mañana 2\n",
      "pollitos 4\n",
      "por 5\n",
      "sol 2\n",
      "ternera 4\n",
      "una 5\n",
      "y 4\n"
     ]
    }
   ],
   "source": [
    "# Mostrar resultados ordenados \n",
    "freq = {}\n",
    "for t in text_words:\n",
    "    freq[t] = 1 + freq.get(t, 0)\n",
    "for w in sorted(freq.keys()):\n",
    "    if freq[w] > 1:\n",
    "        print(w, freq[w])"
   ]
  },
  {
   "cell_type": "code",
   "execution_count": 38,
   "metadata": {},
   "outputs": [
    {
     "data": {
      "text/plain": [
       "{(2, 3, 4): 3.14159, 2: 'lolo', 4.56: True, True: (2, 3, 5)}"
      ]
     },
     "execution_count": 38,
     "metadata": {},
     "output_type": "execute_result"
    }
   ],
   "source": [
    "# Recordemos, las llaves TIENEN que ser inmutables\n",
    "d = {}\n",
    "d[2] = \"lolo\"  # enteros, flotantes, booleanos, OK\n",
    "d[4.56] = True\n",
    "d[True] = 2, 3, 5\n",
    "d[(2, 3, 4)] = 3.14159  # Tuplas, ok\n",
    "d"
   ]
  },
  {
   "cell_type": "code",
   "execution_count": 41,
   "metadata": {},
   "outputs": [
    {
     "ename": "TypeError",
     "evalue": "unhashable type: 'list'",
     "output_type": "error",
     "traceback": [
      "\u001b[0;31m---------------------------------------------------------------------------\u001b[0m",
      "\u001b[0;31mTypeError\u001b[0m                                 Traceback (most recent call last)",
      "\u001b[0;32m<ipython-input-41-d842effc2928>\u001b[0m in \u001b[0;36m<module>\u001b[0;34m()\u001b[0m\n\u001b[1;32m      1\u001b[0m \u001b[0;31m# Las listas son MUTABLES\u001b[0m\u001b[0;34m\u001b[0m\u001b[0;34m\u001b[0m\u001b[0;34m\u001b[0m\u001b[0m\n\u001b[0;32m----> 2\u001b[0;31m \u001b[0md\u001b[0m\u001b[0;34m[\u001b[0m\u001b[0;34m[\u001b[0m\u001b[0;36m2\u001b[0m\u001b[0;34m,\u001b[0m \u001b[0;36m3\u001b[0m\u001b[0;34m]\u001b[0m\u001b[0;34m]\u001b[0m \u001b[0;34m=\u001b[0m \u001b[0;34m\"LOLO\"\u001b[0m\u001b[0;34m\u001b[0m\u001b[0;34m\u001b[0m\u001b[0m\n\u001b[0m",
      "\u001b[0;31mTypeError\u001b[0m: unhashable type: 'list'"
     ]
    }
   ],
   "source": [
    "# Las listas son MUTABLES\n",
    "d[[2, 3]] = \"LOLO\""
   ]
  }
 ],
 "metadata": {
  "kernelspec": {
   "display_name": "Python 3",
   "language": "python",
   "name": "python3"
  },
  "language_info": {
   "codemirror_mode": {
    "name": "ipython",
    "version": 3
   },
   "file_extension": ".py",
   "mimetype": "text/x-python",
   "name": "python",
   "nbconvert_exporter": "python",
   "pygments_lexer": "ipython3",
   "version": "3.6.9"
  }
 },
 "nbformat": 4,
 "nbformat_minor": 2
}
