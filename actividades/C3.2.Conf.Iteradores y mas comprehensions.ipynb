{
 "cells": [
  {
   "cell_type": "markdown",
   "metadata": {},
   "source": [
    "## Iteradores"
   ]
  },
  {
   "cell_type": "code",
   "execution_count": 16,
   "metadata": {},
   "outputs": [
    {
     "data": {
      "text/plain": [
       "range(0, 5)"
      ]
     },
     "execution_count": 16,
     "metadata": {},
     "output_type": "execute_result"
    }
   ],
   "source": [
    "# range no devuelve una lista\n",
    "r = range(5)\n",
    "r"
   ]
  },
  {
   "cell_type": "code",
   "execution_count": 17,
   "metadata": {},
   "outputs": [
    {
     "data": {
      "text/plain": [
       "range"
      ]
     },
     "execution_count": 17,
     "metadata": {},
     "output_type": "execute_result"
    }
   ],
   "source": [
    "r.__class__"
   ]
  },
  {
   "cell_type": "code",
   "execution_count": 18,
   "metadata": {},
   "outputs": [
    {
     "name": "stdout",
     "output_type": "stream",
     "text": [
      "0, 1, 2, 3, 4, "
     ]
    }
   ],
   "source": [
    "# pero se puede iterar por sus elementos\n",
    "for v in r:\n",
    "    print(v, end=\", \")"
   ]
  },
  {
   "cell_type": "code",
   "execution_count": 39,
   "metadata": {},
   "outputs": [],
   "source": [
    "it = iter(r)"
   ]
  },
  {
   "cell_type": "code",
   "execution_count": 40,
   "metadata": {},
   "outputs": [
    {
     "data": {
      "text/plain": [
       "0"
      ]
     },
     "execution_count": 40,
     "metadata": {},
     "output_type": "execute_result"
    }
   ],
   "source": [
    "next(it)"
   ]
  },
  {
   "cell_type": "code",
   "execution_count": 41,
   "metadata": {},
   "outputs": [
    {
     "data": {
      "text/plain": [
       "1"
      ]
     },
     "execution_count": 41,
     "metadata": {},
     "output_type": "execute_result"
    }
   ],
   "source": [
    "next(it)"
   ]
  },
  {
   "cell_type": "code",
   "execution_count": 42,
   "metadata": {},
   "outputs": [
    {
     "name": "stdout",
     "output_type": "stream",
     "text": [
      "2\n",
      "3\n",
      "4\n"
     ]
    },
    {
     "ename": "StopIteration",
     "evalue": "",
     "output_type": "error",
     "traceback": [
      "\u001b[0;31m---------------------------------------------------------------------------\u001b[0m",
      "\u001b[0;31mStopIteration\u001b[0m                             Traceback (most recent call last)",
      "\u001b[0;32m<ipython-input-42-736265e1ffb3>\u001b[0m in \u001b[0;36m<module>\u001b[0;34m()\u001b[0m\n\u001b[1;32m      1\u001b[0m \u001b[0;32mwhile\u001b[0m \u001b[0;32mTrue\u001b[0m\u001b[0;34m:\u001b[0m\u001b[0;34m\u001b[0m\u001b[0;34m\u001b[0m\u001b[0m\n\u001b[0;32m----> 2\u001b[0;31m     \u001b[0mprint\u001b[0m\u001b[0;34m(\u001b[0m\u001b[0mnext\u001b[0m\u001b[0;34m(\u001b[0m\u001b[0mit\u001b[0m\u001b[0;34m)\u001b[0m\u001b[0;34m)\u001b[0m\u001b[0;34m\u001b[0m\u001b[0;34m\u001b[0m\u001b[0m\n\u001b[0m",
      "\u001b[0;31mStopIteration\u001b[0m: "
     ]
    }
   ],
   "source": [
    "while True:\n",
    "    print(next(it))"
   ]
  },
  {
   "cell_type": "markdown",
   "metadata": {},
   "source": [
    "Los iteradores permiten tratar cosas como si fueran listas, aunque no lo sean. El beneficio fundamental de esto es que la lista nunca se crea en memoria!"
   ]
  },
  {
   "cell_type": "code",
   "execution_count": 46,
   "metadata": {},
   "outputs": [
    {
     "name": "stdout",
     "output_type": "stream",
     "text": [
      "333283335000\n"
     ]
    }
   ],
   "source": [
    "# Queremos sumar el cuadrado de los primeros 10K numeros\n",
    "nums = [v * v for v in range(10000)]\n",
    "print(sum(nums))"
   ]
  },
  {
   "cell_type": "code",
   "execution_count": 47,
   "metadata": {},
   "outputs": [
    {
     "name": "stdout",
     "output_type": "stream",
     "text": [
      "333283335000\n"
     ]
    }
   ],
   "source": [
    "# Lo mismo, pero sin crear la lista\n",
    "t = 0\n",
    "for v in range(10000):\n",
    "    t += v * v\n",
    "print(t)"
   ]
  },
  {
   "cell_type": "markdown",
   "metadata": {},
   "source": [
    "### Algunos iteradores útiles\n",
    "- *enumerate* convierte cada elemento iterado en una tupla formada por su posición y el elemento"
   ]
  },
  {
   "cell_type": "code",
   "execution_count": 49,
   "metadata": {},
   "outputs": [
    {
     "name": "stdout",
     "output_type": "stream",
     "text": [
      "0 a\n",
      "1 b\n",
      "2 c\n",
      "3 d\n",
      "4 e\n",
      "5 f\n",
      "6 g\n",
      "7 h\n"
     ]
    }
   ],
   "source": [
    "l = ['a', 'b', 'c', 'd', 'e', 'f', 'g', 'h']\n",
    "for idx, v in enumerate(l):\n",
    "    print(idx, v)"
   ]
  },
  {
   "cell_type": "code",
   "execution_count": 51,
   "metadata": {},
   "outputs": [
    {
     "data": {
      "text/plain": [
       "['a', 'c', 'e', 'g']"
      ]
     },
     "execution_count": 51,
     "metadata": {},
     "output_type": "execute_result"
    }
   ],
   "source": [
    "# elementos en las posiciones pares\n",
    "[v for idx, v in enumerate(l) if idx % 2 == 0]"
   ]
  },
  {
   "cell_type": "code",
   "execution_count": 55,
   "metadata": {},
   "outputs": [
    {
     "name": "stdout",
     "output_type": "stream",
     "text": [
      "range(2, 20, 3)\n",
      "[2, 5, 8, 11, 14, 17]\n",
      "[(0, 2), (1, 5), (2, 8), (3, 11), (4, 14), (5, 17)]\n"
     ]
    }
   ],
   "source": [
    "# Almacenar en una lista todos los valores generados por un iterador\n",
    "print(range(2, 20, 3))\n",
    "l = list(range(2, 20, 3))\n",
    "print(l)\n",
    "print(list(enumerate(range(2, 20, 3))))"
   ]
  },
  {
   "cell_type": "markdown",
   "metadata": {},
   "source": [
    "- *map* y *filter* son iteradores, de ahí el uso de *list* en los ejemplos"
   ]
  },
  {
   "cell_type": "code",
   "execution_count": 59,
   "metadata": {},
   "outputs": [
    {
     "name": "stdout",
     "output_type": "stream",
     "text": [
      "0.0\n",
      "1.0\n",
      "1.4142135623730951\n",
      "1.7320508075688772\n",
      "2.0\n",
      "2.23606797749979\n"
     ]
    }
   ],
   "source": [
    "import math\n",
    "for v in map(lambda x: math.sqrt(x), range(6)):\n",
    "    print(v)"
   ]
  },
  {
   "cell_type": "code",
   "execution_count": 63,
   "metadata": {},
   "outputs": [
    {
     "name": "stdout",
     "output_type": "stream",
     "text": [
      "0\n",
      "16\n",
      "256\n",
      "1296\n",
      "4096\n",
      "10000\n",
      "20736\n",
      "38416\n",
      "65536\n",
      "104976\n"
     ]
    }
   ],
   "source": [
    "for v in filter(lambda x: x % 2 == 0, range(20)):\n",
    "    print(v **4)"
   ]
  },
  {
   "cell_type": "markdown",
   "metadata": {},
   "source": [
    "- mezclando colecciones con *zip*\n",
    "*zip* itera en paralelo en las colecciones, devolviendo los valores que están en las mismas posiciones. Cuando una colección (o iterador) se acaba, para la iteración."
   ]
  },
  {
   "cell_type": "code",
   "execution_count": 64,
   "metadata": {},
   "outputs": [
    {
     "name": "stdout",
     "output_type": "stream",
     "text": [
      "2 a\n",
      "3 b\n",
      "4 c\n",
      "5 d\n",
      "6 e\n"
     ]
    }
   ],
   "source": [
    "l_a = [2, 3, 4, 5, 6]\n",
    "l_b = ['a', 'b', 'c', 'd', 'e']\n",
    "for a, b in zip(l_a, l_b):\n",
    "    print(a, b)"
   ]
  },
  {
   "cell_type": "markdown",
   "metadata": {},
   "source": [
    "- iteradores especializados: paquete *itertools*"
   ]
  },
  {
   "cell_type": "code",
   "execution_count": 67,
   "metadata": {},
   "outputs": [
    {
     "name": "stdout",
     "output_type": "stream",
     "text": [
      "(0, 1, 2) (0, 2, 1) (1, 0, 2) (1, 2, 0) (2, 0, 1) (2, 1, 0)\n"
     ]
    }
   ],
   "source": [
    "# Permutaciones\n",
    "import itertools as it\n",
    "p = it.permutations(range(3))\n",
    "print(*p)"
   ]
  },
  {
   "cell_type": "code",
   "execution_count": 69,
   "metadata": {},
   "outputs": [
    {
     "data": {
      "text/plain": [
       "[('a', 'b', 'c', 'd'),\n",
       " ('a', 'b', 'd', 'c'),\n",
       " ('a', 'c', 'b', 'd'),\n",
       " ('a', 'c', 'd', 'b'),\n",
       " ('a', 'd', 'b', 'c'),\n",
       " ('a', 'd', 'c', 'b'),\n",
       " ('b', 'a', 'c', 'd'),\n",
       " ('b', 'a', 'd', 'c'),\n",
       " ('b', 'c', 'a', 'd'),\n",
       " ('b', 'c', 'd', 'a'),\n",
       " ('b', 'd', 'a', 'c'),\n",
       " ('b', 'd', 'c', 'a'),\n",
       " ('c', 'a', 'b', 'd'),\n",
       " ('c', 'a', 'd', 'b'),\n",
       " ('c', 'b', 'a', 'd'),\n",
       " ('c', 'b', 'd', 'a'),\n",
       " ('c', 'd', 'a', 'b'),\n",
       " ('c', 'd', 'b', 'a'),\n",
       " ('d', 'a', 'b', 'c'),\n",
       " ('d', 'a', 'c', 'b'),\n",
       " ('d', 'b', 'a', 'c'),\n",
       " ('d', 'b', 'c', 'a'),\n",
       " ('d', 'c', 'a', 'b'),\n",
       " ('d', 'c', 'b', 'a')]"
      ]
     },
     "execution_count": 69,
     "metadata": {},
     "output_type": "execute_result"
    }
   ],
   "source": [
    "list(it.permutations(['a','b','c','d']))"
   ]
  },
  {
   "cell_type": "code",
   "execution_count": 72,
   "metadata": {},
   "outputs": [
    {
     "data": {
      "text/plain": [
       "[(0, 1), (0, 2), (0, 3), (1, 2), (1, 3), (2, 3)]"
      ]
     },
     "execution_count": 72,
     "metadata": {},
     "output_type": "execute_result"
    }
   ],
   "source": [
    "# combinaciones\n",
    "list(it.combinations(range(4), 2))"
   ]
  },
  {
   "cell_type": "code",
   "execution_count": 75,
   "metadata": {},
   "outputs": [
    {
     "name": "stdout",
     "output_type": "stream",
     "text": [
      "[(2, 10), (4, 8), (5, 7)]\n"
     ]
    }
   ],
   "source": [
    "# ejemplo, calcular todas las sumas entre 2 elementos \n",
    "# de una lista que sumen 12\n",
    "list = [1, 2, 4, 5, 7, 8, 9, 10, 12]\n",
    "s = 12\n",
    "r = [(x, y) for x, y in it.combinations(list, 2) if x+y == 12]\n",
    "print(r)"
   ]
  },
  {
   "cell_type": "code",
   "execution_count": 76,
   "metadata": {},
   "outputs": [
    {
     "name": "stdout",
     "output_type": "stream",
     "text": [
      "('a', 0) ('a', 1) ('a', 2) ('b', 0) ('b', 1) ('b', 2) ('c', 0) ('c', 1) ('c', 2)\n"
     ]
    }
   ],
   "source": [
    "# producto cartesiano entre dos conjuntos\n",
    "p = it.product('abc', range(3))\n",
    "print(*p)"
   ]
  },
  {
   "cell_type": "code",
   "execution_count": 103,
   "metadata": {},
   "outputs": [
    {
     "name": "stdout",
     "output_type": "stream",
     "text": [
      "a0,b1,c2,d3,a4,b5,c6,d7,a8,b9,c10,d11,a12,b13,c14,d15,a16,b17,c18,d19,"
     ]
    }
   ],
   "source": [
    "# generador cíclico\n",
    "for a, b in zip(it.cycle('abcd'), range(20)):\n",
    "    print(a+str(b), end=',')"
   ]
  },
  {
   "cell_type": "code",
   "execution_count": 109,
   "metadata": {},
   "outputs": [
    {
     "name": "stdout",
     "output_type": "stream",
     "text": [
      "0 1 3 6 10 15 21 28 36 45 55 66 78 91 105 120 136 153 171 190\n"
     ]
    }
   ],
   "source": [
    "# acumulador\n",
    "print(*it.accumulate(range(20), lambda x,y: x+y))"
   ]
  },
  {
   "cell_type": "code",
   "execution_count": 115,
   "metadata": {},
   "outputs": [
    {
     "name": "stdout",
     "output_type": "stream",
     "text": [
      "a ab abc abcd abcde abcdef abcdefg\n"
     ]
    }
   ],
   "source": [
    "print(*it.accumulate('abcdefg', (lambda x,y: x+y)))"
   ]
  },
  {
   "cell_type": "code",
   "execution_count": 124,
   "metadata": {},
   "outputs": [
    {
     "name": "stdout",
     "output_type": "stream",
     "text": [
      "[78, 9, 59, 66, 78, 6, 31, 64, 67, 40, 88, 25, 9, 71, 67, 46, 14, 36, 100, 51]\n",
      "run_max 78 78 78 78 78 78 78 78 78 78 88 88 88 88 88 88 88 88 100 100\n",
      "run_min 78 9 9 9 9 6 6 6 6 6 6 6 6 6 6 6 6 6 6 6\n",
      "run_tot 78 87 146 212 290 296 327 391 458 498 586 611 620 691 758 804 818 854 954 1005\n"
     ]
    }
   ],
   "source": [
    "import random\n",
    "random.seed(10)\n",
    "l = [random.randint(5, 100) for _ in range(20)]\n",
    "print(l)\n",
    "# running max\n",
    "print('run_max', *it.accumulate(l, lambda x,y: max(x,y)))\n",
    "print('run_min', *it.accumulate(l, lambda x,y: min(x,y)))\n",
    "print('run_tot', *it.accumulate(l, lambda x,y: x+y))"
   ]
  },
  {
   "cell_type": "code",
   "execution_count": 130,
   "metadata": {},
   "outputs": [
    {
     "name": "stdout",
     "output_type": "stream",
     "text": [
      "rest 0\n",
      "- 25 35\n",
      "rest 1\n",
      "- 56 91 71 66 26 91\n",
      "rest 2\n",
      "- 62 72 82 67\n",
      "rest 3\n",
      "- 38 68 68 13\n",
      "rest 4\n",
      "- 79 54 99 39\n"
     ]
    }
   ],
   "source": [
    "# groupby\n",
    "l = [random.randint(5, 100) for _ in range(20)]\n",
    "l.sort(key = lambda x: x % 5)\n",
    "for k, g in it.groupby(l, lambda x: x % 5):\n",
    "    print(\"rest\", k)\n",
    "    print(\"-\", *g)\n"
   ]
  },
  {
   "cell_type": "markdown",
   "metadata": {},
   "source": [
    "### Expresiones generadoras\n",
    "Las expresiones generadoras son el equivalente a las comprehensions, pero usando iteradores. Esto significa que se generan los elementos en vez de las colecciones."
   ]
  },
  {
   "cell_type": "code",
   "execution_count": 78,
   "metadata": {},
   "outputs": [
    {
     "name": "stdout",
     "output_type": "stream",
     "text": [
      "338350\n"
     ]
    }
   ],
   "source": [
    "# Calculemos la suma de los cuadrados de los primeros 100 numeros\n",
    "valores = [x**2 for x in range(101)]\n",
    "print(sum(valores))"
   ]
  },
  {
   "cell_type": "code",
   "execution_count": 83,
   "metadata": {},
   "outputs": [
    {
     "name": "stdout",
     "output_type": "stream",
     "text": [
      "<generator object <genexpr> at 0x7ff138bbe830>\n",
      "338350\n"
     ]
    }
   ],
   "source": [
    "# construir la lista 'valores' es un gasto de tiempo y espacio\n",
    "valores2 = (x **2 for x in range(101))\n",
    "print(valores2)\n",
    "print(sum(valores2))"
   ]
  },
  {
   "cell_type": "code",
   "execution_count": 86,
   "metadata": {},
   "outputs": [
    {
     "name": "stdout",
     "output_type": "stream",
     "text": [
      "67620\n"
     ]
    }
   ],
   "source": [
    "l1 = range(0, 120, 5)\n",
    "l2 = range(2, 1000, 3)\n",
    "print(sum(x*y for x, y in zip(l1, l2)))"
   ]
  },
  {
   "cell_type": "markdown",
   "metadata": {},
   "source": [
    "Un generador es una receta para construir valores, en vez de una lista, que es una colección de valores."
   ]
  },
  {
   "cell_type": "code",
   "execution_count": 89,
   "metadata": {},
   "outputs": [
    {
     "name": "stdout",
     "output_type": "stream",
     "text": [
      "0,1,2,3,4,5,6,7,8,9,10,11,12,13,14,15,16,17,18,19,20,21,"
     ]
    }
   ],
   "source": [
    "# 'count' genera valores sin limites\n",
    "for i in it.count():\n",
    "    print(i, end=\",\")\n",
    "    if i > 20:\n",
    "        break"
   ]
  },
  {
   "cell_type": "code",
   "execution_count": 93,
   "metadata": {},
   "outputs": [
    {
     "name": "stdout",
     "output_type": "stream",
     "text": [
      "1,11,13,17,19,23,29,31,37,41,"
     ]
    }
   ],
   "source": [
    "# 'count' permite generar hasta que se cumpla una condición\n",
    "# veamos una idea como la criba de Erastosthenos\n",
    "factors = [2, 3, 5, 7]\n",
    "G = (i for i in it.count() if all(i % n > 0 for n in factors))\n",
    "for val in G:\n",
    "    print(val, end=',')\n",
    "    if val > 40:\n",
    "        break"
   ]
  },
  {
   "cell_type": "markdown",
   "metadata": {},
   "source": [
    "Una diferencia importante entre expresiones generadoras y listas es que una lista se puede usar muchas veces mientras que un generador solamente una vez."
   ]
  },
  {
   "cell_type": "code",
   "execution_count": 96,
   "metadata": {},
   "outputs": [
    {
     "name": "stdout",
     "output_type": "stream",
     "text": [
      "0,1,2,3,4,5,6,7,8,9,\n",
      "0,1,2,3,4,5,6,7,8,9,"
     ]
    }
   ],
   "source": [
    "l1 = [x for x in range(10)]\n",
    "for v in l1:\n",
    "    print(v, end=',')\n",
    "print('')\n",
    "for v in l1:\n",
    "    print(v, end=',')"
   ]
  },
  {
   "cell_type": "code",
   "execution_count": 98,
   "metadata": {},
   "outputs": [
    {
     "name": "stdout",
     "output_type": "stream",
     "text": [
      "0,1,2,3,4,5,6,7,8,9,\n"
     ]
    }
   ],
   "source": [
    "l2 = (x for x in range(10))\n",
    "for v in l2:\n",
    "    print(v, end=',')\n",
    "print('')\n",
    "for v in l2:\n",
    "    print(v, end=',')"
   ]
  },
  {
   "cell_type": "code",
   "execution_count": null,
   "metadata": {},
   "outputs": [],
   "source": []
  }
 ],
 "metadata": {
  "kernelspec": {
   "display_name": "Python 3",
   "language": "python",
   "name": "python3"
  },
  "language_info": {
   "codemirror_mode": {
    "name": "ipython",
    "version": 3
   },
   "file_extension": ".py",
   "mimetype": "text/x-python",
   "name": "python",
   "nbconvert_exporter": "python",
   "pygments_lexer": "ipython3",
   "version": "3.6.9"
  }
 },
 "nbformat": 4,
 "nbformat_minor": 2
}
